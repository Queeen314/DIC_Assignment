{
 "cells": [
  {
   "cell_type": "markdown",
   "metadata": {},
   "source": [
    "# 【問題1】コンペティション内容の確認"
   ]
  },
  {
   "cell_type": "markdown",
   "metadata": {},
   "source": [
    "- 何を学習し、何を予測するのか  \n",
    "各顧客がお金を返済できる確率  \n",
    "- どのようなファイルを作りKaggleに提出するか  \n",
    "test setの各SK_ID_CURRに対して、TARGET変数の確率を予測し、ヘッダー付き以下のように提出する。  \n",
    "SK_ID_CURR,TARGET  \n",
    "100001,0.1  \n",
    "100005,0.9  \n",
    "100013,0.2  \n",
    "etc.  \n",
    "- 提出されたものはどういった指標値で評価されるのか  \n",
    "area under the ROC curve"
   ]
  },
  {
   "cell_type": "markdown",
   "metadata": {},
   "source": [
    "# 【問題2】学習と検証"
   ]
  },
  {
   "cell_type": "markdown",
   "metadata": {},
   "source": [
    "データを簡単に分析、前処理し、学習、検証するまでの一連の流れを作成・実行してください。  \n",
    "検証にはこのコンペティションで使用される評価指標を用いるようにしてください。学習に用いる手法は指定しません。"
   ]
  },
  {
   "cell_type": "code",
   "execution_count": 1,
   "metadata": {},
   "outputs": [],
   "source": [
    "import numpy as np\n",
    "import pandas as pd\n",
    "from sklearn.model_selection import train_test_split\n",
    "from sklearn.preprocessing import StandardScaler\n",
    "from sklearn.linear_model import LogisticRegression\n",
    "from sklearn.metrics import roc_auc_score"
   ]
  },
  {
   "cell_type": "code",
   "execution_count": 2,
   "metadata": {},
   "outputs": [],
   "source": [
    "#データの読み込み\n",
    "df = pd.read_csv('application_train.csv')"
   ]
  },
  {
   "cell_type": "code",
   "execution_count": 3,
   "metadata": {
    "scrolled": true
   },
   "outputs": [],
   "source": [
    "#データの半数以上が欠損値の場合、特徴量を削除\n",
    "drop_df = df.dropna(thresh=df.shape[0]*0.5, axis=1)\n",
    "\n",
    "#欠損値を含む行を削除\n",
    "drop_df_dropna = drop_df.dropna(axis=0)"
   ]
  },
  {
   "cell_type": "code",
   "execution_count": 4,
   "metadata": {},
   "outputs": [
    {
     "data": {
      "text/plain": [
       "EXT_SOURCE_3                   0.169535\n",
       "EXT_SOURCE_2                   0.152174\n",
       "DAYS_EMPLOYED                  0.067902\n",
       "DAYS_BIRTH                     0.061618\n",
       "REGION_RATING_CLIENT_W_CITY    0.050473\n",
       "REGION_RATING_CLIENT           0.048078\n",
       "FLOORSMAX_AVG                  0.046205\n",
       "FLOORSMAX_MEDI                 0.046030\n",
       "DAYS_LAST_PHONE_CHANGE         0.045702\n",
       "FLOORSMAX_MODE                 0.045603\n",
       "Name: TARGET, dtype: float64"
      ]
     },
     "execution_count": 4,
     "metadata": {},
     "output_type": "execute_result"
    }
   ],
   "source": [
    "corr_mat1 = drop_df_dropna.corr(method='pearson')\n",
    "abs_corr_mat_SalePrice = np.fabs(corr_mat1['TARGET']).drop('TARGET')\n",
    "abs_corr_mat_SalePrice.nlargest(10)"
   ]
  },
  {
   "cell_type": "code",
   "execution_count": 5,
   "metadata": {},
   "outputs": [],
   "source": [
    "#特徴量と正解ラベルを目的関数を分割\n",
    "df_train = drop_df_dropna.drop('TARGET', axis=1)\n",
    "df_test_valid = drop_df_dropna['TARGET']"
   ]
  },
  {
   "cell_type": "code",
   "execution_count": 6,
   "metadata": {},
   "outputs": [],
   "source": [
    "X_train, X_test, y_train, y_test = train_test_split(df_train, df_test_valid, test_size=0.25, random_state=1, stratify=df_test_valid)"
   ]
  },
  {
   "cell_type": "code",
   "execution_count": 7,
   "metadata": {},
   "outputs": [],
   "source": [
    "#相関係数が高かった上位3つの特徴量を抽出\n",
    "X_train_top3 = X_train.loc[:, ['EXT_SOURCE_3', 'EXT_SOURCE_2', 'DAYS_EMPLOYED']]\n",
    "X_test_top3 = X_test.loc[:, ['EXT_SOURCE_3', 'EXT_SOURCE_2', 'DAYS_EMPLOYED']]"
   ]
  },
  {
   "cell_type": "code",
   "execution_count": 8,
   "metadata": {
    "scrolled": true
   },
   "outputs": [
    {
     "name": "stdout",
     "output_type": "stream",
     "text": [
      "[0 0 0 ... 0 0 0]\n"
     ]
    },
    {
     "name": "stderr",
     "output_type": "stream",
     "text": [
      "/opt/anaconda3/lib/python3.7/site-packages/sklearn/linear_model/logistic.py:432: FutureWarning: Default solver will be changed to 'lbfgs' in 0.22. Specify a solver to silence this warning.\n",
      "  FutureWarning)\n"
     ]
    },
    {
     "data": {
      "text/plain": [
       "0.5"
      ]
     },
     "execution_count": 8,
     "metadata": {},
     "output_type": "execute_result"
    }
   ],
   "source": [
    "#ロジスティック回帰クラスをインスタンス化させ、学習\n",
    "lr = LogisticRegression(C=100.0, random_state=1)\n",
    "lr.fit(X_train_top3, y_train)\n",
    "\n",
    "#推定\n",
    "y_pred_LR_GrLivArea = lr.predict(X_test_top3)\n",
    "print(y_pred_LR_GrLivArea)\n",
    "\n",
    "#AUCを計算\n",
    "roc_auc_score(y_test, y_pred_LR_GrLivArea)"
   ]
  },
  {
   "cell_type": "markdown",
   "metadata": {},
   "source": [
    "# 【問題3】テストデータに対する推定"
   ]
  },
  {
   "cell_type": "markdown",
   "metadata": {},
   "source": [
    "テストデータ（application_test.csv）に対して推定を行い、Kaggleに提出を行ってください。  \n",
    "正しく提出が行えていれば、精度は低くても構いません。"
   ]
  },
  {
   "cell_type": "code",
   "execution_count": 9,
   "metadata": {},
   "outputs": [],
   "source": [
    "#データの読み込み\n",
    "df_test = pd.read_csv('application_test.csv')"
   ]
  },
  {
   "cell_type": "code",
   "execution_count": 10,
   "metadata": {},
   "outputs": [],
   "source": [
    "#データの半数以上が欠損値の場合、特徴量を削除\n",
    "drop_df_test = df_test.dropna(thresh=df_test.shape[0]*0.5, axis=1)\n",
    "\n",
    "#欠損値を含む行を削除\n",
    "drop_df_dropna_test = drop_df_test.dropna(axis=0)"
   ]
  },
  {
   "cell_type": "code",
   "execution_count": 11,
   "metadata": {},
   "outputs": [],
   "source": [
    "#相関係数が高かった上位3つの特徴量を抽出\n",
    "df_test_top3 = drop_df_dropna_test.loc[:, ['EXT_SOURCE_3', 'EXT_SOURCE_2', 'DAYS_EMPLOYED']]\n",
    "\n",
    "df_test_top3 = df_test_top3.fillna(df_test_top3.mean())"
   ]
  },
  {
   "cell_type": "code",
   "execution_count": 12,
   "metadata": {},
   "outputs": [],
   "source": [
    "#上記の特徴量を標準化する\n",
    "stdsc = StandardScaler()\n",
    "stdsc.fit(df_test_top3)\n",
    "\n",
    "X_test_std2 = stdsc.transform(df_test_top3)"
   ]
  },
  {
   "cell_type": "code",
   "execution_count": 13,
   "metadata": {},
   "outputs": [
    {
     "name": "stdout",
     "output_type": "stream",
     "text": [
      "[0 1 1 ... 1 1 0]\n"
     ]
    }
   ],
   "source": [
    "#推定\n",
    "y_pred_LR_GrLivArea2 = lr.predict(X_test_std2)\n",
    "print(y_pred_LR_GrLivArea2)"
   ]
  },
  {
   "cell_type": "code",
   "execution_count": 14,
   "metadata": {},
   "outputs": [
    {
     "name": "stdout",
     "output_type": "stream",
     "text": [
      "[0 1]\n",
      "[4891 3412]\n"
     ]
    }
   ],
   "source": [
    "#推定された目的ラベルの0,1の数を表示\n",
    "u, counts = np.unique(y_pred_LR_GrLivArea2, return_counts=True)\n",
    "print(u)\n",
    "print(counts)"
   ]
  },
  {
   "cell_type": "code",
   "execution_count": 15,
   "metadata": {},
   "outputs": [],
   "source": [
    "#提出用のフォーマット作成\n",
    "df_submission = pd.concat([df_test['SK_ID_CURR'], pd.Series(y_pred_LR_GrLivArea2, name='TARGET')], axis=1)\n",
    "df_submission.to_csv('submission.csv', index=False)"
   ]
  },
  {
   "cell_type": "markdown",
   "metadata": {},
   "source": [
    "# 【問題4】特徴量エンジニアリング"
   ]
  },
  {
   "cell_type": "markdown",
   "metadata": {},
   "source": [
    "精度を上げるために以下のような観点で 特徴量エンジニアリング（Feature Engineering） を行ってください。  \n",
    "- どの特徴量を使うか\n",
    "- どう前処理をするか  \n",
    "\n",
    "何をした時に検証データに対する評価指標がどのようになったかをまとめてください。最低5パターンの学習・検証を行ってください。  \n",
    "精度が高かったものに関してはテストデータに対しても推定を行い、Kaggleに提出を行ってください。"
   ]
  },
  {
   "cell_type": "markdown",
   "metadata": {},
   "source": [
    "- パターン1  \n",
    "問題2で学習の際に使用した特徴量の多項式特徴量を作成する"
   ]
  },
  {
   "cell_type": "code",
   "execution_count": 16,
   "metadata": {},
   "outputs": [
    {
     "name": "stderr",
     "output_type": "stream",
     "text": [
      "/opt/anaconda3/lib/python3.7/site-packages/sklearn/utils/deprecation.py:66: DeprecationWarning: Class Imputer is deprecated; Imputer was deprecated in version 0.20 and will be removed in 0.22. Import impute.SimpleImputer from sklearn instead.\n",
      "  warnings.warn(msg, category=DeprecationWarning)\n"
     ]
    },
    {
     "name": "stdout",
     "output_type": "stream",
     "text": [
      "Polynomial Features shape:  (307511, 20)\n"
     ]
    }
   ],
   "source": [
    "# 多項式特徴量を作成する\n",
    "poly_features = df[['EXT_SOURCE_2', 'EXT_SOURCE_3', 'DAYS_EMPLOYED', 'TARGET']]\n",
    "\n",
    "# imputer for handling missing values\n",
    "from sklearn.preprocessing import Imputer\n",
    "imputer = Imputer(strategy = 'median')\n",
    "\n",
    "poly_target = poly_features['TARGET']\n",
    "\n",
    "poly_features = poly_features.drop(columns = ['TARGET'])\n",
    "\n",
    "# Need to impute missing values\n",
    "poly_features = imputer.fit_transform(poly_features)\n",
    "\n",
    "from sklearn.preprocessing import PolynomialFeatures\n",
    "                                  \n",
    "# Create the polynomial object with specified degree\n",
    "poly_transformer = PolynomialFeatures(degree = 3)\n",
    "\n",
    "# Train the polynomial features\n",
    "poly_transformer.fit(poly_features)\n",
    "\n",
    "# Transform the features\n",
    "poly_features = poly_transformer.transform(poly_features)\n",
    "print('Polynomial Features shape: ', poly_features.shape)"
   ]
  },
  {
   "cell_type": "code",
   "execution_count": 17,
   "metadata": {},
   "outputs": [],
   "source": [
    "X_train1, X_test1, y_train1, y_test1 = train_test_split(poly_features, poly_target, test_size=0.2)"
   ]
  },
  {
   "cell_type": "code",
   "execution_count": 18,
   "metadata": {},
   "outputs": [
    {
     "name": "stderr",
     "output_type": "stream",
     "text": [
      "/opt/anaconda3/lib/python3.7/site-packages/sklearn/linear_model/logistic.py:432: FutureWarning: Default solver will be changed to 'lbfgs' in 0.22. Specify a solver to silence this warning.\n",
      "  FutureWarning)\n"
     ]
    },
    {
     "name": "stdout",
     "output_type": "stream",
     "text": [
      "[[0.9454783  0.0545217 ]\n",
      " [0.49999963 0.50000037]\n",
      " [0.49999958 0.50000042]\n",
      " ...\n",
      " [0.49999993 0.50000007]\n",
      " [0.9454783  0.0545217 ]\n",
      " [0.49999981 0.50000019]]\n",
      "[0 1 1 ... 1 0 1]\n"
     ]
    },
    {
     "data": {
      "text/plain": [
       "0.5347651853548843"
      ]
     },
     "execution_count": 18,
     "metadata": {},
     "output_type": "execute_result"
    }
   ],
   "source": [
    "# ロジスティック回帰クラスをインスタンス化させ、学習\n",
    "lr = LogisticRegression(C=100.0, random_state=1)\n",
    "lr.fit(X_train1, y_train1)\n",
    "\n",
    "# 推定\n",
    "probability_proba = lr.predict_proba(X_test1)\n",
    "print(probability_proba)\n",
    "\n",
    "y_pred1 = lr.predict(X_test1)\n",
    "print(y_pred1)\n",
    "\n",
    "#AUCを計算\n",
    "roc_auc_score(y_test1, y_pred1)"
   ]
  },
  {
   "cell_type": "markdown",
   "metadata": {},
   "source": [
    "問題2で検証を行なった結果(AUC:0.5)に比べて、予測精度が向上した(AUC:0.531)。"
   ]
  },
  {
   "cell_type": "markdown",
   "metadata": {},
   "source": [
    "- パターン2  \n",
    "学習に使用する特徴量を変更する  \n",
    "問題2では元の特徴量に前処理を行い、その特徴量についてTARGETに関して相関係数が高い上位3つの特徴量を用いて  \n",
    "学習、推定、評価を行なったが、今回は上位5つの特徴量を用いる"
   ]
  },
  {
   "cell_type": "code",
   "execution_count": 19,
   "metadata": {},
   "outputs": [],
   "source": [
    "#相関係数が高かった上位5つの特徴量を抽出\n",
    "X_train_top5 = X_train.loc[:, ['EXT_SOURCE_3', 'EXT_SOURCE_2', 'DAYS_EMPLOYED', 'DAYS_BIRTH', 'REGION_RATING_CLIENT_W_CITY']]\n",
    "X_test_top5 = X_test.loc[:, ['EXT_SOURCE_3', 'EXT_SOURCE_2', 'DAYS_EMPLOYED', 'DAYS_BIRTH', 'REGION_RATING_CLIENT_W_CITY']]"
   ]
  },
  {
   "cell_type": "code",
   "execution_count": 20,
   "metadata": {},
   "outputs": [
    {
     "name": "stdout",
     "output_type": "stream",
     "text": [
      "[0 0 0 ... 0 0 0]\n",
      "0.5\n"
     ]
    },
    {
     "name": "stderr",
     "output_type": "stream",
     "text": [
      "/opt/anaconda3/lib/python3.7/site-packages/sklearn/linear_model/logistic.py:432: FutureWarning: Default solver will be changed to 'lbfgs' in 0.22. Specify a solver to silence this warning.\n",
      "  FutureWarning)\n"
     ]
    }
   ],
   "source": [
    "#ロジスティック回帰クラスをインスタンス化させ、学習\n",
    "lr = LogisticRegression(C=100.0, random_state=1)\n",
    "lr.fit(X_train_top5, y_train)\n",
    "\n",
    "#推定\n",
    "y_pred2 = lr.predict(X_test_top5)\n",
    "print(y_pred2)\n",
    "\n",
    "#AUCを計算\n",
    "print(roc_auc_score(y_test, y_pred2))"
   ]
  },
  {
   "cell_type": "markdown",
   "metadata": {},
   "source": [
    "問題2で学習を行う際に使用した特徴量にさらに2つの特徴量(DAYS_BIRTH, REGION_RATING_CLIENT_W_CITY)を加えたが、  \n",
    "AUCの値は向上しなかった。"
   ]
  },
  {
   "cell_type": "markdown",
   "metadata": {},
   "source": [
    "- パターン3  \n",
    "前処理の際に、標準化を行う"
   ]
  },
  {
   "cell_type": "code",
   "execution_count": 21,
   "metadata": {},
   "outputs": [],
   "source": [
    "#上記の特徴量を標準化する\n",
    "stdsc = StandardScaler()\n",
    "stdsc.fit(X_train_top3)\n",
    "\n",
    "X_train_std = stdsc.transform(X_train_top3)\n",
    "X_test_std = stdsc.transform(X_test_top3)"
   ]
  },
  {
   "cell_type": "code",
   "execution_count": 22,
   "metadata": {},
   "outputs": [
    {
     "name": "stdout",
     "output_type": "stream",
     "text": [
      "[0 0 0 ... 0 0 0]\n"
     ]
    },
    {
     "name": "stderr",
     "output_type": "stream",
     "text": [
      "/opt/anaconda3/lib/python3.7/site-packages/sklearn/linear_model/logistic.py:432: FutureWarning: Default solver will be changed to 'lbfgs' in 0.22. Specify a solver to silence this warning.\n",
      "  FutureWarning)\n"
     ]
    },
    {
     "data": {
      "text/plain": [
       "0.5006373486297004"
      ]
     },
     "execution_count": 22,
     "metadata": {},
     "output_type": "execute_result"
    }
   ],
   "source": [
    "#ロジスティック回帰クラスをインスタンス化させ、学習\n",
    "lr = LogisticRegression(C=100.0, random_state=1)\n",
    "lr.fit(X_train_std, y_train)\n",
    "\n",
    "#推定\n",
    "y_pred3 = lr.predict(X_test_std)\n",
    "print(y_pred3)\n",
    "\n",
    "#AUCを計算\n",
    "roc_auc_score(y_test, y_pred3)"
   ]
  },
  {
   "cell_type": "markdown",
   "metadata": {},
   "source": [
    "問題2で学習を行う際に使用した特徴量を標準化して、学習/推定を行なった結果、  \n",
    "AUDの値がわずかに向上した。"
   ]
  },
  {
   "cell_type": "markdown",
   "metadata": {},
   "source": [
    "- パターン4  \n",
    "新しい特徴量を作成し、その特徴量を用いて学習、推定を行う"
   ]
  },
  {
   "cell_type": "code",
   "execution_count": 23,
   "metadata": {},
   "outputs": [],
   "source": [
    "df_train_domain = drop_df_dropna.copy()\n",
    "\n",
    "df_train_domain['CREDIT_INCOME_PERCENT'] = df_train_domain['AMT_CREDIT'] / df_train_domain['AMT_INCOME_TOTAL']\n",
    "df_train_domain['ANNUITY_INCOME_PERCENT'] = df_train_domain['AMT_ANNUITY'] / df_train_domain['AMT_INCOME_TOTAL']\n",
    "df_train_domain['CREDIT_TERM'] = df_train_domain['AMT_ANNUITY'] / df_train_domain['AMT_CREDIT']\n",
    "df_train_domain['DAYS_EMPLOYED_PERCENT'] = df_train_domain['DAYS_EMPLOYED'] / df_train_domain['DAYS_BIRTH']"
   ]
  },
  {
   "cell_type": "code",
   "execution_count": 24,
   "metadata": {},
   "outputs": [],
   "source": [
    "df_train2 = df_train_domain.drop('TARGET', axis=1)\n",
    "df_test_valid2 = df_train_domain['TARGET']\n",
    "X_train2, X_test2, y_train2, y_test2 = train_test_split(df_train2, df_test_valid2, test_size=0.2)\n",
    "X_train2 = X_train2.loc[:, ['CREDIT_INCOME_PERCENT', 'ANNUITY_INCOME_PERCENT', 'CREDIT_TERM', 'DAYS_EMPLOYED_PERCENT']]\n",
    "X_test2 = X_test2.loc[:, ['CREDIT_INCOME_PERCENT', 'ANNUITY_INCOME_PERCENT', 'CREDIT_TERM', 'DAYS_EMPLOYED_PERCENT']]"
   ]
  },
  {
   "cell_type": "code",
   "execution_count": 25,
   "metadata": {},
   "outputs": [
    {
     "name": "stdout",
     "output_type": "stream",
     "text": [
      "[0 0 0 ... 0 0 0]\n"
     ]
    },
    {
     "name": "stderr",
     "output_type": "stream",
     "text": [
      "/opt/anaconda3/lib/python3.7/site-packages/sklearn/linear_model/logistic.py:432: FutureWarning: Default solver will be changed to 'lbfgs' in 0.22. Specify a solver to silence this warning.\n",
      "  FutureWarning)\n"
     ]
    },
    {
     "data": {
      "text/plain": [
       "0.5"
      ]
     },
     "execution_count": 25,
     "metadata": {},
     "output_type": "execute_result"
    }
   ],
   "source": [
    "#ロジスティック回帰クラスをインスタンス化させ、学習\n",
    "lr = LogisticRegression(C=100.0, random_state=1)\n",
    "lr.fit(X_train2, y_train2)\n",
    "\n",
    "#推定\n",
    "y_pred3 = lr.predict(X_test2)\n",
    "print(y_pred3)\n",
    "\n",
    "#AUCを計算\n",
    "roc_auc_score(y_test2, y_pred3)"
   ]
  },
  {
   "cell_type": "markdown",
   "metadata": {},
   "source": [
    "新しい特徴量を4つ作成して学習/推定を行なったが、\n",
    "問題2の結果に比べてACUの値に変化はなかった。"
   ]
  },
  {
   "cell_type": "markdown",
   "metadata": {},
   "source": [
    "- パターン5  \n",
    "パターン4で作成した新しい特徴量の多項式特徴量を作成する"
   ]
  },
  {
   "cell_type": "code",
   "execution_count": 26,
   "metadata": {},
   "outputs": [
    {
     "name": "stderr",
     "output_type": "stream",
     "text": [
      "/opt/anaconda3/lib/python3.7/site-packages/sklearn/utils/deprecation.py:66: DeprecationWarning: Class Imputer is deprecated; Imputer was deprecated in version 0.20 and will be removed in 0.22. Import impute.SimpleImputer from sklearn instead.\n",
      "  warnings.warn(msg, category=DeprecationWarning)\n"
     ]
    },
    {
     "name": "stdout",
     "output_type": "stream",
     "text": [
      "Polynomial Features shape:  (84575, 35)\n"
     ]
    }
   ],
   "source": [
    "# 多項式特徴量を作成する\n",
    "poly_features2 = df_train_domain[['CREDIT_INCOME_PERCENT', 'ANNUITY_INCOME_PERCENT', 'CREDIT_TERM', 'DAYS_EMPLOYED_PERCENT', 'TARGET']]\n",
    "\n",
    "# imputer for handling missing values\n",
    "imputer = Imputer(strategy = 'median')\n",
    "\n",
    "poly_target = poly_features2['TARGET']\n",
    "\n",
    "poly_features2 = poly_features2.drop(columns = ['TARGET'])\n",
    "\n",
    "# Need to impute missing values\n",
    "poly_features2 = imputer.fit_transform(poly_features2)\n",
    "\n",
    "# Create the polynomial object with specified degree\n",
    "poly_transformer2 = PolynomialFeatures(degree = 3)\n",
    "\n",
    "# Train the polynomial features\n",
    "poly_transformer2.fit(poly_features2)\n",
    "\n",
    "# Transform the features\n",
    "poly_features2 = poly_transformer2.transform(poly_features2)\n",
    "print('Polynomial Features shape: ', poly_features2.shape)"
   ]
  },
  {
   "cell_type": "code",
   "execution_count": 27,
   "metadata": {},
   "outputs": [],
   "source": [
    "X_train3, X_test3, y_train3, y_test3 = train_test_split(poly_features2, poly_target, test_size=0.2)"
   ]
  },
  {
   "cell_type": "code",
   "execution_count": 28,
   "metadata": {},
   "outputs": [
    {
     "name": "stderr",
     "output_type": "stream",
     "text": [
      "/opt/anaconda3/lib/python3.7/site-packages/sklearn/linear_model/logistic.py:432: FutureWarning: Default solver will be changed to 'lbfgs' in 0.22. Specify a solver to silence this warning.\n",
      "  FutureWarning)\n"
     ]
    },
    {
     "name": "stdout",
     "output_type": "stream",
     "text": [
      "[[0.92392192 0.07607808]\n",
      " [0.87895685 0.12104315]\n",
      " [0.91905944 0.08094056]\n",
      " ...\n",
      " [0.91341828 0.08658172]\n",
      " [0.9134569  0.0865431 ]\n",
      " [0.91547692 0.08452308]]\n",
      "[0 0 0 ... 0 0 0]\n"
     ]
    },
    {
     "data": {
      "text/plain": [
       "0.5"
      ]
     },
     "execution_count": 28,
     "metadata": {},
     "output_type": "execute_result"
    }
   ],
   "source": [
    "# ロジスティック回帰クラスをインスタンス化させ、学習\n",
    "lr = LogisticRegression(C=100.0, random_state=1)\n",
    "lr.fit(X_train3, y_train3)\n",
    "\n",
    "# 推定\n",
    "probability_proba2 = lr.predict_proba(X_test3)\n",
    "print(probability_proba2)\n",
    "\n",
    "y_pred4 = lr.predict(X_test3)\n",
    "print(y_pred4)\n",
    "\n",
    "#AUCを計算\n",
    "roc_auc_score(y_test3, y_pred4)"
   ]
  },
  {
   "cell_type": "markdown",
   "metadata": {},
   "source": [
    "パターン4で作成した新しい特徴量4つの多項式特徴量を作成し、学習/推定を行なったが、  \n",
    "AUCの値は問題2の結果と変わらなかった。"
   ]
  }
 ],
 "metadata": {
  "kernelspec": {
   "display_name": "Python 3",
   "language": "python",
   "name": "python3"
  },
  "language_info": {
   "codemirror_mode": {
    "name": "ipython",
    "version": 3
   },
   "file_extension": ".py",
   "mimetype": "text/x-python",
   "name": "python",
   "nbconvert_exporter": "python",
   "pygments_lexer": "ipython3",
   "version": "3.7.4"
  }
 },
 "nbformat": 4,
 "nbformat_minor": 4
}
