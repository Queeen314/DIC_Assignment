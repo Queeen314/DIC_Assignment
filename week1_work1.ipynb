{
 "cells": [
  {
   "cell_type": "markdown",
   "metadata": {
    "colab_type": "text",
    "id": "fNFn6weA9BqD"
   },
   "source": [
    "**【問題1】べき乗の算術演算子を使って作成**\n",
    "\n",
    "べき乗の算術演算子を使用したプログラムを作ってください。\n",
    "雛形として紙を1回折った時の厚さを計算するコードを用意しました。これを43回折った時のコードに書き換えてください。"
   ]
  },
  {
   "cell_type": "code",
   "execution_count": 1,
   "metadata": {
    "colab": {
     "base_uri": "https://localhost:8080/",
     "height": 34
    },
    "colab_type": "code",
    "executionInfo": {
     "elapsed": 891,
     "status": "ok",
     "timestamp": 1585749909006,
     "user": {
      "displayName": "Green Tea",
      "photoUrl": "",
      "userId": "14278808016813371915"
     },
     "user_tz": -540
    },
    "id": "EtxMO4Ik9muA",
    "outputId": "f3409c14-97d2-4b09-b6a7-b38afcc554ea"
   },
   "outputs": [
    {
     "name": "stdout",
     "output_type": "stream",
     "text": [
      "厚さ： 703687441.77664メートル\n"
     ]
    }
   ],
   "source": [
    "THICKNESS = 0.00008\n",
    "folded_thickness = THICKNESS*2**43\n",
    "print(\"厚さ： {}メートル\".format(folded_thickness))"
   ]
  },
  {
   "cell_type": "markdown",
   "metadata": {
    "colab_type": "text",
    "id": "Cdu--n9g-HIn"
   },
   "source": [
    "**【問題2】単位の変換**\n",
    "\n",
    "単位がメートルだと実感が湧きづらいので、◯◯万キロメートル に変換して表示させてください。\n",
    "サンプルとして ◯◯キロメートル に変換したコードを用意したので、参考にして取り組んでください。小数点以下は2桁まで表示されるようにも指定しています。"
   ]
  },
  {
   "cell_type": "code",
   "execution_count": 2,
   "metadata": {
    "colab": {
     "base_uri": "https://localhost:8080/",
     "height": 67
    },
    "colab_type": "code",
    "executionInfo": {
     "elapsed": 871,
     "status": "ok",
     "timestamp": 1585749909009,
     "user": {
      "displayName": "Green Tea",
      "photoUrl": "",
      "userId": "14278808016813371915"
     },
     "user_tz": -540
    },
    "id": "y33ZHTEv_r2j",
    "outputId": "8d104efe-6301-41b7-8f85-e5c39f15c6ec"
   },
   "outputs": [
    {
     "name": "stdout",
     "output_type": "stream",
     "text": [
      "厚さ： 70.37万キロメートル\n",
      "月までの距離: 38.44万キロメートル\n",
      "折った紙は月に到達します\n"
     ]
    }
   ],
   "source": [
    "# メートルをキロメートルに変換して小数点以下2桁で表示する\n",
    "print(\"厚さ： {:.2f}万キロメートル\".format(folded_thickness/10000000))\n",
    "\n",
    "DISTANCE_TO_MOON = 384400000\n",
    "print(\"月までの距離: {:.2f}万キロメートル\".format(DISTANCE_TO_MOON/10000000))\n",
    "if folded_thickness >= DISTANCE_TO_MOON:\n",
    "    print(\"折った紙は月に到達します\")\n",
    "else:\n",
    "    print(\"折った紙は月に到達しません\")"
   ]
  },
  {
   "cell_type": "markdown",
   "metadata": {
    "colab_type": "text",
    "id": "YoDURF3tCXph"
   },
   "source": [
    "**【問題3】for分を使用して作成**\n",
    "\n",
    "次に、for文を使用したプログラムを作ってください。\n",
    "べき乗の算術演算子は使ってはいけません。算術演算子は四則演算（+、-、*、/）のみ使えます。"
   ]
  },
  {
   "cell_type": "code",
   "execution_count": 3,
   "metadata": {
    "colab": {
     "base_uri": "https://localhost:8080/",
     "height": 67
    },
    "colab_type": "code",
    "executionInfo": {
     "elapsed": 858,
     "status": "ok",
     "timestamp": 1585749909011,
     "user": {
      "displayName": "Green Tea",
      "photoUrl": "",
      "userId": "14278808016813371915"
     },
     "user_tz": -540
    },
    "id": "Z-WK5Y5dCmFP",
    "outputId": "9cc897e0-8431-4725-a5fb-fb68a85db4d2"
   },
   "outputs": [
    {
     "name": "stdout",
     "output_type": "stream",
     "text": [
      "厚さ： 70.37万キロメートル\n",
      "月までの距離: 38.44万キロメートル\n",
      "折った紙は月に到達します\n"
     ]
    }
   ],
   "source": [
    "THICKNESS = 0.00008\n",
    "folded_thickness = THICKNESS\n",
    "for n in range(43):\n",
    "    folded_thickness *= 2\n",
    "print(\"厚さ： {:.2f}万キロメートル\".format(folded_thickness/10000000))\n",
    "\n",
    "DISTANCE_TO_MOON = 384400000\n",
    "print(\"月までの距離: {:.2f}万キロメートル\".format(DISTANCE_TO_MOON/10000000))\n",
    "if folded_thickness >= DISTANCE_TO_MOON:\n",
    "    print(\"折った紙は月に到達します\")\n",
    "else:\n",
    "    print(\"折った紙は月に到達しません\")"
   ]
  },
  {
   "cell_type": "markdown",
   "metadata": {
    "colab_type": "text",
    "id": "xaijYEpeD_J_"
   },
   "source": [
    "**【問題4】計算時間の比較**\n",
    "\n",
    "2つの方法はどちらが正しいわけでもありませんが、コードの良さを評価する際には以下のような着目点があります。\n",
    "- 計算速度\n",
    "- メモリの使用量\n",
    "- 可読性\n",
    "- 拡張性\n",
    "- 再利用性\n",
    "\n",
    "今回は計算速度を比較してみます。以下の雛形を使用して、2つの方法の計算時間を出力してください。そして、それぞれの計算時間の関係を簡単に説明してください。どちらの書き方が良さそうでしょうか。なお、変数の定義やprint文など、どちらの方法でも使われている部分は除いた範囲の時間を比較してください。"
   ]
  },
  {
   "cell_type": "code",
   "execution_count": 4,
   "metadata": {
    "colab": {},
    "colab_type": "code",
    "id": "a4TnGJRUEW8M"
   },
   "outputs": [
    {
     "name": "stdout",
     "output_type": "stream",
     "text": [
      "time : 0.0[s]\n"
     ]
    }
   ],
   "source": [
    "import time\n",
    "start = time.time()\n",
    "#####\n",
    "# ここに比較したいコードを貼り付ける\n",
    "#####\n",
    "elapsed_time = time.time() - start\n",
    "print(\"time : {}[s]\".format(elapsed_time))"
   ]
  }
 ],
 "metadata": {
  "colab": {
   "authorship_tag": "ABX9TyP9YHtPkDj+FwQSd469ev1G",
   "collapsed_sections": [],
   "name": "week1_work1.ipynb",
   "provenance": []
  },
  "kernelspec": {
   "display_name": "Python 3",
   "language": "python",
   "name": "python3"
  },
  "language_info": {
   "codemirror_mode": {
    "name": "ipython",
    "version": 3
   },
   "file_extension": ".py",
   "mimetype": "text/x-python",
   "name": "python",
   "nbconvert_exporter": "python",
   "pygments_lexer": "ipython3",
   "version": "3.6.5"
  }
 },
 "nbformat": 4,
 "nbformat_minor": 1
}
