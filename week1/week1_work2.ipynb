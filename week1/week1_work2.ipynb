{
 "cells": [
  {
   "cell_type": "markdown",
   "metadata": {},
   "source": [
    "**【問題1】富士山を超える最小の折る回数**\n",
    "\n",
    "厚さが「富士山(3776m)」を超えるのは何回紙を折った時か計算するプログラムを作成してください。"
   ]
  },
  {
   "cell_type": "code",
   "execution_count": 1,
   "metadata": {},
   "outputs": [
    {
     "name": "stdout",
     "output_type": "stream",
     "text": [
      "最終的な紙の厚さは5368.70912mです。\n",
      "富士山(3776m)の高さを超えるのは26回紙を折った時です。\n"
     ]
    }
   ],
   "source": [
    "THICKNESS = 0.00008\n",
    "HEIGHT_MtFUJI = 3776\n",
    "fold_number = 0\n",
    "\n",
    "folded_thickness = THICKNESS\n",
    "\n",
    "while folded_thickness < HEIGHT_MtFUJI:\n",
    "    folded_thickness *= 2\n",
    "    fold_number += 1\n",
    "\n",
    "print(\"最終的な紙の厚さは{}mです。\".format(folded_thickness))\n",
    "print(\"富士山(3776m)の高さを超えるのは{}回紙を折った時です。\".format(fold_number))"
   ]
  },
  {
   "cell_type": "markdown",
   "metadata": {},
   "source": [
    "**【問題2】任意の厚さに対応した関数を作成**\n",
    "\n",
    "距離を入力すると、何回折った時に超えるかを出力する関数を作成してください。引数として、折る前の厚さ \n",
    "t\n",
    "0\n",
    " も設定できるようにしましょう。\n",
    "この関数を利用して、「最も近い太陽以外の恒星」に到達するには紙を何回折る必要があるか計算してください。「最も近い太陽以外の恒星」の距離は調査してください。"
   ]
  },
  {
   "cell_type": "code",
   "execution_count": 2,
   "metadata": {},
   "outputs": [
    {
     "name": "stdout",
     "output_type": "stream",
     "text": [
      "folded_thickness =  46116860184273.88\n",
      "fold_number =  59\n"
     ]
    },
    {
     "data": {
      "text/plain": [
       "59"
      ]
     },
     "execution_count": 2,
     "metadata": {},
     "output_type": "execute_result"
    }
   ],
   "source": [
    "def calc_fold_num(distance, thickness):\n",
    "    DISTANCE = distance\n",
    "    THICKNESS = thickness\n",
    "    fold_number = 0\n",
    "    \n",
    "    folded_thickness = THICKNESS\n",
    "    \n",
    "    while folded_thickness <= DISTANCE:\n",
    "        folded_thickness *= 2\n",
    "        fold_number += 1\n",
    "    print(\"folded_thickness = \", folded_thickness)\n",
    "    print(\"fold_number = \", fold_number)\n",
    "    return fold_number\n",
    "\n",
    "# 太陽以外で最も近い恒星はプロキシマ・ケンタウリ\n",
    "# 距離:4.22*9.461*10**12\n",
    "calc_fold_num(4.22*9.461*10**12, 0.00008)"
   ]
  },
  {
   "cell_type": "markdown",
   "metadata": {},
   "source": [
    "**【問題3】必要な紙の長さ**  \n",
    "実際のところ身近にある紙は43回はおろか10回も折れません。しかし、大きな紙ほどたくさん折ることができ、トイレットペーパーのような長い紙を一方向に折ることを考えた時の折れる回数を求める公式が存在します。  \n",
    "$L = \\frac{\\pi t_{0}}{6}(2^n + 4)(2^n - 1)$"
   ]
  },
  {
   "cell_type": "code",
   "execution_count": 3,
   "metadata": {},
   "outputs": [
    {
     "name": "stdout",
     "output_type": "stream",
     "text": [
      "folded_thickness =  703687441.77664\n",
      "fold_number =  43\n",
      "厚さ8e-05[m]の紙を43回折るためには3.240919444170781e+21[m]の紙の長さが必要です。\n",
      "folded_thickness =  5368.70912\n",
      "fold_number =  26\n",
      "厚さ8e-05[m]の紙を26回折るためには188646348487.24014[m]の紙の長さが必要です。\n",
      "folded_thickness =  46116860184273.88\n",
      "fold_number =  59\n",
      "厚さ8e-05[m]の紙を59回折るためには1.3919643021679256e+31[m]の紙の長さが必要です。\n"
     ]
    }
   ],
   "source": [
    "import math\n",
    "\n",
    "def calc_needed_paper_length(thickness, fold_number):\n",
    "    needed_paper_length = math.pi*thickness*((2**fold_number) + 4)*((2**fold_number) - 1) / 6\n",
    "    return thickness, fold_number, needed_paper_length\n",
    "#     print(\"厚さ{}[m]の紙を{}回折るためには{}[m]の紙の長さが必要です。\".format(thickness, fold_number, needed_paper_length))\n",
    "\n",
    "\n",
    "# 月に届くために必要な紙の長さを計算\n",
    "fold_number_to_moon = calc_fold_num(384400000, 0.00008)\n",
    "thickness1, fold_number1, needed_paper_length1 = calc_needed_paper_length(0.00008, fold_number_to_moon)\n",
    "print(\"厚さ{}[m]の紙を{}回折るためには{}[m]の紙の長さが必要です。\".format(thickness1, fold_number1, needed_paper_length1))\n",
    "\n",
    "# 富士山に届くために必要な紙の長さを計算\n",
    "fold_number_to_moon = calc_fold_num(3776, 0.00008)\n",
    "thickness2, fold_number2, needed_paper_length2 = calc_needed_paper_length(0.00008, fold_number_to_moon)\n",
    "print(\"厚さ{}[m]の紙を{}回折るためには{}[m]の紙の長さが必要です。\".format(thickness2, fold_number2, needed_paper_length2))\n",
    "\n",
    "# プロキシマ・ケンタウリに届くために必要な紙の長さを計算\n",
    "fold_number_to_moon = calc_fold_num(4.22*9.461*10**12, 0.00008)\n",
    "thickness3, fold_number3, needed_paper_length3 = calc_needed_paper_length(0.00008, fold_number_to_moon)\n",
    "print(\"厚さ{}[m]の紙を{}回折るためには{}[m]の紙の長さが必要です。\".format(thickness3, fold_number3, needed_paper_length3))"
   ]
  }
 ],
 "metadata": {
  "kernelspec": {
   "display_name": "Python 3",
   "language": "python",
   "name": "python3"
  },
  "language_info": {
   "codemirror_mode": {
    "name": "ipython",
    "version": 3
   },
   "file_extension": ".py",
   "mimetype": "text/x-python",
   "name": "python",
   "nbconvert_exporter": "python",
   "pygments_lexer": "ipython3",
   "version": "3.6.5"
  }
 },
 "nbformat": 4,
 "nbformat_minor": 2
}
