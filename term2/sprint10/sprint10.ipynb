{
 "cells": [
  {
   "cell_type": "markdown",
   "metadata": {},
   "source": [
    "# 事前準備"
   ]
  },
  {
   "cell_type": "code",
   "execution_count": 1,
   "metadata": {},
   "outputs": [
    {
     "name": "stderr",
     "output_type": "stream",
     "text": [
      "Using TensorFlow backend.\n"
     ]
    }
   ],
   "source": [
    "# 各種ライブラリのインポート\n",
    "import numpy as np\n",
    "import pandas as pd\n",
    "import matplotlib.pyplot as plt\n",
    "%matplotlib inline\n",
    "from sklearn.preprocessing import OneHotEncoder\n",
    "from sklearn.model_selection import train_test_split\n",
    "from keras.datasets import mnist\n",
    "from sklearn.metrics import accuracy_score"
   ]
  },
  {
   "cell_type": "code",
   "execution_count": 2,
   "metadata": {},
   "outputs": [],
   "source": [
    "# MNISTデータ読み込み\n",
    "(X_train, y_train), (X_test, y_test) = mnist.load_data()"
   ]
  },
  {
   "cell_type": "code",
   "execution_count": 3,
   "metadata": {},
   "outputs": [
    {
     "name": "stdout",
     "output_type": "stream",
     "text": [
      "(60000, 28, 28)\n",
      "(10000, 28, 28)\n",
      "uint8\n"
     ]
    }
   ],
   "source": [
    "print(X_train.shape)\n",
    "print(X_test.shape)\n",
    "print(X_train[0].dtype)"
   ]
  },
  {
   "cell_type": "code",
   "execution_count": 4,
   "metadata": {},
   "outputs": [],
   "source": [
    "# 全てのピクセルを一列にするため、平滑化を行う\n",
    "X_train = X_train.reshape(-1, 784)\n",
    "X_test = X_test.reshape(-1, 784)"
   ]
  },
  {
   "cell_type": "code",
   "execution_count": 5,
   "metadata": {},
   "outputs": [
    {
     "name": "stdout",
     "output_type": "stream",
     "text": [
      "0.0 - 1.0\n",
      "0.0 - 1.0\n"
     ]
    }
   ],
   "source": [
    "#前処理 画像は0~255で表されるが、機械学習をする上では0~1のfloat型で扱う\n",
    "X_train = X_train.astype(np.float)\n",
    "X_test = X_test.astype(np.float)\n",
    "X_train /= 255\n",
    "X_test /= 255\n",
    "print(X_train.min(), \"-\", X_train.max())\n",
    "print(X_test.min(), \"-\", X_test.max())"
   ]
  },
  {
   "cell_type": "code",
   "execution_count": 6,
   "metadata": {},
   "outputs": [
    {
     "name": "stdout",
     "output_type": "stream",
     "text": [
      "(60000,)\n",
      "(60000, 10)\n",
      "float64\n"
     ]
    }
   ],
   "source": [
    "# 正解ラベル（0から9の整数）をone-hot表現に変換する\n",
    "enc = OneHotEncoder(handle_unknown=\"ignore\", sparse=False)\n",
    "y_train_one_hot = enc.fit_transform(y_train[:, np.newaxis])\n",
    "y_test_one_hot = enc.fit_transform(y_test[:, np.newaxis])\n",
    "print(y_train.shape)\n",
    "print(y_train_one_hot.shape)\n",
    "print(y_train_one_hot.dtype)"
   ]
  },
  {
   "cell_type": "code",
   "execution_count": 7,
   "metadata": {},
   "outputs": [
    {
     "name": "stdout",
     "output_type": "stream",
     "text": [
      "(48000, 784)\n",
      "(12000, 784)\n",
      "(48000, 10)\n",
      "(12000, 10)\n"
     ]
    }
   ],
   "source": [
    "X_train, X_val, y_train, y_val = train_test_split(X_train, y_train_one_hot, test_size=0.2, random_state=0)\n",
    "print(X_train.shape)\n",
    "print(X_val.shape)\n",
    "print(y_train.shape)\n",
    "print(y_val.shape)"
   ]
  },
  {
   "cell_type": "code",
   "execution_count": 8,
   "metadata": {},
   "outputs": [],
   "source": [
    "class GetMiniBatch:\n",
    "    \"\"\"ミニバッチを取得するイテレータ\n",
    "    :parameters\n",
    "        X (2d-array, (n_samples, n_features)): 訓練データ\n",
    "        y (1d-array, (n_samples, 1)): 正解値\n",
    "        batch_size (int): バッチサイズ\n",
    "        seed (int): 乱数のシード\n",
    "    \"\"\"\n",
    "    def __init__(self, X, y, batch_size=20, seed=0):\n",
    "        self.batch_size = batch_size\n",
    "        np.random.seed(seed)\n",
    "        shuffle_index = np.random.permutation(np.arange(X.shape[0]))\n",
    "        self._X = X[shuffle_index]\n",
    "        self._y = y[shuffle_index]\n",
    "        self._stop = np.ceil(X.shape[0]/self.batch_size).astype(np.int)\n",
    "        \n",
    "    def __len__(self):\n",
    "        return self._stop\n",
    "    \n",
    "    def __getitem__(self, item):\n",
    "        p0 = item*self.batch_size\n",
    "        p1 = item*self.batch_size + self.batch_size\n",
    "        return self._X[p0:p1], self._y[p0:p1]\n",
    "    \n",
    "    def __iter__(self):\n",
    "        self._counter = 0\n",
    "        return self\n",
    "    \n",
    "    def __next__(self):\n",
    "        if self._counter >= self._stop:\n",
    "            raise StopIteration()\n",
    "        p0 = self._counter*self.batch_size\n",
    "        p1 = self._counter*self.batch_size + self.batch_size\n",
    "        self._counter += 1\n",
    "        return self._X[p0:p1], self._y[p0:p1]"
   ]
  },
  {
   "cell_type": "markdown",
   "metadata": {},
   "source": [
    "# 【問題1】全結合層のクラス化"
   ]
  },
  {
   "cell_type": "markdown",
   "metadata": {},
   "source": [
    "全結合層のクラス化を行なってください。"
   ]
  },
  {
   "cell_type": "code",
   "execution_count": 9,
   "metadata": {},
   "outputs": [],
   "source": [
    "class FC:\n",
    "    \"\"\"ノード数n_nodes1からn_nodes2への全結合層\n",
    "    :parameters\n",
    "        n_node1 (int): 前層のノード数\n",
    "        n_node2 (int): 後層のノード数\n",
    "        initializer (class instance): 初期化方法のインスタンス\n",
    "        optimizer (class instance): 最適化手法のインスタンス\n",
    "    \"\"\"\n",
    "    def __init__(self, n_nodes1, n_nodes2, initializer, optimizer):\n",
    "        self.optimizer = optimizer\n",
    "        # 重みとバイアスの初期化\n",
    "        self.W = initializer.W(n_nodes1, n_nodes2)\n",
    "        self.B = initializer.B(n_nodes1, n_nodes2)  # Xavier Heではn_nodes1が必要\n",
    "    \n",
    "    def forward(self, X):\n",
    "        \"\"\"順伝播\n",
    "        :parameters\n",
    "            X (2d-array, (batch_size, n_nodes1)): 入力\n",
    "        :returns\n",
    "            A (2d-array, (batch_sizer, n_nodes2)): 出力\n",
    "        \"\"\"\n",
    "        A = np.matmul(X, self.W) + self.B\n",
    "        # backward用にXを保持\n",
    "        self.X = X\n",
    "        self.N = X.shape[0]  # Backward内のoptimizer.updateで、平均を計算するとき使用する\n",
    "        return A\n",
    "    \n",
    "    def backward(self, dA):\n",
    "        \"\"\"逆伝播\n",
    "        :parameters\n",
    "            dA (2d-array, (batch_size, n_nodes2)): 後層から戻ってきた勾配\n",
    "        :returns\n",
    "            dZ (2d-array, (batch_size, n_nodes1)): 前層に送る勾配\n",
    "        \"\"\"\n",
    "        self.dB = np.sum(dA, axis=0, keepdims=True)\n",
    "        self.dW = np.matmul(self.X.T, dA)\n",
    "        dX = np.matmul(dA, self.W.T)\n",
    "        # 勾配をもとに重みとバイアスを更新\n",
    "        self = self.optimizer.update(self)\n",
    "        return dX"
   ]
  },
  {
   "cell_type": "markdown",
   "metadata": {},
   "source": [
    "# 【問題2】初期化方法のクラス化"
   ]
  },
  {
   "cell_type": "markdown",
   "metadata": {},
   "source": [
    "初期化を行うコードをクラス化してください。"
   ]
  },
  {
   "cell_type": "code",
   "execution_count": 10,
   "metadata": {},
   "outputs": [],
   "source": [
    "class SimpleInitializer:\n",
    "    \"\"\"正規分布によるシンプルな初期化\n",
    "    :parameters\n",
    "        sigma (float): 正規分布の標準偏差\n",
    "    \"\"\"\n",
    "    def __init__(self, sigma=0.01):\n",
    "        self.sigma = sigma\n",
    "        \n",
    "    def W(self, n_nodes1, n_nodes2):\n",
    "        \"\"\"重みの初期化\n",
    "        :parameters\n",
    "            n_nodes1 (int): 前の層のノード数\n",
    "            n_nodes2 (int): 後の層のノード数\n",
    "        :returns\n",
    "            W (2d-array, (n_nodes1, n_nodes2)): ランダムに発生させた重み\n",
    "        \"\"\"\n",
    "        return self.sigma * np.random.randn(n_nodes1, n_nodes2)\n",
    "    \n",
    "    def B(self, n_nodes1, n_nodes2):\n",
    "        \"\"\"バイアスの初期化\n",
    "        :parameters\n",
    "            n_nodes2 (int): 後の層のノード数\n",
    "        :returns\n",
    "            B (1d-array, (n_nodes2, )): ランダムに発生させたバイアス\n",
    "        \"\"\"\n",
    "        return self.sigma * np.random.randn(1, n_nodes2)"
   ]
  },
  {
   "cell_type": "markdown",
   "metadata": {},
   "source": [
    "# 【問題3】最適化手法のクラス化"
   ]
  },
  {
   "cell_type": "markdown",
   "metadata": {},
   "source": [
    "最適化手法のクラス化を行なってください。"
   ]
  },
  {
   "cell_type": "code",
   "execution_count": 11,
   "metadata": {},
   "outputs": [],
   "source": [
    "class SGD:\n",
    "    \"\"\"確率的勾配降下法\n",
    "    :parameters\n",
    "        lr (float): 学習率\n",
    "    \"\"\"\n",
    "    def __init__(self, lr=0.01):\n",
    "        self.lr = lr\n",
    "    \n",
    "    def update(self, layer):\n",
    "        \"\"\"ある層の重みやバイアスを更新する\n",
    "        :parameters\n",
    "            layer (instance): 更新前の層（FC）のインスタンス\n",
    "        \"\"\"\n",
    "        layer.W -= self.lr * layer.dW / layer.N\n",
    "        layer.B -= self.lr * layer.dB / layer.N\n",
    "        return layer"
   ]
  },
  {
   "cell_type": "markdown",
   "metadata": {},
   "source": [
    "# 【問題4】活性化関数のクラス化"
   ]
  },
  {
   "cell_type": "markdown",
   "metadata": {},
   "source": [
    "活性化関数のクラス化を行なってください。"
   ]
  },
  {
   "cell_type": "code",
   "execution_count": 12,
   "metadata": {},
   "outputs": [],
   "source": [
    "class Tanh:\n",
    "    \"\"\"tanh関数（活性化関数）\"\"\"\n",
    "    def forward(self, A):\n",
    "        Z = np.tanh(A)\n",
    "        # backward用にAを保持\n",
    "        self.A = A\n",
    "        return Z\n",
    "    \n",
    "    def backward(self, dZ):\n",
    "        dA = dZ * (1 - np.tanh(self.A)**2)\n",
    "        return dA\n",
    "\n",
    "    \n",
    "class Sigmoid:\n",
    "    \"\"\"sigmoid関数（活性化関数）\"\"\"\n",
    "    def forward(self, A):\n",
    "        Z = 1 / (1 + np.exp(-A))\n",
    "        # backward用にZを保持\n",
    "        self.Z = Z\n",
    "        return Z\n",
    "    \n",
    "    def backward(self, dZ):\n",
    "        dA = dZ * self.Z * (1 - self.Z)\n",
    "        return dA"
   ]
  },
  {
   "cell_type": "code",
   "execution_count": 13,
   "metadata": {},
   "outputs": [],
   "source": [
    "class Softmax:\n",
    "    \"\"\"softmax関数\n",
    "    backwardは交差エントロピー誤差関数と合わせて計算する\n",
    "    \"\"\"\n",
    "    def forward(self, A):\n",
    "        Z = np.exp(A) / np.sum(np.exp(A), axis=1, keepdims=True)\n",
    "        # backward用にZを保持\n",
    "        self.Z = Z\n",
    "        return Z\n",
    "    \n",
    "    def backward(self, y):\n",
    "        dA = self.Z - y\n",
    "        return dA"
   ]
  },
  {
   "cell_type": "markdown",
   "metadata": {},
   "source": [
    "# 【問題5】ReLUクラスの作成"
   ]
  },
  {
   "cell_type": "markdown",
   "metadata": {},
   "source": [
    "現在一般的に使われている活性化関数であるReLU（Rectified Linear Unit）をReLUクラスとして実装してください。"
   ]
  },
  {
   "cell_type": "code",
   "execution_count": 14,
   "metadata": {},
   "outputs": [],
   "source": [
    "class ReLU:\n",
    "    \"\"\"rectified linear unit関数（活性化関数）\"\"\"\n",
    "    def forward(self, A):\n",
    "        self.is_positive = A > 0\n",
    "        Z = self.is_positive * A\n",
    "        return Z\n",
    "    \n",
    "    def backward(self, dZ):\n",
    "        dA = self.is_positive * dZ\n",
    "        return dA"
   ]
  },
  {
   "cell_type": "markdown",
   "metadata": {},
   "source": [
    "# 【問題6】重みの初期値"
   ]
  },
  {
   "cell_type": "markdown",
   "metadata": {},
   "source": [
    "ここまでは重みやバイアスの初期値は単純にガウス分布で、標準偏差をハイパーパラメータとして扱ってきました。    \n",
    "しかし、どのような値にすると良いかが知られています。  \n",
    "シグモイド関数やハイパボリックタンジェント関数のときは Xavierの初期値 （またはGlorotの初期値）、ReLUのときは Heの初期値 が使われます。  \n",
    "XavierInitializerクラスと、HeInitializerクラスを作成してください。"
   ]
  },
  {
   "cell_type": "code",
   "execution_count": 15,
   "metadata": {},
   "outputs": [],
   "source": [
    "class XavierInitializer:\n",
    "    \"\"\"Xavierの初期値\"\"\"\n",
    "    def W(self, n_nodes1, n_nodes2):\n",
    "        \"\"\"重みの初期化\n",
    "        :parameters\n",
    "            n_nodes1 (int): 前の層のノード数\n",
    "            n_nodes2 (int): 後の層のノード数\n",
    "        :returns\n",
    "            W (2d-array, (n_nodes1, n_nodes2)): ランダムに発生させた重み\n",
    "        \"\"\"\n",
    "        return 1.0 / np.sqrt(n_nodes1) * np.random.randn(n_nodes1, n_nodes2)\n",
    "    \n",
    "    def B(self, n_nodes1, n_nodes2):\n",
    "        \"\"\"バイアスの初期化\n",
    "        :parameters\n",
    "            n_nodes2 (int): 後の層のノード数\n",
    "        :returns\n",
    "            B (1d-array, (n_nodes2, )): ランダムに発生させたバイアス\n",
    "        \"\"\"\n",
    "        return 1.0 / np.sqrt(n_nodes1) * np.random.randn(1, n_nodes2)\n",
    "\n",
    "    \n",
    "class HeInitializer:\n",
    "    \"\"\"Heの初期値\"\"\"\n",
    "    def W(self, n_nodes1, n_nodes2):\n",
    "        \"\"\"重みの初期化\n",
    "        :parameters\n",
    "            n_nodes1 (int): 前の層のノード数\n",
    "            n_nodes2 (int): 後の層のノード数\n",
    "        :returns\n",
    "            W (2d-array, (n_nodes1, n_nodes2)): ランダムに発生させた重み\n",
    "        \"\"\"\n",
    "        return np.sqrt(2.0 / n_nodes1) * np.random.randn(n_nodes1, n_nodes2)\n",
    "    \n",
    "    def B(self, n_nodes1, n_nodes2):\n",
    "        \"\"\"バイアスの初期化\n",
    "        :parameters\n",
    "            n_nodes2 (int): 後の層のノード数\n",
    "        :returns\n",
    "            B (1d-array, (n_nodes2, )): ランダムに発生させたバイアス\n",
    "        \"\"\"\n",
    "        return np.sqrt(2.0 / n_nodes1) * np.random.randn(1, n_nodes2)"
   ]
  },
  {
   "cell_type": "markdown",
   "metadata": {},
   "source": [
    "# 【問題7】最適化手法"
   ]
  },
  {
   "cell_type": "markdown",
   "metadata": {},
   "source": [
    "学習率は学習過程で変化させていく方法が一般的です。基本的な手法である AdaGrad のクラスを作成してください。"
   ]
  },
  {
   "cell_type": "code",
   "execution_count": 16,
   "metadata": {},
   "outputs": [],
   "source": [
    "class AdaGrad:\n",
    "    \"\"\"Adative Gradient法\n",
    "    :parameters\n",
    "        lr (float): 学習率\n",
    "    \"\"\"\n",
    "    def __init__(self, lr=0.01):\n",
    "        self.lr = lr\n",
    "        self.H_W = 0\n",
    "        self.H_B = 0\n",
    "    \n",
    "    def update(self, layer):\n",
    "        \"\"\"ある層の重みやバイアスを更新する\n",
    "        :parameters\n",
    "            layer (instance): 更新前の層（FC）のインスタンス\n",
    "        \"\"\"\n",
    "        # 行列Hを求める\n",
    "        self.H_W += layer.dW * layer.dW\n",
    "        self.H_B += layer.dB * layer.dB\n",
    "        # 重み・バイアスの更新\n",
    "        layer.W -= self.lr * layer.dW / (np.sqrt(self.H_W) + 1e-8) / layer.N\n",
    "        layer.B -= self.lr * layer.dB / (np.sqrt(self.H_B) + 1e-8) / layer.N\n",
    "        return layer"
   ]
  },
  {
   "cell_type": "markdown",
   "metadata": {},
   "source": [
    "# 【問題8】クラスの完成"
   ]
  },
  {
   "cell_type": "markdown",
   "metadata": {},
   "source": [
    "任意の構成で学習と推定が行えるScratchDeepNeuralNetrowkClassifierクラスを完成させてください。"
   ]
  },
  {
   "cell_type": "code",
   "execution_count": 17,
   "metadata": {},
   "outputs": [],
   "source": [
    "class ScratchDeepNeuralNetworkClassifier():\n",
    "    \"\"\"ニューラルネットワーク分類器\n",
    "    :attributes\n",
    "        layers (list of instances): 各層のインスタンスを並べたリスト\n",
    "        n_epoch (int): 繰り返すエポック数\n",
    "        batch_size (int): ミニバッチのデータ数\n",
    "        plot_interval (int): 損失関数を記録する間隔\n",
    "        epoch_interval (int): 何epochごとにprintするか\n",
    "        loss (list): 損失関数の推移（訓練データ）\n",
    "        lossval (list): 損失関数の推移（検証データ）\n",
    "        verbose (bool): 学習過程を出力する場合はTrue\n",
    "    \"\"\"\n",
    "    def __init__(self, layers, n_epoch=10, batch_size=20, plot_interval=1, verbose=True, epoch_interval=1):\n",
    "        self.layers = layers\n",
    "        self.n_epoch = n_epoch\n",
    "        self.batch_size = batch_size\n",
    "        self.plot_interval = plot_interval\n",
    "        self.epoch_interval = epoch_interval\n",
    "        self.verbose = verbose\n",
    "        self.loss = []\n",
    "        self.loss_val = []\n",
    "    \n",
    "    def fit(self, X, y, X_val=None, y_val=None):\n",
    "        \"\"\"ニューラルネットワーク分類器を学習する。\n",
    "        :parameters\n",
    "            X (2d-array, (n_samples, n_features)): 訓練データの特徴量\n",
    "            y (2d-array, (n_samples, n_classes)): 訓練データの正解値（One-hot）\n",
    "            X_val (2d-array, (n_samples, n_features)): 検証データの特徴量\n",
    "            y_val (2d-array, (n_samples, n_classes)): 検証データの正解値（One-hot）\n",
    "            optimizer (instance): 最適化手法のインスタンス\n",
    "        \"\"\"\n",
    "        # データチェック\n",
    "        self.n_features = X.shape[1]\n",
    "        self.n_output = y.shape[1]\n",
    "\n",
    "        # 学習\n",
    "        for epoch in range(self.n_epoch):\n",
    "            # エポックごとに乱数を変えて、ミニバッチを取得する\n",
    "            get_mini_batch = GetMiniBatch(X, y, batch_size=self.batch_size, seed=epoch)\n",
    "            \n",
    "            # ミニバッチごとに学習をすすめる。\n",
    "            for mini_X_train, mini_y_train in get_mini_batch:\n",
    "                # forward\n",
    "                for i, layer in enumerate(self.layers):\n",
    "                    pass_x = mini_X_train if i == 0 else value\n",
    "                    value = layer.forward(pass_x)\n",
    "\n",
    "                # backward\n",
    "                for i, layer in enumerate(reversed(self.layers)):\n",
    "                    pass_y = mini_y_train if i == 0 else grad\n",
    "                    grad = layer.backward(pass_y)\n",
    "                \n",
    "            # 損失（交差エントロピー誤差）を計算して保持\n",
    "            y_pred = self.predict_proba(X)  # 分類カテゴリーごとの確率を計算\n",
    "            L = self.cross_entropy_error(y_pred, y)\n",
    "            self.loss.append(L)\n",
    "            # 検証データありの場合はそちらの損失も保持\n",
    "            if X_val is not None and y_val is not None:\n",
    "                y_pred_val = self.predict_proba(X_val)  # 分類カテゴリーごとの確率を計算\n",
    "                L_val = self.cross_entropy_error(y_pred_val, y_val)\n",
    "                self.loss_val.append(L_val)\n",
    "\n",
    "            # 学習過程の出力（エポックごと）\n",
    "            if self.verbose and (epoch % self.epoch_interval == 0):\n",
    "                # 検証データがある場合\n",
    "                if len(self.loss_val) != 0:\n",
    "                    print(\"Epoch {}:   Loss={:.5f}   Loss_valid={:.5f}\".format(epoch, self.loss[-1], self.loss_val[-1]))\n",
    "                # 検証データがない場合\n",
    "                else:\n",
    "                    print(\"Epoch {}:   Loss={:.5f}\".format(epoch, self.loss[-1]))\n",
    "\n",
    "    def cross_entropy_error(self, y_pred, y_true):\n",
    "        \"\"\"交差エントロピー誤差の計算\n",
    "        :parameters\n",
    "            y_true (2d-array, (n_samples, n_classes)): クラスの正解ラベル（one-hotなので0 or 1）\n",
    "            y_pred (2d-array, (n_samples, n_classes)): クラス分類の予測確率（yと同じ形状）\n",
    "        :returns\n",
    "            cee (float): 交差エントロピー誤差\n",
    "        \"\"\"\n",
    "        cee = -1/y_pred.shape[0] * np.sum(y_true * np.log(y_pred))\n",
    "        return cee\n",
    "    \n",
    "    def predict_proba(self, X):\n",
    "        \"\"\"ニューラルネットワーク分類器を使い推定する。推定結果は確率のOne-hot表現。\n",
    "        :parameters\n",
    "            X (2d-array, (n_samples, n_features)): サンプルデータ\n",
    "        :returns\n",
    "            value (2d-array, (n_samples, n_classes)): 推定確率\n",
    "        \"\"\"\n",
    "        # forward\n",
    "        for i, layer in enumerate(self.layers):\n",
    "            pass_x = X if i == 0 else value\n",
    "            value = layer.forward(pass_x)\n",
    "        return value\n",
    "    \n",
    "    def predict(self, X):\n",
    "        \"\"\"ニューラルネットワーク分類器を使い推定する。\n",
    "        :parameters\n",
    "            X (2d-array, (n_samples, n_features)): サンプル\n",
    "        :returns\n",
    "            label (1d-array, (n_samples,)): 推定ラベル\n",
    "        \"\"\"\n",
    "        probability = self.predict_proba(X)\n",
    "        label = np.argmax(probability, axis=1)\n",
    "        return label"
   ]
  },
  {
   "cell_type": "markdown",
   "metadata": {},
   "source": [
    "# 【問題9】学習と推定"
   ]
  },
  {
   "cell_type": "code",
   "execution_count": 18,
   "metadata": {},
   "outputs": [],
   "source": [
    "def calc_accuracy(nn):\n",
    "    print(\"Validation Data\")\n",
    "    y_pred = nn.predict(X_val)\n",
    "    y_true = np.argmax(y_val, axis=1)\n",
    "    print(y_pred.shape)\n",
    "    print(y_true.shape)\n",
    "    acc = accuracy_score(y_true, y_pred)\n",
    "    print(\"accuracy = {:.5f}\".format(acc))\n",
    "\n",
    "    print()\n",
    "    print(\"Test Data\")\n",
    "    y_pred_test = nn.predict(X_test)\n",
    "    y_true_test = y_test\n",
    "    print(y_pred_test.shape)\n",
    "    print(y_true_test.shape)\n",
    "    acc_test = accuracy_score(y_true_test, y_pred_test)\n",
    "    print(\"accuracy = {:.5f}\".format(acc_test))"
   ]
  },
  {
   "cell_type": "code",
   "execution_count": 19,
   "metadata": {},
   "outputs": [],
   "source": [
    "def draw_loss(nn):\n",
    "    fig, ax = plt.subplots(figsize=(5, 5))\n",
    "    x1 = np.arange(len(nn.loss))\n",
    "    y1 = nn.loss\n",
    "    x2 = np.arange(len(nn.loss_val))\n",
    "    y2 = nn.loss_val\n",
    "\n",
    "    ax.plot(x1, y1, label=\"train\", alpha=0.7)\n",
    "    ax.plot(x2, y2, label=\"valid\", alpha=0.7)\n",
    "\n",
    "    ax.set_xlabel(\"Epoch\", fontsize=20)\n",
    "    ax.set_ylabel(\"Loss Function Value\", fontsize=20)\n",
    "    ax.set_yscale(\"log\")\n",
    "    ax.set_xlim(-1, nn.n_epoch + 1)\n",
    "    ax.set_ylim(1e-4, 5)\n",
    "    ax.legend(frameon=False)\n",
    "    plt.show()"
   ]
  },
  {
   "cell_type": "code",
   "execution_count": 20,
   "metadata": {},
   "outputs": [
    {
     "name": "stdout",
     "output_type": "stream",
     "text": [
      "Epoch 0:   Loss=0.68448   Loss_valid=0.66973\n",
      "Epoch 2:   Loss=0.34337   Loss_valid=0.33586\n",
      "Epoch 4:   Loss=0.27518   Loss_valid=0.27483\n",
      "Epoch 6:   Loss=0.22630   Loss_valid=0.22817\n",
      "Epoch 8:   Loss=0.18380   Loss_valid=0.18986\n",
      "Epoch 10:   Loss=0.15447   Loss_valid=0.16277\n",
      "Epoch 12:   Loss=0.13900   Loss_valid=0.15233\n",
      "Epoch 14:   Loss=0.11546   Loss_valid=0.13254\n",
      "Epoch 16:   Loss=0.09971   Loss_valid=0.12042\n",
      "Epoch 18:   Loss=0.08780   Loss_valid=0.11178\n",
      "Validation Data\n",
      "(12000,)\n",
      "(12000,)\n",
      "accuracy = 0.96758\n",
      "\n",
      "Test Data\n",
      "(10000,)\n",
      "(10000,)\n",
      "accuracy = 0.96790\n"
     ]
    },
    {
     "data": {
      "image/png": "[encoded data removed]",
      "text/plain": [
       "<Figure size 360x360 with 1 Axes>"
      ]
     },
     "metadata": {
      "needs_background": "light"
     },
     "output_type": "display_data"
    }
   ],
   "source": [
    "# 前回と同じ\n",
    "layers = [\n",
    "    FC(X_train.shape[1], 200, SimpleInitializer(), SGD()),\n",
    "    Tanh(),\n",
    "    FC(200, 400, SimpleInitializer(), SGD()),\n",
    "    Tanh(),\n",
    "    FC(400, y_train.shape[1], SimpleInitializer(), SGD()),\n",
    "    Softmax(),\n",
    "]\n",
    "\n",
    "dnn = ScratchDeepNeuralNetworkClassifier(layers, n_epoch=20, epoch_interval=2)\n",
    "dnn.fit(X_train, y_train, X_val, y_val)\n",
    "calc_accuracy(dnn)\n",
    "draw_loss(dnn)"
   ]
  },
  {
   "cell_type": "code",
   "execution_count": 22,
   "metadata": {},
   "outputs": [
    {
     "name": "stdout",
     "output_type": "stream",
     "text": [
      "Epoch 0:   Loss=0.43985   Loss_valid=0.43232\n",
      "Epoch 2:   Loss=0.35036   Loss_valid=0.34212\n",
      "Epoch 4:   Loss=0.32324   Loss_valid=0.31506\n",
      "Epoch 6:   Loss=0.30834   Loss_valid=0.30059\n",
      "Epoch 8:   Loss=0.29823   Loss_valid=0.29083\n",
      "Epoch 10:   Loss=0.29064   Loss_valid=0.28362\n",
      "Epoch 12:   Loss=0.28476   Loss_valid=0.27827\n",
      "Epoch 14:   Loss=0.27959   Loss_valid=0.27344\n",
      "Epoch 16:   Loss=0.27525   Loss_valid=0.26977\n",
      "Epoch 18:   Loss=0.27134   Loss_valid=0.26625\n",
      "Validation Data\n",
      "(12000,)\n",
      "(12000,)\n",
      "accuracy = 0.92417\n",
      "\n",
      "Test Data\n",
      "(10000,)\n",
      "(10000,)\n",
      "accuracy = 0.92400\n"
     ]
    },
    {
     "data": {
      "image/png": "[encoded data removed]",
      "text/plain": [
       "<Figure size 360x360 with 1 Axes>"
      ]
     },
     "metadata": {
      "needs_background": "light"
     },
     "output_type": "display_data"
    }
   ],
   "source": [
    "# AdaGradを使用\n",
    "layers = [\n",
    "    FC(X_train.shape[1], 200, XavierInitializer(), AdaGrad()),\n",
    "    Tanh(),\n",
    "    FC(200, 400, XavierInitializer(), AdaGrad()),\n",
    "    Tanh(),\n",
    "    FC(400, y_train.shape[1], XavierInitializer(), AdaGrad()),\n",
    "    Softmax(),\n",
    "]\n",
    "\n",
    "dnn = ScratchDeepNeuralNetworkClassifier(layers, n_epoch=20, epoch_interval=2)\n",
    "dnn.fit(X_train, y_train, X_val, y_val)\n",
    "calc_accuracy(dnn)\n",
    "draw_loss(dnn)"
   ]
  }
 ],
 "metadata": {
  "kernelspec": {
   "display_name": "Python 3",
   "language": "python",
   "name": "python3"
  },
  "language_info": {
   "codemirror_mode": {
    "name": "ipython",
    "version": 3
   },
   "file_extension": ".py",
   "mimetype": "text/x-python",
   "name": "python",
   "nbconvert_exporter": "python",
   "pygments_lexer": "ipython3",
   "version": "3.7.4"
  }
 },
 "nbformat": 4,
 "nbformat_minor": 4
}
