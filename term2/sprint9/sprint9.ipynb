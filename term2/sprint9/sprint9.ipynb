{
 "cells": [
  {
   "cell_type": "markdown",
   "metadata": {},
   "source": [
    "# 事前準備"
   ]
  },
  {
   "cell_type": "code",
   "execution_count": 1,
   "metadata": {},
   "outputs": [
    {
     "name": "stderr",
     "output_type": "stream",
     "text": [
      "Using TensorFlow backend.\n"
     ]
    }
   ],
   "source": [
    "# 各種ライブラリのインポート\n",
    "import numpy as np\n",
    "import pandas as pd\n",
    "import matplotlib.pyplot as plt\n",
    "%matplotlib inline\n",
    "from sklearn.preprocessing import OneHotEncoder\n",
    "from sklearn.model_selection import train_test_split\n",
    "from keras.datasets import mnist"
   ]
  },
  {
   "cell_type": "code",
   "execution_count": 2,
   "metadata": {},
   "outputs": [],
   "source": [
    "# MNISTデータ読み込み\n",
    "(X_train, y_train), (X_test, y_test) = mnist.load_data()"
   ]
  },
  {
   "cell_type": "code",
   "execution_count": 3,
   "metadata": {},
   "outputs": [
    {
     "name": "stdout",
     "output_type": "stream",
     "text": [
      "(60000, 28, 28)\n",
      "(10000, 28, 28)\n",
      "uint8\n"
     ]
    }
   ],
   "source": [
    "print(X_train.shape)\n",
    "print(X_test.shape)\n",
    "print(X_train[0].dtype)"
   ]
  },
  {
   "cell_type": "code",
   "execution_count": 4,
   "metadata": {},
   "outputs": [],
   "source": [
    "# 全てのピクセルを一列にするため、平滑化を行う\n",
    "X_train = X_train.reshape(-1, 784)\n",
    "X_test = X_test.reshape(-1, 784)"
   ]
  },
  {
   "cell_type": "code",
   "execution_count": 5,
   "metadata": {},
   "outputs": [
    {
     "data": {
      "image/png": "[encoded data removed]",
      "text/plain": [
       "<Figure size 432x288 with 1 Axes>"
      ]
     },
     "metadata": {
      "needs_background": "light"
     },
     "output_type": "display_data"
    }
   ],
   "source": [
    "index = 0\n",
    "image = X_train[index].reshape(28, 28)\n",
    "\n",
    "plt.imshow(image, 'gray')\n",
    "plt.title('label : {}'.format(y_train[index]))\n",
    "plt.show()"
   ]
  },
  {
   "cell_type": "code",
   "execution_count": 6,
   "metadata": {},
   "outputs": [
    {
     "name": "stdout",
     "output_type": "stream",
     "text": [
      "0.0 - 1.0\n",
      "0.0 - 1.0\n"
     ]
    }
   ],
   "source": [
    "#前処理 画像は0~255で表されるが、機械学習をする上では0~1のfloat型で扱う\n",
    "X_train = X_train.astype(np.float)\n",
    "X_test = X_test.astype(np.float)\n",
    "X_train /= 255\n",
    "X_test /= 255\n",
    "print(X_train.min(), \"-\", X_train.max())\n",
    "print(X_test.min(), \"-\", X_test.max())"
   ]
  },
  {
   "cell_type": "code",
   "execution_count": 7,
   "metadata": {},
   "outputs": [
    {
     "name": "stdout",
     "output_type": "stream",
     "text": [
      "(60000,)\n",
      "(60000, 10)\n",
      "float64\n"
     ]
    }
   ],
   "source": [
    "# 正解ラベル（0から9の整数）をone-hot表現に変換する\n",
    "enc = OneHotEncoder(handle_unknown=\"ignore\", sparse=False)\n",
    "y_train_one_hot = enc.fit_transform(y_train[:, np.newaxis])\n",
    "y_test_one_hot = enc.fit_transform(y_test[:, np.newaxis])\n",
    "print(y_train.shape)\n",
    "print(y_train_one_hot.shape)\n",
    "print(y_train_one_hot.dtype)"
   ]
  },
  {
   "cell_type": "code",
   "execution_count": 8,
   "metadata": {},
   "outputs": [
    {
     "name": "stdout",
     "output_type": "stream",
     "text": [
      "(48000, 784)\n",
      "(12000, 784)\n",
      "(48000, 10)\n",
      "(12000, 10)\n"
     ]
    }
   ],
   "source": [
    "X_train, X_val, y_train, y_val = train_test_split(X_train, y_train_one_hot, test_size=0.2, random_state=0)\n",
    "print(X_train.shape)\n",
    "print(X_val.shape)\n",
    "print(y_train.shape)\n",
    "print(y_val.shape)"
   ]
  },
  {
   "cell_type": "code",
   "execution_count": 9,
   "metadata": {},
   "outputs": [],
   "source": [
    "class ScratchSimpleNeuralNetworkClassifier():\n",
    "    \"\"\"シンプルな三層ニューラルネットワーク分類器\n",
    "    :attributes\n",
    "        self.activation (str): 活性化関数を指定する文字列\n",
    "        self.n_epoch (int): 学習を繰り返すエポック数\n",
    "        self.lr (float): 学習率\n",
    "        self.plot_interval (int): lossを記録する間隔\n",
    "        self.verbose (bool): 学習過程を出力する場合はTrue\n",
    "    \"\"\"\n",
    "    def __init__(self, act_func=\"sigmoid\", n_epoch=10, lr=0.01, plot_interval=1, verbose=True):\n",
    "        self.act_func = act_func\n",
    "        self.n_epoch = n_epoch\n",
    "        self.lr = lr\n",
    "        self.plot_interval = plot_interval\n",
    "        self.verbose = verbose\n",
    "    \n",
    "    def fit(self, X, y, X_val=None, y_val=None):\n",
    "        \"\"\"ニューラルネットワーク分類器を学習する。\n",
    "        :parameters\n",
    "            X (2d-array, (n_samples, n_features)): 訓練データの特徴量\n",
    "            y (1d-array, (n_samples,)): 訓練データの正解値\n",
    "            X_val (2d-array, (n_samples, n_features)): 検証データの特徴量\n",
    "            y_val (1d-array, (n_samples,)): 検証データの正解値\n",
    "        \"\"\"\n",
    "        # 損失関数値の推移を保持するattributes\n",
    "        self.loss = []\n",
    "        self.loss_val = []\n",
    "        \n",
    "        # 重みの初期値を発生させる\n",
    "        n_nodes1 = 400\n",
    "        n_nodes2 = 200\n",
    "        self.W1, self.B1 = self.set_initial_params(X.shape[1], n_nodes1)\n",
    "        self.W2, self.B2 = self.set_initial_params(n_nodes1, n_nodes2)\n",
    "        self.W3, self.B3 = self.set_initial_params(n_nodes2, y.shape[1])\n",
    "        \n",
    "        # 学習\n",
    "        for epoch in range(self.n_epoch):\n",
    "            # エポックごとに乱数を変えて、ミニバッチを取得する\n",
    "            get_mini_batch = GetMiniBatch(X, y, batch_size=20, seed=epoch)\n",
    "            \n",
    "            # ミニバッチ（20枚）ごとに学習をすすめる。\n",
    "            for mini_X_train, mini_y_train in get_mini_batch:\n",
    "                # forwardで予測値を計算して、途中のA,Zをattributesとして保持\n",
    "                self.forward(mini_X_train)\n",
    "\n",
    "                # backwardで勾配を計算して、attributesとして保持\n",
    "                self.backward(mini_X_train, mini_y_train)\n",
    "                \n",
    "                # 勾配を元に、WとBを更新\n",
    "                self.renew_params()\n",
    "\n",
    "                if get_mini_batch._counter % self.plot_interval == 0:\n",
    "                    # クロスエントロピー誤差を計算して保持\n",
    "                    self.forward(X[:5000])\n",
    "                    self.loss.append(self.cross_entropy_error(y[:5000], self.Z3))\n",
    "                    # 検証データありの場合はそちらの結果も保持\n",
    "                    if X_val is not None and y_val is not None:\n",
    "                        self.forward(X_val[:5000])\n",
    "                        self.loss_val.append(self.cross_entropy_error(y_val[:5000], self.Z3))\n",
    "\n",
    "            #if self.verbose and epoch%10 == 0:  # 学習過程の出力（エポックごと）\n",
    "            if len(self.loss_val) != 0:\n",
    "                # 現在のエポックと、損失関数の値を表示\n",
    "                print(\"Epoch {}:   Loss={:.5f}   Loss_valid={:.5f}\".format(epoch, self.loss[-1], self.loss_val[-1]))\n",
    "            else:\n",
    "                # 現在のエポックと、損失関数の値を表示\n",
    "                print(\"Epoch {}:   Loss={:.5f}\".format(epoch, self.loss[-1]))\n",
    "    \n",
    "    def forward(self, X0):\n",
    "        \"\"\"フォワードプロパゲーション\n",
    "        :parameters\n",
    "            X0 (2d-array, (n_samples, n_features)): 訓練データ\n",
    "        \"\"\"\n",
    "        # 第１層： A = XW + B --> Z = act(A)\n",
    "        self.A1 = np.matmul(X0, self.W1) + self.B1\n",
    "        self.Z1 = self.activation(self.A1)\n",
    "        \n",
    "        # 第２層： A = ZW + B --> Z = act(A)\n",
    "        self.A2 = np.matmul(self.Z1, self.W2) + self.B2\n",
    "        self.Z2 = self.activation(self.A2)\n",
    "        \n",
    "        # 第３層： A = ZW + B --> Z = softmax(A)\n",
    "        self.A3 = np.matmul(self.Z2, self.W3) + self.B3\n",
    "        self.Z3 = self.softmax(self.A3)  # 最後はソフトマックス関数で確率にする\n",
    "    \n",
    "    def backward(self, X, y_true):\n",
    "        \"\"\"バックワードプロパゲーション（誤差逆伝播）\n",
    "        後ろからさかのぼって勾配を計算していき、attributesに保持していく。\n",
    "        :parameters\n",
    "            X (2d-array, (n_samples, n_features)): 訓練データ\n",
    "            y_true (1d-array, (n_samples, 1)): 正解ラベル\n",
    "        \"\"\"\n",
    "        # 第３層\n",
    "        self.dLdA3 = self.Z3 - y_true  # (20, 10)\n",
    "        self.dLdB3 = np.sum(self.dLdA3, axis=0).reshape(1, -1)  # (1, 10)\n",
    "        self.dLdW3 = np.matmul(self.Z2.T, self.dLdA3)  # (200, 20) x (20, 10) = (200, 10)\n",
    "        self.dLdZ2 = np.matmul(self.dLdA3, self.W3.T)  # (20, 10) x (10, 200) = (20, 200)\n",
    "        \n",
    "        # 第２層\n",
    "        self.dLdA2 = self.back_activation(self.Z2, self.A2, self.dLdZ2)\n",
    "        self.dLdB2 = np.sum(self.dLdA2, axis=0).reshape(1, -1)\n",
    "        self.dLdW2 = np.matmul(self.Z1.T, self.dLdA2)\n",
    "        self.dLdZ1 = np.matmul(self.dLdA2, self.W2.T)\n",
    "        \n",
    "        # 第１層\n",
    "        self.dLdA1 = self.back_activation(self.Z1, self.A1, self.dLdZ1)\n",
    "        self.dLdB1 = np.sum(self.dLdA1, axis=0)\n",
    "        self.dLdW1 = np.matmul(X.T, self.dLdA1)        \n",
    "    \n",
    "    def set_initial_params(self, n_features, n_nodes):\n",
    "        \"\"\"重み・バイアスの初期値を平均=0, 分散=σ^2 の正規分布で発生させる\n",
    "        :parameters\n",
    "            n_features (int): 特徴量数\n",
    "            n_nodes (int): ノード数\n",
    "        \"\"\"\n",
    "        # 正規分布の標準偏差\n",
    "        sigma = 0.01\n",
    "        # 乱数で発生\n",
    "        W = sigma * np.random.randn(n_features, n_nodes)\n",
    "        B = sigma * np.random.randn(1, n_nodes)\n",
    "        return W, B\n",
    "    \n",
    "    def activation(self, A):\n",
    "        if self.act_func == \"sigmoid\":\n",
    "            Z = 1 / (1 + np.exp(-A))\n",
    "        elif self.act_func == \"tanh\":\n",
    "            Z = np.tanh(A)\n",
    "        else:\n",
    "            Z = A\n",
    "        return Z\n",
    "    \n",
    "    def back_activation(self, Z, A, dLdZ):\n",
    "        if self.act_func == \"sigmoid\":\n",
    "            dLdA = dLdZ * Z * (1 - Z)\n",
    "        elif self.act_func == \"tanh\":\n",
    "            dLdA = dLdZ * (1 - np.tanh(A)**2)\n",
    "        return dLdA\n",
    "    \n",
    "    def softmax(self, A):\n",
    "        Z = np.exp(A) / np.sum(np.exp(A), axis=1).reshape(-1, 1)\n",
    "        return Z\n",
    "    \n",
    "    def cross_entropy_error(self, y, Z):\n",
    "        \"\"\"交差エントロピー誤差の計算\n",
    "        :parameters\n",
    "            y (2d-array, (n_samples, n_class)): クラスの正解ラベル（one-hotなので0 or 1）\n",
    "            Z (2d-array, (n_samples, n_class)): クラス分類の予測確率（yと同じ形状）\n",
    "        \"\"\"\n",
    "        L = -1/Z.shape[0] * np.sum(y * np.log(Z))\n",
    "        return L\n",
    "    \n",
    "    def renew_params(self):\n",
    "        \"\"\"パラメータ更新式（確率的勾配降下法）\n",
    "        \"\"\"\n",
    "        self.W1 -= self.lr * self.dLdW1\n",
    "        self.B1 -= self.lr * self.dLdB1\n",
    "        self.W2 -= self.lr * self.dLdW2\n",
    "        self.B2 -= self.lr * self.dLdB2\n",
    "        self.W3 -= self.lr * self.dLdW3\n",
    "        self.B3 -= self.lr * self.dLdB3\n",
    "    \n",
    "    def predict(self, X):\n",
    "        \"\"\"ニューラルネットワーク分類器を使い推定する。\n",
    "        :parameters\n",
    "            X (2d-array, (n_samples, n_features)): サンプル\n",
    "        :returns\n",
    "            label (1d-array, (n_samples, 1)): 推定結果\n",
    "        \"\"\"\n",
    "        self.forward(X)\n",
    "        label = np.argmax(self.Z3, axis=1)\n",
    "        return label"
   ]
  },
  {
   "cell_type": "code",
   "execution_count": 10,
   "metadata": {},
   "outputs": [],
   "source": [
    "class GetMiniBatch:\n",
    "    \"\"\"ミニバッチを取得するイテレータ\n",
    "    :parameters\n",
    "        X (2d-array, (n_samples, n_features)): 訓練データ\n",
    "        y (1d-array, (n_samples, 1)): 正解値\n",
    "        batch_size (int): バッチサイズ\n",
    "        seed (int): 乱数のシード\n",
    "    \"\"\"\n",
    "    def __init__(self, X, y, batch_size=20, seed=0):\n",
    "        self.batch_size = batch_size\n",
    "        np.random.seed(seed)\n",
    "        shuffle_index = np.random.permutation(np.arange(X.shape[0]))\n",
    "        self._X = X[shuffle_index]\n",
    "        self._y = y[shuffle_index]\n",
    "        self._stop = np.ceil(X.shape[0]/self.batch_size).astype(np.int)\n",
    "        \n",
    "    def __len__(self):\n",
    "        return self._stop\n",
    "    \n",
    "    def __getitem__(self, item):\n",
    "        p0 = item*self.batch_size\n",
    "        p1 = item*self.batch_size + self.batch_size\n",
    "        return self._X[p0:p1], self._y[p0:p1]\n",
    "    \n",
    "    def __iter__(self):\n",
    "        self._counter = 0\n",
    "        return self\n",
    "    \n",
    "    def __next__(self):\n",
    "        if self._counter >= self._stop:\n",
    "            raise StopIteration()\n",
    "        p0 = self._counter*self.batch_size\n",
    "        p1 = self._counter*self.batch_size + self.batch_size\n",
    "        self._counter += 1\n",
    "        return self._X[p0:p1], self._y[p0:p1]"
   ]
  },
  {
   "cell_type": "code",
   "execution_count": 11,
   "metadata": {},
   "outputs": [
    {
     "name": "stdout",
     "output_type": "stream",
     "text": [
      "2400\n",
      "(20, 784)\n",
      "[[0. 0. 0. ... 0. 0. 0.]\n",
      " [0. 0. 0. ... 0. 0. 0.]\n",
      " [0. 0. 0. ... 0. 0. 0.]\n",
      " ...\n",
      " [0. 0. 0. ... 0. 0. 0.]\n",
      " [0. 0. 0. ... 0. 0. 0.]\n",
      " [0. 0. 0. ... 0. 0. 0.]]\n",
      "(20, 10)\n",
      "[[0. 0. 0. 0. 1. 0. 0. 0. 0. 0.]\n",
      " [0. 0. 0. 0. 0. 0. 0. 1. 0. 0.]\n",
      " [0. 0. 0. 0. 1. 0. 0. 0. 0. 0.]\n",
      " [0. 0. 0. 0. 0. 0. 0. 0. 0. 1.]\n",
      " [1. 0. 0. 0. 0. 0. 0. 0. 0. 0.]\n",
      " [0. 0. 0. 0. 0. 0. 0. 0. 0. 1.]\n",
      " [0. 0. 0. 0. 0. 0. 0. 0. 0. 1.]\n",
      " [0. 0. 0. 1. 0. 0. 0. 0. 0. 0.]\n",
      " [1. 0. 0. 0. 0. 0. 0. 0. 0. 0.]\n",
      " [0. 0. 0. 0. 0. 0. 0. 1. 0. 0.]\n",
      " [0. 0. 0. 0. 0. 1. 0. 0. 0. 0.]\n",
      " [0. 0. 0. 1. 0. 0. 0. 0. 0. 0.]\n",
      " [0. 0. 0. 0. 1. 0. 0. 0. 0. 0.]\n",
      " [0. 0. 0. 0. 0. 0. 0. 0. 1. 0.]\n",
      " [0. 0. 0. 0. 1. 0. 0. 0. 0. 0.]\n",
      " [0. 0. 0. 0. 0. 0. 0. 0. 1. 0.]\n",
      " [0. 0. 0. 0. 0. 0. 1. 0. 0. 0.]\n",
      " [1. 0. 0. 0. 0. 0. 0. 0. 0. 0.]\n",
      " [0. 0. 1. 0. 0. 0. 0. 0. 0. 0.]\n",
      " [0. 0. 0. 0. 0. 0. 1. 0. 0. 0.]]\n",
      "100 200 300 400 500 600 700 800 900 1000 1100 1200 1300 1400 1500 1600 1700 1800 1900 2000 2100 2200 2300 2400 "
     ]
    }
   ],
   "source": [
    "ex_get_mini_batch = GetMiniBatch(X_train, y_train, batch_size=20)\n",
    "print(len(ex_get_mini_batch))\n",
    "print(ex_get_mini_batch[5][0].shape)\n",
    "print(ex_get_mini_batch[5][0])\n",
    "print(ex_get_mini_batch[5][1].shape)\n",
    "print(ex_get_mini_batch[5][1])\n",
    "for ex_mini_X_train, ex_mini_y_train in ex_get_mini_batch:\n",
    "    if ex_get_mini_batch._counter % 100 == 0:\n",
    "        print(ex_get_mini_batch._counter, end=\" \")"
   ]
  },
  {
   "cell_type": "markdown",
   "metadata": {},
   "source": [
    "# 【問題1】重みの初期値を決めるコードの作成"
   ]
  },
  {
   "cell_type": "markdown",
   "metadata": {},
   "source": [
    "ニューラルネットワークの各層の重みの初期値を決めるコードを作成してください。  \n",
    "重みの初期値は様々な方法が提案されていますが、今回はガウス分布による単純な初期化を行います。バイアスに関しても同様です。  "
   ]
  },
  {
   "cell_type": "markdown",
   "metadata": {},
   "source": [
    "以下のメソッドをScratchSimpleNeuralNetworkClassifierに実装した。\n",
    "```python\n",
    "def set_initial_params(self, n_features, n_nodes):\n",
    "    \"\"\"重み・バイアスの初期値を平均=0, 分散=σ^2 の正規分布で発生させる\n",
    "    :parameters\n",
    "        n_features (int): 特徴量数\n",
    "        n_nodes (int): ノード数\n",
    "    \"\"\"\n",
    "    # 正規分布の標準偏差\n",
    "    sigma = 0.01\n",
    "    # 乱数で発生\n",
    "    W = sigma * np.random.randn(n_features, n_nodes)\n",
    "    B = sigma * np.random.randn(1, n_nodes)\n",
    "    return W, B\n",
    "```"
   ]
  },
  {
   "cell_type": "markdown",
   "metadata": {},
   "source": [
    "# 【問題2】フォワードプロパゲーションの実装"
   ]
  },
  {
   "cell_type": "markdown",
   "metadata": {},
   "source": [
    "三層のニューラルネットワークの フォワードプロパゲーション を作成してください。  "
   ]
  },
  {
   "cell_type": "markdown",
   "metadata": {},
   "source": [
    "以下のメソッドをScratchSimpleNeuralNetworkClassifierに実装した。  \n",
    "- 活性化関数  \n",
    "```python\n",
    "def activation(self, A):\n",
    "    if self.act_func == \"sigmoid\":\n",
    "        Z = 1 / (1 + np.exp(-A))\n",
    "    elif self.act_func == \"tanh\":\n",
    "        Z = np.tanh(A)\n",
    "    else:\n",
    "        Z = A\n",
    "    return Z\n",
    "```  "
   ]
  },
  {
   "cell_type": "markdown",
   "metadata": {},
   "source": [
    "- softmax関数  \n",
    "```python\n",
    "def softmax(self, A):\n",
    "    Z = np.exp(A) / np.sum(np.exp(A), axis=1).reshape(-1, 1)\n",
    "    return Z\n",
    "```  "
   ]
  },
  {
   "cell_type": "markdown",
   "metadata": {},
   "source": [
    "- フォワードプロパゲーション  \n",
    "```python\n",
    "def forward(self, X0):\n",
    "    \"\"\"フォワードプロパゲーション\n",
    "    :parameters\n",
    "        X0 (2d-array, (n_samples, n_features)): 訓練データ\n",
    "    \"\"\"\n",
    "    # 第１層： A = XW + B --> Z = act(A)\n",
    "    self.A1 = np.matmul(X0, self.W1) + self.B1\n",
    "    self.Z1 = self.activation(self.A1)\n",
    "\n",
    "    # 第２層： A = ZW + B --> Z = act(A)\n",
    "    self.A2 = np.matmul(self.Z1, self.W2) + self.B2\n",
    "    self.Z2 = self.activation(self.A2)\n",
    "\n",
    "    # 第３層： A = ZW + B --> Z = softmax(A)\n",
    "    self.A3 = np.matmul(self.Z2, self.W3) + self.B3\n",
    "    self.Z3 = self.softmax(self.A3)  # 最後はソフトマックス関数で確率にする\n",
    "```"
   ]
  },
  {
   "cell_type": "markdown",
   "metadata": {},
   "source": [
    "# 【問題3】交差エントロピー誤差の実装"
   ]
  },
  {
   "cell_type": "markdown",
   "metadata": {},
   "source": [
    "目的関数（損失関数）を作成します。  \n",
    "多クラス分類の目的関数である交差エントロピー誤差$L$は次の数式です。\n",
    "$$\n",
    "L = - \\frac{1}{n_b}\\sum_{j}^{n_b}\\sum_{k}^{n_c}y_{jk} log(z_{3\\_jk})\n",
    "$$\n",
    "$y_{ij}$:$j$番目のサンプルの$k$番目のクラスの正解ラベル  \n",
    "$z_{3_ij}$:$j$番目のサンプルの$k$番目のクラスの確率(スカラー)  \n",
    "$n_{b}$:バッチサイズ、batch_size  \n",
    "$n_{c}$:クラスの数、n_output(今回のMNISTでは10)  \n",
    "サンプル1つあたりの誤差が求まります。"
   ]
  },
  {
   "cell_type": "markdown",
   "metadata": {},
   "source": [
    "以下のメソッドをScratchSimpleNeuralNetworkClassifierに実装した。\n",
    "```python\n",
    "def cross_entropy_error(self, y, Z):\n",
    "    \"\"\"交差エントロピー誤差の計算\n",
    "    :parameters\n",
    "        y (2d-array, (n_samples, n_class)): クラスの正解ラベル（one-hotなので0 or 1）\n",
    "        Z (2d-array, (n_samples, n_class)): クラス分類の予測確率（yと同じ形状）\n",
    "    \"\"\"\n",
    "    L = -1/Z.shape[0] * np.sum(y * np.log(Z))\n",
    "    return L\n",
    "```"
   ]
  },
  {
   "cell_type": "markdown",
   "metadata": {},
   "source": [
    "# 【問題4】バックプロパゲーションの実装"
   ]
  },
  {
   "cell_type": "markdown",
   "metadata": {},
   "source": [
    "三層のニューラルネットワークのバックプロパゲーションを作成してください。確率的勾配降下法を行う部分です。  \n",
    "数式を以下に示します。  \n",
    "まず、$i$層目の重みとバイアスの更新式です。   \n",
    "$W_i$と$B_i$に対し、更新後の$W_i^{\\prime}$と$B_i^{\\prime}$は次の数式で求められます。\n",
    "$$\n",
    "W_i^{\\prime} = W_i - \\alpha \\frac{\\partial L}{\\partial W_i} \\\\\n",
    "B_i^{\\prime} = B_i - \\alpha \\frac{\\partial L}{\\partial B_i}\n",
    "$$\n",
    "$\\alpha$: 学習率（層ごとに変えることも可能だが、基本的には全て同じとする）  \n",
    "$\\frac{\\partial L}{\\partial W_i}$:$W_i$に関する損失$L$の勾配  \n",
    "$\\frac{\\partial L}{\\partial B_i}$:$B_i$に関する損失$L$の勾配"
   ]
  },
  {
   "cell_type": "markdown",
   "metadata": {},
   "source": [
    "以下のメソッドをScratchSimpleNeuralNetworkClassifierに実装した。  \n",
    "- 誤差逆伝播法で勾配を計算\n",
    "```python\n",
    "def backward(self, X, y_true):\n",
    "    \"\"\"バックワードプロパゲーション（誤差逆伝播）\n",
    "    後ろからさかのぼって勾配を計算していき、attributesに保持していく。\n",
    "    :parameters\n",
    "        X (2d-array, (n_samples, n_features)): 訓練データ\n",
    "        y_true (1d-array, (n_samples, 1)): 正解ラベル\n",
    "    \"\"\"\n",
    "    # 第３層\n",
    "    self.dLdA3 = self.Z3 - y_true  # (20, 10)\n",
    "    self.dLdB3 = np.sum(self.dLdA3, axis=0).reshape(1, -1)  # (1, 10)\n",
    "    self.dLdW3 = np.matmul(self.Z2.T, self.dLdA3)  # (200, 20) x (20, 10) = (200, 10)\n",
    "    self.dLdZ2 = np.matmul(self.dLdA3, self.W3.T)  # (20, 10) x (10, 200) = (20, 200)\n",
    "\n",
    "    # 第２層\n",
    "    self.dLdA2 = self.back_activation(self.Z2, self.A2, self.dLdZ2)\n",
    "    self.dLdB2 = np.sum(self.dLdA2, axis=0).reshape(1, -1)\n",
    "    self.dLdW2 = np.matmul(self.Z1.T, self.dLdA2)\n",
    "    self.dLdZ1 = np.matmul(self.dLdA2, self.W2.T)\n",
    "\n",
    "    # 第１層\n",
    "    self.dLdA1 = self.back_activation(self.Z1, self.A1, self.dLdZ1)\n",
    "    self.dLdB1 = np.sum(self.dLdA1, axis=0)\n",
    "    self.dLdW1 = np.matmul(X.T, self.dLdA1)\n",
    "```"
   ]
  },
  {
   "cell_type": "markdown",
   "metadata": {},
   "source": [
    "- 活性化関数の逆伝播  \n",
    "```python\n",
    "def back_activation(self, Z, A, dLdZ):\n",
    "    if self.act_func == \"sigmoid\":\n",
    "        dLdA = dLdZ * Z * (1 - Z)\n",
    "    elif self.act_func == \"tanh\":\n",
    "        dLdA = dLdZ * (1 - np.tanh(A)**2)\n",
    "    return dLdA\n",
    "```"
   ]
  },
  {
   "cell_type": "markdown",
   "metadata": {},
   "source": [
    "- データから学習  \n",
    "```python\n",
    "def fit(self, X, y, X_val=None, y_val=None):\n",
    "    \"\"\"ニューラルネットワーク分類器を学習する。\n",
    "    :parameters\n",
    "        X (2d-array, (n_samples, n_features)): 訓練データの特徴量\n",
    "        y (1d-array, (n_samples,)): 訓練データの正解値\n",
    "        X_val (2d-array, (n_samples, n_features)): 検証データの特徴量\n",
    "        y_val (1d-array, (n_samples,)): 検証データの正解値\n",
    "    \"\"\"\n",
    "    # 損失関数値の推移を保持するattributes\n",
    "    self.loss = []\n",
    "    self.loss_val = []\n",
    "\n",
    "    # 重みの初期値を発生させる\n",
    "    n_nodes1 = 400\n",
    "    n_nodes2 = 200\n",
    "    self.W1, self.B1 = self.set_initial_params(X.shape[1], n_nodes1)\n",
    "    self.W2, self.B2 = self.set_initial_params(n_nodes1, n_nodes2)\n",
    "    self.W3, self.B3 = self.set_initial_params(n_nodes2, y.shape[1])\n",
    "\n",
    "    # 学習\n",
    "    for epoch in range(self.n_epoch):\n",
    "        # エポックごとに乱数を変えて、ミニバッチを取得する\n",
    "        get_mini_batch = GetMiniBatch(X, y, batch_size=20, seed=epoch)\n",
    "\n",
    "        # ミニバッチ（20枚）ごとに学習をすすめる。\n",
    "        for mini_X_train, mini_y_train in get_mini_batch:\n",
    "            # forwardで予測値を計算して、途中のA,Zをattributesとして保持\n",
    "            self.forward(mini_X_train)\n",
    "\n",
    "            # backwardで勾配を計算して、attributesとして保持\n",
    "            self.backward(mini_X_train, mini_y_train)\n",
    "\n",
    "            # 勾配を元に、WとBを更新\n",
    "            self.renew_params()\n",
    "\n",
    "            if get_mini_batch._counter % self.plot_interval == 0:\n",
    "                # クロスエントロピー誤差を計算して保持\n",
    "                self.forward(X[:5000])\n",
    "                self.loss.append(self.cross_entropy_error(y[:5000], self.Z3))\n",
    "                # 検証データありの場合はそちらの結果も保持\n",
    "                if X_val is not None and y_val is not None:\n",
    "                    self.forward(X_val[:5000])\n",
    "                    self.loss_val.append(self.cross_entropy_error(y_val[:5000], self.Z3))\n",
    "\n",
    "        #if self.verbose and epoch%10 == 0:  # 学習過程の出力（エポックごと）\n",
    "        if len(self.loss_val) != 0:\n",
    "            # 現在のエポックと、損失関数の値を表示\n",
    "            print(\"Epoch {}:   Loss={:.5f}   Loss_valid={:.5f}\".format(epoch, self.loss[-1], self.loss_val[-1]))\n",
    "        else:\n",
    "            # 現在のエポックと、損失関数の値を表示\n",
    "            print(\"Epoch {}:   Loss={:.5f}\".format(epoch, self.loss[-1]))\n",
    "```"
   ]
  },
  {
   "cell_type": "markdown",
   "metadata": {},
   "source": [
    "- パラメータ更新  \n",
    "```python\n",
    "def renew_params(self):\n",
    "    \"\"\"パラメータ更新式（確率的勾配降下法）\n",
    "    \"\"\"\n",
    "    self.W1 -= self.lr * self.dLdW1\n",
    "    self.B1 -= self.lr * self.dLdB1\n",
    "    self.W2 -= self.lr * self.dLdW2\n",
    "    self.B2 -= self.lr * self.dLdB2\n",
    "    self.W3 -= self.lr * self.dLdW3\n",
    "    self.B3 -= self.lr * self.dLdB3\n",
    "```"
   ]
  },
  {
   "cell_type": "markdown",
   "metadata": {},
   "source": [
    "# 【問題5】推定"
   ]
  },
  {
   "cell_type": "markdown",
   "metadata": {},
   "source": [
    "推定を行うメソッドを作成してください。  \n",
    "フォワードプロパゲーションによって出力された10個の確率の中で、最も高いものはどれかを判定します。"
   ]
  },
  {
   "cell_type": "markdown",
   "metadata": {},
   "source": [
    "以下のメソッドをScratchSimpleNeuralNetworkClassifierに実装した。\n",
    "```python\n",
    "def predict(self, X):\n",
    "    \"\"\"ニューラルネットワーク分類器を使い推定する。\n",
    "    :parameters\n",
    "        X (2d-array, (n_samples, n_features)): サンプル\n",
    "    :returns\n",
    "        label (1d-array, (n_samples, 1)): 推定結果\n",
    "    \"\"\"\n",
    "    self.forward(X)\n",
    "    label = np.argmax(self.Z3, axis=1)\n",
    "    return label\n",
    "```"
   ]
  },
  {
   "cell_type": "markdown",
   "metadata": {},
   "source": [
    "# 【問題6】学習と推定"
   ]
  },
  {
   "cell_type": "markdown",
   "metadata": {},
   "source": [
    "MNISTのデータを学習・推定し、Accuracyを計算してください。"
   ]
  },
  {
   "cell_type": "code",
   "execution_count": 12,
   "metadata": {},
   "outputs": [
    {
     "name": "stdout",
     "output_type": "stream",
     "text": [
      "Epoch 0:   Loss=1.72280   Loss_valid=1.71712\n",
      "Epoch 1:   Loss=0.55330   Loss_valid=0.52172\n",
      "Epoch 2:   Loss=0.32874   Loss_valid=0.30748\n",
      "Epoch 3:   Loss=0.25210   Loss_valid=0.24155\n",
      "Epoch 4:   Loss=0.19918   Loss_valid=0.19161\n",
      "Epoch 5:   Loss=0.19120   Loss_valid=0.18671\n",
      "Epoch 6:   Loss=0.14779   Loss_valid=0.14642\n",
      "Epoch 7:   Loss=0.13669   Loss_valid=0.13500\n",
      "Epoch 8:   Loss=0.10235   Loss_valid=0.11127\n",
      "Epoch 9:   Loss=0.09176   Loss_valid=0.10835\n",
      "Epoch 10:   Loss=0.08987   Loss_valid=0.10846\n",
      "Epoch 11:   Loss=0.08146   Loss_valid=0.09737\n",
      "Epoch 12:   Loss=0.07375   Loss_valid=0.09791\n",
      "Epoch 13:   Loss=0.05686   Loss_valid=0.08494\n",
      "Epoch 14:   Loss=0.05248   Loss_valid=0.08892\n",
      "Epoch 15:   Loss=0.04693   Loss_valid=0.08653\n",
      "Epoch 16:   Loss=0.04015   Loss_valid=0.07668\n",
      "Epoch 17:   Loss=0.04080   Loss_valid=0.08134\n",
      "Epoch 18:   Loss=0.03376   Loss_valid=0.07541\n",
      "Epoch 19:   Loss=0.03261   Loss_valid=0.08112\n"
     ]
    }
   ],
   "source": [
    "nn = ScratchSimpleNeuralNetworkClassifier(n_epoch=20, plot_interval=10)\n",
    "ex_w1, ex_b1 = nn.set_initial_params(ex_mini_X_train.shape[1], 400)\n",
    "nn.fit(X_train, y_train, X_val, y_val)"
   ]
  },
  {
   "cell_type": "code",
   "execution_count": 13,
   "metadata": {},
   "outputs": [
    {
     "name": "stdout",
     "output_type": "stream",
     "text": [
      "Validation Data\n",
      "(12000,)\n",
      "(12000,)\n",
      "accuracy = 0.97442\n",
      "\n",
      "Test Data\n",
      "(10000,)\n",
      "(10000,)\n",
      "accuracy = 0.97370\n"
     ]
    }
   ],
   "source": [
    "from sklearn.metrics import accuracy_score\n",
    "\n",
    "print(\"Validation Data\")\n",
    "y_pred = nn.predict(X_val)\n",
    "y_true = np.argmax(y_val, axis=1)\n",
    "print(y_pred.shape)\n",
    "print(y_true.shape)\n",
    "acc = accuracy_score(y_true, y_pred)\n",
    "print(\"accuracy = {:.5f}\".format(acc))\n",
    "\n",
    "print()\n",
    "print(\"Test Data\")\n",
    "y_pred_test = nn.predict(X_test)\n",
    "y_true_test = y_test\n",
    "print(y_pred_test.shape)\n",
    "print(y_true_test.shape)\n",
    "acc_test = accuracy_score(y_true_test, y_pred_test)\n",
    "print(\"accuracy = {:.5f}\".format(acc_test))"
   ]
  },
  {
   "cell_type": "markdown",
   "metadata": {},
   "source": [
    "# 【問題7】学習曲線のプロット"
   ]
  },
  {
   "cell_type": "markdown",
   "metadata": {},
   "source": [
    "学習曲線をプロットしてください。\n",
    "ニューラルネットワークは過学習が発生しやすいため、学習曲線の確認が重要です。  \n",
    "訓練データと検証データに対するエポックごとの損失（交差エントロピー誤差）を記録できるようにする必要があります。"
   ]
  },
  {
   "cell_type": "code",
   "execution_count": 14,
   "metadata": {},
   "outputs": [
    {
     "data": {
      "image/png": "[encoded data removed]",
      "text/plain": [
       "<Figure size 360x360 with 1 Axes>"
      ]
     },
     "metadata": {
      "needs_background": "light"
     },
     "output_type": "display_data"
    }
   ],
   "source": [
    "fig, ax = plt.subplots(figsize=(5, 5))\n",
    "x1 = np.arange(len(nn.loss))\n",
    "y1 = nn.loss\n",
    "x2 = np.arange(len(nn.loss_val))\n",
    "y2 = nn.loss_val\n",
    "\n",
    "ax.plot(x1, y1, label=\"train\", alpha=0.75)\n",
    "ax.plot(x2, y2, label=\"valid\", alpha=0.75)\n",
    "\n",
    "xticks = ax.get_xticks()\n",
    "ax.set_xticklabels((xticks * nn.plot_interval).astype(np.int))\n",
    "\n",
    "ax.set_xlabel(\"Iteration\", fontsize=20)\n",
    "ax.set_ylabel(\"Loss Function Value\", fontsize=20)\n",
    "ax.set_yscale(\"log\")\n",
    "ax.legend(frameon=False)\n",
    "plt.show()"
   ]
  }
 ],
 "metadata": {
  "kernelspec": {
   "display_name": "Python 3",
   "language": "python",
   "name": "python3"
  },
  "language_info": {
   "codemirror_mode": {
    "name": "ipython",
    "version": 3
   },
   "file_extension": ".py",
   "mimetype": "text/x-python",
   "name": "python",
   "nbconvert_exporter": "python",
   "pygments_lexer": "ipython3",
   "version": "3.7.4"
  }
 },
 "nbformat": 4,
 "nbformat_minor": 4
}
