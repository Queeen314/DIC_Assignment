{
 "cells": [
  {
   "cell_type": "markdown",
   "metadata": {},
   "source": [
    "**【問題1】行列積を手計算する**  \n",
    "AとBの行列積を手計算で解いてください。  \n",
    "計算過程もマークダウンテキストを用いて説明してください。  \n",
    "$% <![CDATA[\n",
    "A = \\left[\n",
    "\\begin{array}{ccc}\n",
    "  -1 & 2 & 3 \\\\\n",
    "  4 & -5 & 6 \\\\\u0018\u0018\n",
    "  7 & 8 & -9\n",
    "\\end{array}\n",
    "\\right],\n",
    "B = \\left[\n",
    "\\begin{array}{ccc}\n",
    "  0 & 2 & 1 \\\\\n",
    "  0 & 2 & -8 \\\\\n",
    "  2 & 9 & -1\n",
    "\\end{array}\n",
    "\\right] %]]>$"
   ]
  },
  {
   "cell_type": "markdown",
   "metadata": {},
   "source": [
    "手計算  \n",
    "$% <![CDATA[\n",
    "AB = \\left[\n",
    "\\begin{array}{ccc}\n",
    "  -1*0 +    2*0 +    3*2 &  -1*2 +    2*2 +    3*9 & -1*1    +    2*(-8) +    3*(-1)\\\\\n",
    "   4*0 + (-5)*0 +    6*2 &   4*2 + (-5)*2 +    6*9 &  4*1    + (-5)*(-8) +    6*(-1)\\\\\u0018\u0018\n",
    "   7*0 +    8*0 + (-9)*2 &   7*2 +    8*2 + (-9)*9 &  7*1    +    8*(-8) + (-9)*(-1)\n",
    "\\end{array}\n",
    "\\right]\n",
    "= \\left[\n",
    "\\begin{array}{ccc}\n",
    "     6 &  29 & -20\\\\\n",
    "    12 &  52 &  38\\\\\u0018\u0018\n",
    "   -18 & -51 & -48\n",
    "\\end{array}\n",
    "\\right] %]]>$"
   ]
  },
  {
   "cell_type": "markdown",
   "metadata": {},
   "source": [
    "**【問題2】NumPyの関数による計算**  \n",
    "この行列積はNumPyのnp.matmul()やnp.dot()、または@演算子を使うことで簡単に計算できます。  \n",
    "これらを使い行列積を計算してください。"
   ]
  },
  {
   "cell_type": "code",
   "execution_count": 1,
   "metadata": {},
   "outputs": [
    {
     "data": {
      "text/plain": [
       "array([[  6,  29, -20],\n",
       "       [ 12,  52,  38],\n",
       "       [-18, -51, -48]])"
      ]
     },
     "execution_count": 1,
     "metadata": {},
     "output_type": "execute_result"
    }
   ],
   "source": [
    "import numpy as np\n",
    "a_ndarray = np.array([[-1, 2, 3], [4, -5, 6], [7, 8, -9]])\n",
    "b_ndarray = np.array([[0, 2, 1], [0, 2, -8], [2, 9, -1]])\n",
    "ab_ndarray = np.dot(a_ndarray, b_ndarray)\n",
    "ab_ndarray"
   ]
  },
  {
   "cell_type": "markdown",
   "metadata": {},
   "source": [
    "**【問題3】ある要素の計算を実装**  \n",
    "手計算をする際はまず行列Aの0行目と行列Bの0列目に注目し、以下の計算を行ったかと思います。  \n",
    "行列Aの(0,0)の要素$a_{0, 0}$と行列Bの(0,0)の要素$b_{0, 0}$  \n",
    "行列Aの(0,1)の要素$a_{0, 1}$と行列Bの(1,0)の要素$b_{1, 0}$  \n",
    "行列Aの(0,2)の要素$a_{0, 2}$と行列Bの(2,0)の要素$b_{2, 0}$  \n",
    "それらの値を全て足し合わせる\n",
    "数式で表すと  \n",
    "\n",
    "$\\sum^{2}_{k=0}a_{0,k}b_{k,0}$\n",
    "\n",
    "です。  \n",
    "この計算をnp.matmul()やnp.dot()、または@演算子を使わずに行うコードを書いてください。"
   ]
  },
  {
   "cell_type": "markdown",
   "metadata": {},
   "source": [
    "<!-- **【問題4】行列積を行う関数の作成**   -->\n",
    "問題3のコードを拡張し、行列積のスクラッチ実装を完成させてください。行列AとBを引数に受け取り、行列積を返す関数としてください。  \n",
    "行列積を計算する場合は、問題3の計算を異なる行や列に対して繰り返していくことになります。  \n",
    "計算結果である$3 \\times 3$の行列Cの各要素$c_{i, j}$は数式で表すと次のようになります。  \n",
    "\n",
    "$c_{i,j} = \\sum^{2}_{k=0}a_{i,k}b_{k,j}$\n",
    "\n",
    "for文を使い、ndarrayのインデックスを動かしていくことで、合計9つの要素が計算できます。  \n",
    "インデックス$i$や$j$を1増やすと、次の行や列に移ることができます。"
   ]
  },
  {
   "cell_type": "code",
   "execution_count": 2,
   "metadata": {},
   "outputs": [
    {
     "name": "stdout",
     "output_type": "stream",
     "text": [
      "[[  6  29 -20]\n",
      " [ 12  52  38]\n",
      " [-18 -51 -48]]\n"
     ]
    }
   ],
   "source": [
    "def calc_2matrix_product(ndarray1, ndarray2):\n",
    "    ab = []\n",
    "    for i in range(a_ndarray.shape[0]):\n",
    "        for j in range(b_ndarray.shape[1]):\n",
    "            ab.append(sum(a_ndarray[i, :] * b_ndarray[:, j]))\n",
    "    calculated_ndarray = np.array(ab).reshape(a_ndarray.shape[0], b_ndarray.shape[1])\n",
    "    return calculated_ndarray\n",
    "\n",
    "ab_ndarray = calc_2matrix_product(a_ndarray, b_ndarray)\n",
    "print(ab_ndarray)"
   ]
  },
  {
   "cell_type": "markdown",
   "metadata": {},
   "source": [
    "**【問題5】計算が定義されない入力を判定する**  \n",
    "問題4で作成した関数は、実装方法によってはこのDとEの配列を入力しても動いてしまう可能性があります。この場合、不適切な計算が行われることになります。また、途中でエラーになる場合でも、なぜエラーになったかが直接的には分かりづらいメッセージが表示されます。  \n",
    "if文などによってこれを防ぎ、入力される形に問題があることをprint()を使い表示するコードを書き加えてください。"
   ]
  },
  {
   "cell_type": "code",
   "execution_count": 3,
   "metadata": {},
   "outputs": [
    {
     "name": "stdout",
     "output_type": "stream",
     "text": [
      "引数1の行数と引数2の列数の数が一致していません。\n",
      "None\n"
     ]
    }
   ],
   "source": [
    "def calc_2matrix_product(ndarray1, ndarray2):\n",
    "    if ndarray1.shape[1] == ndarray2.shape[0]:\n",
    "        ab = []\n",
    "        for i in range(a_ndarray.shape[0]):\n",
    "            for j in range(b_ndarray.shape[1]):\n",
    "                ab.append(sum(a_ndarray[i, :] * b_ndarray[:, j]))\n",
    "        calculated_ndarray = np.array(ab).reshape(a_ndarray.shape[0], b_ndarray.shape[1])\n",
    "        return calculated_ndarray\n",
    "    else:\n",
    "        print(\"引数1の行数と引数2の列数の数が一致していません。\")\n",
    "\n",
    "d_ndarray = np.array([[-1, 2, 3], [4, -5, 6]])\n",
    "e_ndarray = np.array([[-9, 8, 7], [6, -5, 4]])\n",
    "calculated_ndarray = calc_2matrix_product(d_ndarray, e_ndarray)\n",
    "print(calculated_ndarray)"
   ]
  },
  {
   "cell_type": "markdown",
   "metadata": {},
   "source": [
    "**【問題6】転置**  \n",
    "片方の行列を転置することで、行列積が計算できるようになります。  \n",
    "np.transpose()や.Tアトリビュートを用いて転置し、行列積を計算してください。"
   ]
  },
  {
   "cell_type": "code",
   "execution_count": 4,
   "metadata": {},
   "outputs": [
    {
     "name": "stdout",
     "output_type": "stream",
     "text": [
      "e_ndarray = \n",
      " [[-9  8  7]\n",
      " [ 6 -5  4]]\n",
      "transposed_e_ndarray = \n",
      " [[-9  6]\n",
      " [ 8 -5]\n",
      " [ 7  4]]\n",
      "calculated_ndarray = \n",
      " [[  6  29 -20]\n",
      " [ 12  52  38]\n",
      " [-18 -51 -48]]\n"
     ]
    }
   ],
   "source": [
    "d_ndarray = np.array([[-1, 2, 3], [4, -5, 6]])\n",
    "e_ndarray = np.array([[-9, 8, 7], [6, -5, 4]])\n",
    "print(\"e_ndarray = \\n\", e_ndarray)\n",
    "transposed_e_ndarray = e_ndarray.T\n",
    "print(\"transposed_e_ndarray = \\n\", transposed_e_ndarray)\n",
    "\n",
    "calculated_ndarray = calc_2matrix_product(d_ndarray, transposed_e_ndarray)\n",
    "print(\"calculated_ndarray = \\n\", calculated_ndarray)"
   ]
  }
 ],
 "metadata": {
  "kernelspec": {
   "display_name": "Python 3",
   "language": "python",
   "name": "python3"
  },
  "language_info": {
   "codemirror_mode": {
    "name": "ipython",
    "version": 3
   },
   "file_extension": ".py",
   "mimetype": "text/x-python",
   "name": "python",
   "nbconvert_exporter": "python",
   "pygments_lexer": "ipython3",
   "version": "3.6.10"
  }
 },
 "nbformat": 4,
 "nbformat_minor": 2
}
