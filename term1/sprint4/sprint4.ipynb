{
 "cells": [
  {
   "cell_type": "markdown",
   "metadata": {},
   "source": [
    "# 【問題1】仮定関数"
   ]
  },
  {
   "cell_type": "markdown",
   "metadata": {},
   "source": [
    "ロジスティック回帰の仮定関数のメソッドをScratchLogisticRegressionクラスに実装してください。  \n",
    "ロジスティック回帰の仮定関数は、線形回帰の仮定関数を シグモイド関数 に通したものです。シグモイド関数は以下の式で表されます。  \n",
    "$$\n",
    "g(z) = \\frac{1}{1+e^{−z}}.\n",
    "$$\n",
    "線形回帰の仮定関数は次の式でした。\n",
    "$$\n",
    "h_\\theta(x) = \\theta^T \\cdot x.\n",
    "$$\n",
    "まとめて書くと、ロジスティック回帰の仮定関数は次のようになります。\n",
    "$$\n",
    "h_\\theta(x) = \\frac{1}{1+e^{−\\theta^T \\cdot x}}.\n",
    "$$\n",
    "$x$: 特徴量ベクトル\n",
    "$\\theta$: パラメータ（重み）ベクトル"
   ]
  },
  {
   "cell_type": "markdown",
   "metadata": {},
   "source": [
    "以下のメソッドをScratchLogisticRegresstionに実装した。\n",
    "```python\n",
    "def _logistic_hypothesis(self, X):\n",
    "    \"\"\"\n",
    "    ロジスティック回帰の仮定関数を計算する\n",
    "\n",
    "    Parameters\n",
    "    ----------\n",
    "    X : 次の形のndarray, shape (n_samples, n_features)\n",
    "      訓練データ\n",
    "\n",
    "    Returns\n",
    "    -------\n",
    "      次の形のndarray, shape (n_samples, 1)\n",
    "      ロジスティック回帰の仮定関数による推定結果\n",
    "    \"\"\"\n",
    "    net_input = np.dot(X, self.coef_)\n",
    "    return 1. / (1. + np.exp(-np.clip(net_input, -250, 250)))\n",
    "```"
   ]
  },
  {
   "cell_type": "markdown",
   "metadata": {},
   "source": [
    "# 【問題2】最急降下法"
   ]
  },
  {
   "cell_type": "markdown",
   "metadata": {},
   "source": [
    "最急降下法により学習させる実装を行なってください。  \n",
    "以下の式で表されるパラメータの更新式のメソッド_gradient_descentを追加し、fitメソッドから呼び出すようにしてください。  \n",
    "$$\n",
    "\\theta_j := \\theta_j - \\alpha \\frac{\\partial J(\\theta)}{\\partial \\theta_j}\\\\<br/>\\frac{\\partial J(\\theta)}{\\partial \n",
    "\\theta_0} = \\frac{1}{m}  \\sum_{i=1}^{m}(h_θ(x^{(i)}) − y^{(i)})x_j^{(i)}  ,j = 0\\\\<br/>\\frac{\\partial J(\\theta)}{\\partial \n",
    "\\theta_j} = \\biggl(\\frac{1}{m}  \\sum_{i=1}^{m}(h_θ(x^{(i)}) − y^{(i)})x_j^{(i)} \\biggr) + \\frac{λ}{m}\\theta_j　 ,j\\geq 1\n",
    "$$\n",
    "$\\alpha$: : 学習率  \n",
    "$i$: サンプルのインデックス  \n",
    "$j$: 特徴量のインデックス  \n",
    "$m$: 入力されるデータの数  \n",
    "$h_\\theta()$: 仮定関数  \n",
    "$x$: 特徴量ベクトル  \n",
    "$\\theta$: パラメータ（重み）ベクトル  \n",
    "$x^{(i)}$: i番目のサンプルの特徴量ベクトル  \n",
    "$y^{(i)}$: i番目のサンプルの正解ラベル  \n",
    "$\\theta_j$: j番目のパラメータ（重み）  \n",
    "$λ$: 正則化パラメータ"
   ]
  },
  {
   "cell_type": "markdown",
   "metadata": {},
   "source": [
    "以下のメソッドをScratchLogisticRegresstionに実装した。  \n",
    "```python\n",
    "    def _gradient_descent(self, X, errors):\n",
    "        \"\"\"\n",
    "        最急降下法により重みとバイアスの更新を行う\n",
    "        Parameters\n",
    "        ----------\n",
    "        X : 次の形のndarray, shape (n_samples, n_features)\n",
    "          訓練データ\n",
    "        errors : 次の形のndarray, shape (n_samples,)\n",
    "          目的変数から予測値を引いたもの\n",
    "        \"\"\"\n",
    "        self.coef_ -= self.lr * np.dot(errors.T, X) / X.shape[0] + self.coef_ / (self.C*X.shape[0])\n",
    "        \n",
    "        if self.no_bias == False:\n",
    "            self.coef_[0] -= self.lr * errors.sum() / X.shape[0]\n",
    " ```"
   ]
  },
  {
   "cell_type": "markdown",
   "metadata": {},
   "source": [
    "# 【問題3】推定"
   ]
  },
  {
   "cell_type": "markdown",
   "metadata": {},
   "source": [
    "推定する仕組みを実装してください。  \n",
    "ScratchLogisticRegressionクラスの雛形に含まれるpredictメソッドとpredict_probaメソッドに書き加えてください。  \n",
    "仮定関数$h_\\theta(x)$の出力がpredict_probaの返り値、さらにその値に閾値を設けて1と0のラベルとしたものがpredictの返り値となります。"
   ]
  },
  {
   "cell_type": "markdown",
   "metadata": {},
   "source": [
    "以下のメソッドをScratchLogisticRegresstionに実装した。  \n",
    "```python\n",
    "def predict(self, X):\n",
    "    \"\"\"\n",
    "    ロジスティック回帰を使いラベルを推定する。\n",
    "\n",
    "    Parameters\n",
    "    ----------\n",
    "    X : 次の形のndarray, shape (n_samples, n_features)\n",
    "        サンプル\n",
    "\n",
    "    Returns\n",
    "    -------\n",
    "        次の形のndarray, shape (n_samples, 1)\n",
    "        ロジスティック回帰による推定結果\n",
    "    \"\"\"\n",
    "    if self.no_bias == False:\n",
    "        X = np.insert(X,0,1,axis=1)\n",
    "    return np.where(self._logistic_hypothesis(X) >= 0.5, 1, 0)\n",
    "\n",
    "def predict_proba(self, X):\n",
    "    \"\"\"\n",
    "    ロジスティック回帰を使い確率を推定する。\n",
    "\n",
    "    Parameters\n",
    "    ----------\n",
    "    X : 次の形のndarray, shape (n_samples, n_features)\n",
    "        サンプル\n",
    "\n",
    "    Returns\n",
    "    -------\n",
    "        次の形のndarray, shape (n_samples, 1)\n",
    "        ロジスティック回帰による推定結果\n",
    "    \"\"\"\n",
    "    if self.no_bias == False:\n",
    "        X = np.insert(X,0,1,axis=1)\n",
    "    return self._logistic_hypothesis(X)\n",
    "```"
   ]
  },
  {
   "cell_type": "markdown",
   "metadata": {},
   "source": [
    "# 【問題4】目的関数"
   ]
  },
  {
   "cell_type": "markdown",
   "metadata": {},
   "source": [
    "以下の数式で表されるロジスティック回帰の **目的関数（損失関数）** を実装してください。  \n",
    "そして、これをself.loss, self.val_lossに記録するようにしてください。  \n",
    "なお、この数式には正則化項が含まれています。  \n",
    "$$\n",
    "J(\\theta)=  \\frac{1}{m}  \\sum_{i=1}^{m}[−y^{(i)} log(h_θ(x^{(i)})) − (1−y^{(i)}) log(1−h_θ(x^{(i)}))] +\n",
    "\\frac{λ}{2m}\\sum_{j=1}^n\n",
    "θ^2_j.\\\\\n",
    "$$\n",
    "$m$: 入力されるデータの数  \n",
    "$h_\\theta()$: 仮定関数  \n",
    "$x$: 特徴量ベクトル  \n",
    "$\\theta$: パラメータ（重み）ベクトル  \n",
    "$x^{(i)}$: i番目のサンプルの特徴量ベクトル  \n",
    "$y^{(i)}$: i番目のサンプルの正解ラベル  \n",
    "$\\theta_j$: j番目のパラメータ（重み）  \n",
    "$n$: 特徴量の数  \n",
    "$λ$: 正則化パラメータ"
   ]
  },
  {
   "cell_type": "markdown",
   "metadata": {},
   "source": [
    "以下のメソッドをScratchLogisticRegresstionに実装した。  \n",
    "```python\n",
    "def _calc_loss(self, X, y):\n",
    "    \"\"\"\n",
    "    クロスエントロピー損失関数を計算する\n",
    "    Parameters\n",
    "    ----------\n",
    "    X : 次の形のndarray, shape (n_samples, n_features)\n",
    "      訓練データ\n",
    "    y : 次の形のndarray, shape (n_samples, )\n",
    "      訓練データの正解値\n",
    "    \"\"\"\n",
    "    loss_term1 = -y*np.log(self._logistic_hypothesis(X))\n",
    "    loss_term2 = (1-y) * np.log(1 - self._logistic_hypothesis(X))\n",
    "    regularization = np.dot(self.coef_, self.coef_) / (2*self.C*X.shape[0])\n",
    "    loss = np.sum(loss_term1 - loss_term2) + regularization\n",
    "    return loss\n",
    "\n",
    "# 目的関数を求めて、self.lossに格納\n",
    "self.loss[i] = self._calc_loss(X, y)\n",
    "# 検証データについて、目的関数を求める\n",
    "if (X_val is not None) and (y_val is not None):\n",
    "    self.val_loss[i] = self._calc_loss(X_val, y_val)\n",
    "```"
   ]
  },
  {
   "cell_type": "markdown",
   "metadata": {},
   "source": [
    "# 【問題5】学習と推定"
   ]
  },
  {
   "cell_type": "markdown",
   "metadata": {},
   "source": [
    "機械学習スクラッチ入門のSprintで用意したirisデータセットのvirgicolorとvirginicaの2値分類に対してスクラッチ実装の学習と推定を行なってください。  \n",
    "scikit-learnによる実装と比べ、正しく動いているかを確認してください。  \n",
    "AccuracyやPrecision、Recallなどの指標値はscikit-learnを使用してください。"
   ]
  },
  {
   "cell_type": "code",
   "execution_count": 1,
   "metadata": {},
   "outputs": [],
   "source": [
    "import numpy as np\n",
    "import pandas as pd\n",
    "from sklearn import datasets\n",
    "from sklearn.preprocessing import StandardScaler\n",
    "from sklearn.linear_model import SGDClassifier\n",
    "from sklearn.model_selection import train_test_split\n",
    "from sklearn import metrics \n",
    "import matplotlib.pyplot as plt\n",
    "%matplotlib inline"
   ]
  },
  {
   "cell_type": "code",
   "execution_count": 2,
   "metadata": {},
   "outputs": [],
   "source": [
    "class ScratchLogisticRegression():\n",
    "    \"\"\"\n",
    "    ロジスティック回帰のスクラッチ実装\n",
    "\n",
    "    Parameters\n",
    "    ----------\n",
    "    num_iter : int\n",
    "      イテレーション数\n",
    "    lr : float\n",
    "      学習率\n",
    "    no_bias : bool\n",
    "      バイアス項を入れない場合はTrue\n",
    "    verbose : bool\n",
    "      学習過程を出力する場合はTrue\n",
    "\n",
    "    Attributes\n",
    "    ----------\n",
    "    self.coef_ : 次の形のndarray, shape (n_features,)\n",
    "      パラメータ\n",
    "    self.loss : 次の形のndarray, shape (self.iter,)\n",
    "      訓練データに対する損失の記録\n",
    "    self.val_loss : 次の形のndarray, shape (self.iter,)\n",
    "      検証データに対する損失の記録\n",
    "\n",
    "    \"\"\"\n",
    "    def __init__(self, num_iter, lr, C, random_state=1, no_bias=False, verbose=True):\n",
    "        # ハイパーパラメータを属性として記録\n",
    "        self.iter = num_iter\n",
    "        self.lr = lr\n",
    "        self.C = C\n",
    "        self.no_bias = no_bias\n",
    "        self.verbose = verbose\n",
    "        self.random_state = random_state\n",
    "        # 損失を記録する配列を用意\n",
    "        self.loss = np.zeros(self.iter)\n",
    "        self.val_loss = np.zeros(self.iter)\n",
    "    \n",
    "    def _logistic_hypothesis(self, X):\n",
    "        \"\"\"\n",
    "        ロジスティック回帰の仮定関数を計算する\n",
    "\n",
    "        Parameters\n",
    "        ----------\n",
    "        X : 次の形のndarray, shape (n_samples, n_features)\n",
    "          訓練データ\n",
    "\n",
    "        Returns\n",
    "        -------\n",
    "          次の形のndarray, shape (n_samples, 1)\n",
    "          ロジスティック回帰の仮定関数による推定結果\n",
    "        \"\"\"\n",
    "        net_input = np.dot(X, self.coef_)\n",
    "        return 1. / (1. + np.exp(-np.clip(net_input, -250, 250)))\n",
    "    \n",
    "    def _gradient_descent(self, X, errors):\n",
    "        \"\"\"\n",
    "        最急降下法により重みとバイアスの更新を行う\n",
    "        Parameters\n",
    "        ----------\n",
    "        X : 次の形のndarray, shape (n_samples, n_features)\n",
    "          訓練データ\n",
    "        errors : 次の形のndarray, shape (n_samples,)\n",
    "          目的変数から予測値を引いたもの\n",
    "        \"\"\"\n",
    "        self.coef_ -= self.lr * np.dot(errors.T, X) / X.shape[0] + self.coef_ / (self.C*X.shape[0])\n",
    "        \n",
    "        if self.no_bias == False:\n",
    "            self.coef_[0] -= self.lr * errors.sum() / X.shape[0]\n",
    "    \n",
    "    def _calc_loss(self, X, y):\n",
    "        \"\"\"\n",
    "        クロスエントロピー損失関数を計算する\n",
    "        Parameters\n",
    "        ----------\n",
    "        X : 次の形のndarray, shape (n_samples, n_features)\n",
    "          訓練データ\n",
    "        y : 次の形のndarray, shape (n_samples, )\n",
    "          訓練データの正解値\n",
    "        \"\"\"\n",
    "        loss_term1 = -y*np.log(self._logistic_hypothesis(X))\n",
    "        loss_term2 = (1-y) * np.log(1 - self._logistic_hypothesis(X))\n",
    "        regularization = np.dot(self.coef_, self.coef_) / (2*self.C*X.shape[0])\n",
    "        loss = np.sum(loss_term1 - loss_term2) + regularization\n",
    "        return loss\n",
    "        \n",
    "    def fit(self, X, y, X_val=None, y_val=None):\n",
    "        \"\"\"\n",
    "        ロジスティック回帰を学習する。検証データが入力された場合はそれに対する損失と精度もイテレーションごとに計算する。\n",
    "\n",
    "        Parameters\n",
    "        ----------\n",
    "        X : 次の形のndarray, shape (n_samples, n_features)\n",
    "            訓練データの特徴量\n",
    "        y : 次の形のndarray, shape (n_samples, )\n",
    "            訓練データの正解値\n",
    "        X_val : 次の形のndarray, shape (n_samples, n_features)\n",
    "            検証データの特徴量\n",
    "        y_val : 次の形のndarray, shape (n_samples, )\n",
    "            検証データの正解値\n",
    "        \"\"\"\n",
    "        if self.no_bias == False:\n",
    "            X = np.insert(X,0,1,axis=1)\n",
    "            if X_val is not None:\n",
    "                X_val = np.insert(X_val,0,1,axis=1)\n",
    "                \n",
    "        rgen = np.random.RandomState(self.random_state)\n",
    "        self.coef_ = rgen.normal(loc=0.0, scale=0.01, size=(X.shape[1]))\n",
    "        \n",
    "        for i in range(self.iter):\n",
    "            # 仮定関数を求める\n",
    "            output = self._logistic_hypothesis(X)\n",
    "            # 誤差を求める\n",
    "            errors = output - y\n",
    "            # 最急降下法による重み、バイアスの更新\n",
    "            self._gradient_descent(X, errors)\n",
    "            # 目的関数を求めて、self.lossに格納\n",
    "            self.loss[i] = self._calc_loss(X, y)\n",
    "            # 検証データについて、目的関数を求める\n",
    "            if (X_val is not None) and (y_val is not None):\n",
    "                self.val_loss[i] = self._calc_loss(X_val, y_val)\n",
    "                \n",
    "            if self.verbose:\n",
    "                #verboseをTrueにした際は学習過程を出力\n",
    "                print(\"num_iter : {}, loss = {}\".format(i, self.loss[i]))\n",
    "            \n",
    "    def predict(self, X):\n",
    "        \"\"\"\n",
    "        ロジスティック回帰を使いラベルを推定する。\n",
    "\n",
    "        Parameters\n",
    "        ----------\n",
    "        X : 次の形のndarray, shape (n_samples, n_features)\n",
    "            サンプル\n",
    "\n",
    "        Returns\n",
    "        -------\n",
    "            次の形のndarray, shape (n_samples, 1)\n",
    "            ロジスティック回帰による推定結果\n",
    "        \"\"\"\n",
    "        if self.no_bias == False:\n",
    "            X = np.insert(X,0,1,axis=1)\n",
    "        return np.where(self._logistic_hypothesis(X) >= 0.5, 1, 0)\n",
    "    \n",
    "    def predict_proba(self, X):\n",
    "        \"\"\"\n",
    "        ロジスティック回帰を使い確率を推定する。\n",
    "\n",
    "        Parameters\n",
    "        ----------\n",
    "        X : 次の形のndarray, shape (n_samples, n_features)\n",
    "            サンプル\n",
    "\n",
    "        Returns\n",
    "        -------\n",
    "            次の形のndarray, shape (n_samples, 1)\n",
    "            ロジスティック回帰による推定結果\n",
    "        \"\"\"\n",
    "        if self.no_bias == False:\n",
    "            X = np.insert(X,0,1,axis=1)\n",
    "        return self._logistic_hypothesis(X)"
   ]
  },
  {
   "cell_type": "code",
   "execution_count": 3,
   "metadata": {},
   "outputs": [],
   "source": [
    "def evaluate(y_true, y_pred):\n",
    "    \"\"\"\n",
    "    2値分類の評価指標を計算する\n",
    "    \"\"\"\n",
    "    acc = metrics.accuracy_score(y_test, y_pred)\n",
    "    precision = metrics.precision_score(y_test, y_pred)\n",
    "    recall = metrics.recall_score(y_test, y_pred)\n",
    "    f1 = metrics.f1_score(y_test, y_pred)\n",
    "    confusion = metrics.confusion_matrix(y_test, y_pred)\n",
    "    return acc, precision, recall, f1, confusion"
   ]
  },
  {
   "cell_type": "code",
   "execution_count": 4,
   "metadata": {},
   "outputs": [
    {
     "name": "stdout",
     "output_type": "stream",
     "text": [
      "(100, 2)\n",
      "(100,)\n"
     ]
    }
   ],
   "source": [
    "# データ読み込み\n",
    "iris = datasets.load_iris()\n",
    "X = iris.data[50:, :][:, 0:2]\n",
    "y = iris.target[50:]\n",
    "print(X.shape)\n",
    "print(y.shape)"
   ]
  },
  {
   "cell_type": "code",
   "execution_count": 5,
   "metadata": {},
   "outputs": [],
   "source": [
    "# データ分割\n",
    "X_train, X_test, y_train, y_test = train_test_split(X, y, train_size=0.8, random_state=42, stratify=y)\n",
    "\n",
    "# 標準化\n",
    "sc = StandardScaler()\n",
    "sc.fit(X_train)\n",
    "X_train_std = sc.transform(X_train)\n",
    "X_test_std = sc.transform(X_test)\n",
    "\n",
    "# ラベルを0, 1に変換\n",
    "y_train = y_train - 1\n",
    "y_test = y_test - 1"
   ]
  },
  {
   "cell_type": "code",
   "execution_count": 6,
   "metadata": {},
   "outputs": [],
   "source": [
    "# scratch ロジスティック回帰を使用\n",
    "lr1 = ScratchLogisticRegression(num_iter=500, lr=0.01, C=10, random_state=42, no_bias=False, verbose=False)\n",
    "lr1.fit(X_train_std, y_train, X_test_std, y_test)\n",
    "y_pred_lr = lr1.predict(X_test_std)"
   ]
  },
  {
   "cell_type": "code",
   "execution_count": 7,
   "metadata": {},
   "outputs": [
    {
     "name": "stdout",
     "output_type": "stream",
     "text": [
      "y_pred_lr = [1 0 0 0 0 0 0 1 0 0 0 0 0 0 0 1 0 0 0 0]\n",
      "y_test = [1 1 1 1 0 0 0 1 0 0 0 1 0 0 0 1 1 0 1 1]\n",
      "Accuracy : 0.650\n",
      "Precision : 1.000\n",
      "Recall : 0.300\n",
      "F1 : 0.462\n",
      "confusion matrix \n",
      " [[10  0]\n",
      " [ 7  3]]\n",
      "\n"
     ]
    }
   ],
   "source": [
    "print('y_pred_lr = {}'.format(y_pred_lr))\n",
    "print('y_test = {}'.format(y_test))\n",
    "\n",
    "print(\"Accuracy : {:.3f}\\nPrecision : {:.3f}\\nRecall : {:.3f}\\nF1 : {:.3f}\\nconfusion matrix \\n {}\\n\"\n",
    "          .format(*evaluate(y_test, y_pred_lr)))"
   ]
  },
  {
   "cell_type": "code",
   "execution_count": 8,
   "metadata": {},
   "outputs": [],
   "source": [
    "# sklearn ロジスティック回帰を使用\n",
    "sgd = SGDClassifier(loss=\"log\")\n",
    "sgd.fit(X_train_std, y_train)\n",
    "y_pred_sgd = sgd.predict(X_test_std)"
   ]
  },
  {
   "cell_type": "code",
   "execution_count": 9,
   "metadata": {},
   "outputs": [
    {
     "name": "stdout",
     "output_type": "stream",
     "text": [
      "y_pred_sgd = [1 0 0 0 0 0 1 1 0 0 0 0 0 0 0 1 0 0 0 0]\n",
      "y_test = [1 1 1 1 0 0 0 1 0 0 0 1 0 0 0 1 1 0 1 1]\n",
      "Accuracy : 0.600\n",
      "Precision : 0.750\n",
      "Recall : 0.300\n",
      "F1 : 0.429\n",
      "confusion matrix \n",
      " [[9 1]\n",
      " [7 3]]\n",
      "\n"
     ]
    }
   ],
   "source": [
    "print('y_pred_sgd = {}'.format(y_pred_sgd))\n",
    "print('y_test = {}'.format(y_test))\n",
    "\n",
    "print(\"Accuracy : {:.3f}\\nPrecision : {:.3f}\\nRecall : {:.3f}\\nF1 : {:.3f}\\nconfusion matrix \\n {}\\n\"\n",
    "          .format(*evaluate(y_test, y_pred_sgd)))"
   ]
  },
  {
   "cell_type": "markdown",
   "metadata": {},
   "source": [
    "# 【問題6】学習曲線のプロット"
   ]
  },
  {
   "cell_type": "markdown",
   "metadata": {},
   "source": [
    "学習曲線を見て損失が適切に下がっているかどうか確認してください。"
   ]
  },
  {
   "cell_type": "code",
   "execution_count": 10,
   "metadata": {},
   "outputs": [
    {
     "data": {
      "image/png": "[encoded data removed]",
      "text/plain": [
       "<Figure size 432x288 with 1 Axes>"
      ]
     },
     "metadata": {
      "needs_background": "light"
     },
     "output_type": "display_data"
    }
   ],
   "source": [
    "plt.xlabel('iter')\n",
    "plt.ylabel('loss')\n",
    "plt.plot(lr1.loss, label='train_loss')\n",
    "plt.plot(lr1.val_loss, label='val_loss')\n",
    "plt.legend(loc='upper left')\n",
    "plt.tight_layout()\n",
    "plt.show()"
   ]
  },
  {
   "cell_type": "markdown",
   "metadata": {},
   "source": [
    "# 【問題7】決定領域の可視化"
   ]
  },
  {
   "cell_type": "markdown",
   "metadata": {},
   "source": [
    "決定領域を可視化してください。"
   ]
  },
  {
   "cell_type": "code",
   "execution_count": 11,
   "metadata": {},
   "outputs": [],
   "source": [
    "import matplotlib.pyplot as plt\n",
    "from matplotlib.colors import ListedColormap\n",
    "import matplotlib.patches as mpatches\n",
    "def decision_region(X, y, model, step=0.01, title='decision region', xlabel='xlabel', ylabel='ylabel', target_names=['versicolor', 'virginica']):\n",
    "    \"\"\"\n",
    "    2値分類を2次元の特徴量で学習したモデルの決定領域を描く。\n",
    "    背景の色が学習したモデルによる推定値から描画される。\n",
    "    散布図の点は訓練データまたは検証データである。\n",
    "\n",
    "    Parameters\n",
    "    ----------------\n",
    "    X : ndarray, shape(n_samples, 2)\n",
    "        特徴量\n",
    "    y : ndarray, shape(n_samples,)\n",
    "        ラベル\n",
    "    model : object\n",
    "        学習したモデルのインスンタスを入れる\n",
    "    step : float, (default : 0.1)\n",
    "        推定値を計算する間隔を設定する\n",
    "    title : str\n",
    "        グラフのタイトルの文章を与える\n",
    "    xlabel, ylabel : str\n",
    "        軸ラベルの文章を与える\n",
    "    target_names= : list of str\n",
    "        凡例の一覧を与える\n",
    "    \"\"\"\n",
    "    # setting\n",
    "    scatter_color = ['red', 'blue']\n",
    "    contourf_color = ['pink', 'skyblue']\n",
    "    n_class = 2\n",
    "    # pred\n",
    "    mesh_f0, mesh_f1  = np.meshgrid(np.arange(np.min(X[:,0])-0.5, np.max(X[:,0])+0.5, step), np.arange(np.min(X[:,1])-0.5, np.max(X[:,1])+0.5, step))\n",
    "    mesh = np.c_[np.ravel(mesh_f0),np.ravel(mesh_f1)]\n",
    "    y_pred = model.predict(mesh).reshape(mesh_f0.shape)\n",
    "    # plot\n",
    "    plt.title(title)\n",
    "    plt.xlabel(xlabel)\n",
    "    plt.ylabel(ylabel)\n",
    "    plt.contourf(mesh_f0, mesh_f1, y_pred, n_class-1, cmap=ListedColormap(contourf_color))\n",
    "    plt.contour(mesh_f0, mesh_f1, y_pred, n_class-1, colors='y', linewidths=3, alpha=0.5)\n",
    "    for i, target in enumerate(set(y)):\n",
    "        plt.scatter(X[y==target][:, 0], X[y==target][:, 1], s=80, color=scatter_color[i], label=target_names[i], marker='o')\n",
    "    patches = [mpatches.Patch(color=scatter_color[i], label=target_names[i]) for i in range(n_class)]\n",
    "    plt.legend(handles=patches)\n",
    "    plt.legend()\n",
    "    plt.show()"
   ]
  },
  {
   "cell_type": "code",
   "execution_count": 12,
   "metadata": {},
   "outputs": [
    {
     "data": {
      "image/png": "[encoded data removed]",
      "text/plain": [
       "<Figure size 432x288 with 1 Axes>"
      ]
     },
     "metadata": {
      "needs_background": "light"
     },
     "output_type": "display_data"
    }
   ],
   "source": [
    "decision_region(X_test_std, y_test, lr1, title=\"Scratch Logistic Regression (test)\",\n",
    "                xlabel='sepal length', ylabel='sepal width', target_names=['versicolor', 'virginica'])"
   ]
  },
  {
   "cell_type": "code",
   "execution_count": 13,
   "metadata": {},
   "outputs": [
    {
     "data": {
      "image/png": "[encoded data removed]",
      "text/plain": [
       "<Figure size 432x288 with 1 Axes>"
      ]
     },
     "metadata": {
      "needs_background": "light"
     },
     "output_type": "display_data"
    }
   ],
   "source": [
    "decision_region(X_test_std, y_test, sgd, title=\"sklearn Logistic Regression (test)\",\n",
    "                xlabel='sepal length', ylabel='sepal width', target_names=['versicolor', 'virginica'])"
   ]
  }
 ],
 "metadata": {
  "kernelspec": {
   "display_name": "Python 3",
   "language": "python",
   "name": "python3"
  },
  "language_info": {
   "codemirror_mode": {
    "name": "ipython",
    "version": 3
   },
   "file_extension": ".py",
   "mimetype": "text/x-python",
   "name": "python",
   "nbconvert_exporter": "python",
   "pygments_lexer": "ipython3",
   "version": "3.7.4"
  }
 },
 "nbformat": 4,
 "nbformat_minor": 4
}
