{
 "cells": [
  {
   "cell_type": "markdown",
   "metadata": {},
   "source": [
    "# 【問題1】ラグランジュの未定乗数法による最急降下"
   ]
  },
  {
   "cell_type": "markdown",
   "metadata": {},
   "source": [
    "SVMの学習は、ラグランジュの未定乗数法を用います。  \n",
    "サンプル数分のラグランジュ乗数$\\lambda$ を用意して、以下の式により更新していきます。  \n",
    "$\n",
    "\\lambda_i^{new} = \\lambda_i + \\alpha(1 - \\sum_{j=1}^{n}{\\lambda_j y_i y_j k(x_i, x_j)})\n",
    "$  \n",
    "この計算を行うメソッドをScratchSVMClassifierクラスに実装してください。  \n",
    "ここで 𝑘(𝑥𝑖,𝑥𝑗) はカーネル関数です。線形カーネルの場合は次のようになります。  \n",
    "他のカーネル関数にも対応できるように、この部分は独立したメソッドとしておきましょう。  \n",
    "$k(x_i, x_j) = x_{i}^{T} x_j$  \n",
    "条件として、更新毎に 𝜆𝑖>=0を満たす必要があります。満たさない場合は 𝜆𝑖=0とします。  \n",
    "𝑖,𝑗 : サンプルのインデックス  \n",
    "𝜆𝑛𝑒𝑤𝑖 : 更新後のi番目のサンプルのラグランジュ乗数  \n",
    "𝜆𝑖 : 更新前のi番目のサンプルのラグランジュ乗数  \n",
    "𝛼 : 学習率  \n",
    "𝜆𝑗 : j番目のサンプルのラグランジュ乗数  \n",
    "𝑦𝑖 : i番目のサンプルのラベル  \n",
    "𝑦𝑗 : j番目のサンプルのラベル  \n",
    "𝑥𝑖 : i番目のサンプルの特徴量ベクトル  \n",
    "𝑥𝑗 : j番目のサンプルの特徴量ベクトル  \n",
    "あるサンプルに対しての全てのサンプルとの関係を計算していくことになります。  "
   ]
  },
  {
   "cell_type": "markdown",
   "metadata": {},
   "source": [
    "# 【問題2】サポートベクターの決定"
   ]
  },
  {
   "cell_type": "markdown",
   "metadata": {},
   "source": [
    "計算したラグランジュ乗数 𝜆 が設定した閾値より大きいサンプルをサポートベクターとして扱います。  \n",
    "推定時にサポートベクターが必要になります。  \n",
    "サポートベクターを決定し、インスタンス変数として保持しておくコードを書いてください。  \n",
    "閾値はハイパーパラメータですが、1e-5程度からはじめると良いでしょう。  \n",
    "サポートベクターの数を出力させられるようにしておくと学習がうまく行えているかを確認できます。"
   ]
  },
  {
   "cell_type": "markdown",
   "metadata": {},
   "source": [
    "# 【問題3】推定"
   ]
  },
  {
   "cell_type": "markdown",
   "metadata": {},
   "source": [
    "推定時には、推定したいデータの特徴量とサポートベクターの特徴量をカーネル関数によって計算します。  \n",
    "求めた 𝑓(𝑥) の符号が分類結果です。  \n",
    "$f(x) = \\sum_{n=1}^{N}\\lambda_n y_{sv\\_n} k(x, s_n)$  "
   ]
  },
  {
   "cell_type": "markdown",
   "metadata": {},
   "source": [
    "# 【問題4】学習と推定"
   ]
  },
  {
   "cell_type": "markdown",
   "metadata": {},
   "source": [
    "機械学習スクラッチ入門のSprintで用意したシンプルデータセット1の2値分類に対してスクラッチ実装の学習と推定を行なってください。  \n",
    "scikit-learnによる実装と比べ、正しく動いているかを確認してください。  \n",
    "AccuracyやPrecision、Recallなどの指標値はscikit-learnを使用してください。"
   ]
  },
  {
   "cell_type": "code",
   "execution_count": 1,
   "metadata": {},
   "outputs": [],
   "source": [
    "import numpy as np\n",
    "%matplotlib inline\n",
    "import matplotlib.pyplot as plt\n",
    "from matplotlib.colors import ListedColormap\n",
    "import matplotlib.patches as mpatches\n",
    "from sklearn import metrics"
   ]
  },
  {
   "cell_type": "code",
   "execution_count": 2,
   "metadata": {},
   "outputs": [],
   "source": [
    "# データ準備\n",
    "np.random.seed(seed=0)\n",
    "n_samples = 500\n",
    "f0 = [-1, 2]\n",
    "f1 = [2, -1]\n",
    "cov = [[1.0,0.8], [0.8, 1.0]]\n",
    "f0 = np.random.multivariate_normal(f0, cov, int(n_samples/2))\n",
    "f1 = np.random.multivariate_normal(f1, cov, int(n_samples/2))\n",
    "X = np.concatenate((f0, f1))\n",
    "y = np.concatenate((np.ones((int(n_samples/2))), np.ones((int(n_samples/2))) *(-1))).astype(np.int)\n",
    "random_index = np.random.permutation(np.arange(n_samples))\n",
    "X = X[random_index]\n",
    "y = y[random_index]"
   ]
  },
  {
   "cell_type": "code",
   "execution_count": 3,
   "metadata": {},
   "outputs": [],
   "source": [
    "class ScratchSVMClassifier():\n",
    "    \"\"\"\n",
    "    SVM分類器のスクラッチ実装\n",
    "\n",
    "    Parameters\n",
    "    ----------\n",
    "    num_iter : int\n",
    "      イテレーション数\n",
    "    lr : float\n",
    "      学習率\n",
    "    kernel : str\n",
    "      カーネルの種類。線形カーネル（linear）か多項式カーネル（polly）\n",
    "    threshold : float\n",
    "      サポートベクターを選ぶための閾値\n",
    "    verbose : bool\n",
    "      学習過程を出力する場合はTrue\n",
    "\n",
    "    Attributes\n",
    "    ----------\n",
    "    self.n_support_vectors : int\n",
    "      サポートベクターの数\n",
    "    self.index_support_vectors : 次の形のndarray, shape (n_support_vectors,)\n",
    "      サポートベクターのインデックス\n",
    "    self.X_sv :  次の形のndarray, shape(n_support_vectors, n_features)\n",
    "      サポートベクターの特徴量\n",
    "    self.lam_sv :  次の形のndarray, shape(n_support_vectors, 1)\n",
    "      サポートベクターの未定乗数\n",
    "    self.y_sv :  次の形のndarray, shape(n_support_vectors, 1)\n",
    "      サポートベクターのラベル\n",
    "\n",
    "    \"\"\"\n",
    "    def __init__(self, num_iter, lr, random_state, kernel='linear', threshold=1e-5, verbose=False):\n",
    "        # ハイパーパラメータを属性として記録\n",
    "        self.iter = num_iter\n",
    "        self.lr = lr\n",
    "        self.random_state = random_state\n",
    "        self.kernel = kernel\n",
    "        self.threshold = threshold\n",
    "        self.verbose = verbose\n",
    "        \n",
    "    def _gradient_descent(self, X, y):\n",
    "        k = self._kernel_func(X, X)\n",
    "        yy = np.dot(y, y.T)\n",
    "        new_lam = (self.lam_.T + self.lr * (1 - np.dot(self.lam_.T, yy * k))).T\n",
    "        new_lam[new_lam <= 0] = 0\n",
    "        return new_lam\n",
    "    \n",
    "    def _kernel_func(self, X, s):\n",
    "        return np.dot(X, s.T)\n",
    "    \n",
    "    def fit(self, X, y, X_val=None, y_val=None):\n",
    "        \"\"\"\n",
    "        SVM分類器を学習する。検証データが入力された場合はそれに対する精度もイテレーションごとに計算する。\n",
    "\n",
    "        Parameters\n",
    "        ----------\n",
    "        X : 次の形のndarray, shape (n_samples, n_features)\n",
    "            訓練データの特徴量\n",
    "        y : 次の形のndarray, shape (n_samples, )\n",
    "            訓練データの正解値\n",
    "        X_val : 次の形のndarray, shape (n_samples, n_features)\n",
    "            検証データの特徴量\n",
    "        y_val : 次の形のndarray, shape (n_samples, )\n",
    "            検証データの正解値\n",
    "        \"\"\"\n",
    "        y = y.copy().reshape(-1, 1)\n",
    "        \n",
    "        rgen = np.random.RandomState(self.random_state)\n",
    "        self.lam_ = rgen.rand(X.shape[0]).reshape(-1, 1)\n",
    "        \n",
    "        for i in range(self.iter):\n",
    "            # ラグランジュ乗数の更新\n",
    "            self.lam_ = self._gradient_descent(X, y)\n",
    "            # サポートベクトルの決定\n",
    "            self.index_sv = np.where(self.lam_ > self.threshold)[0]\n",
    "            self.lam_sv = self.lam_[self.index_sv, :]\n",
    "            self.X_sv = X[self.index_sv, :]\n",
    "            self.y_sv = y[self.index_sv, :]\n",
    "            self.n_sv = len(self.lam_sv)\n",
    "            if self.verbose:\n",
    "                #verboseをTrueにした際は学習過程を出力\n",
    "                print(\"n_sv = {}\".format(self.n_sv))\n",
    "    \n",
    "    def predict(self, X):\n",
    "        \"\"\"\n",
    "        SVM分類器を使いラベルを推定する。\n",
    "\n",
    "        Parameters\n",
    "        ----------\n",
    "        X : 次の形のndarray, shape (n_samples, n_features)\n",
    "            サンプル\n",
    "\n",
    "        Returns\n",
    "        -------\n",
    "            次の形のndarray, shape (n_samples, 1)\n",
    "            SVM分類器による推定結果\n",
    "        \"\"\"\n",
    "        k = self._kernel_func(X, self.X_sv)\n",
    "        ly = (self.lam_sv * self.y_sv).T\n",
    "        lyk = np.dot(k, ly.T)\n",
    "        f = np.where(lyk > 0, 1, -1).reshape(-1)\n",
    "        return f"
   ]
  },
  {
   "cell_type": "code",
   "execution_count": 4,
   "metadata": {},
   "outputs": [],
   "source": [
    "def evaluate(y_true, y_pred):\n",
    "    \"\"\"\n",
    "    2値分類の評価指標を計算する\n",
    "    \"\"\"\n",
    "    acc = metrics.accuracy_score(y_true, y_pred)\n",
    "    precision = metrics.precision_score(y_true, y_pred)\n",
    "    recall = metrics.recall_score(y_true, y_pred)\n",
    "    f1 = metrics.f1_score(y_true, y_pred)\n",
    "    confusion = metrics.confusion_matrix(y_true, y_pred)\n",
    "    return acc, precision, recall, f1, confusion"
   ]
  },
  {
   "cell_type": "code",
   "execution_count": 5,
   "metadata": {},
   "outputs": [
    {
     "name": "stdout",
     "output_type": "stream",
     "text": [
      "n_sv = 33\n",
      "n_sv = 30\n",
      "n_sv = 28\n",
      "n_sv = 26\n",
      "n_sv = 25\n",
      "n_sv = 24\n",
      "n_sv = 24\n",
      "n_sv = 23\n",
      "n_sv = 22\n",
      "n_sv = 22\n",
      "n_sv = 22\n",
      "n_sv = 21\n",
      "n_sv = 21\n",
      "n_sv = 20\n",
      "n_sv = 18\n",
      "n_sv = 17\n",
      "n_sv = 17\n",
      "n_sv = 17\n",
      "n_sv = 17\n",
      "n_sv = 17\n",
      "n_sv = 17\n",
      "n_sv = 16\n",
      "n_sv = 16\n",
      "n_sv = 16\n",
      "n_sv = 15\n",
      "n_sv = 14\n",
      "n_sv = 14\n",
      "n_sv = 14\n",
      "n_sv = 14\n",
      "n_sv = 14\n",
      "n_sv = 14\n",
      "n_sv = 14\n",
      "n_sv = 14\n",
      "n_sv = 14\n",
      "n_sv = 14\n",
      "n_sv = 14\n",
      "n_sv = 14\n",
      "n_sv = 14\n",
      "n_sv = 14\n",
      "n_sv = 14\n",
      "n_sv = 14\n",
      "n_sv = 14\n",
      "n_sv = 14\n",
      "n_sv = 14\n",
      "n_sv = 14\n",
      "n_sv = 14\n",
      "n_sv = 14\n",
      "n_sv = 14\n",
      "n_sv = 14\n",
      "n_sv = 14\n",
      "n_sv = 14\n",
      "n_sv = 14\n",
      "n_sv = 14\n",
      "n_sv = 14\n",
      "n_sv = 14\n",
      "n_sv = 13\n",
      "n_sv = 13\n",
      "n_sv = 13\n",
      "n_sv = 13\n",
      "n_sv = 13\n",
      "n_sv = 13\n",
      "n_sv = 12\n",
      "n_sv = 12\n",
      "n_sv = 12\n",
      "n_sv = 12\n",
      "n_sv = 12\n",
      "n_sv = 12\n",
      "n_sv = 12\n",
      "n_sv = 12\n",
      "n_sv = 12\n",
      "n_sv = 13\n",
      "n_sv = 13\n",
      "n_sv = 13\n",
      "n_sv = 13\n",
      "n_sv = 13\n",
      "n_sv = 13\n",
      "n_sv = 13\n",
      "n_sv = 13\n",
      "n_sv = 12\n",
      "n_sv = 12\n",
      "n_sv = 12\n",
      "n_sv = 12\n",
      "n_sv = 12\n",
      "n_sv = 12\n",
      "n_sv = 12\n",
      "n_sv = 12\n",
      "n_sv = 12\n",
      "n_sv = 12\n",
      "n_sv = 12\n",
      "n_sv = 11\n",
      "n_sv = 11\n",
      "n_sv = 11\n",
      "n_sv = 11\n",
      "n_sv = 11\n",
      "n_sv = 11\n",
      "n_sv = 11\n",
      "n_sv = 11\n",
      "n_sv = 11\n",
      "n_sv = 11\n",
      "n_sv = 11\n"
     ]
    }
   ],
   "source": [
    "svm = ScratchSVMClassifier(num_iter=100, lr=0.001, random_state=0, kernel='linear', threshold=1e-5, verbose=True)\n",
    "svm.fit(X, y)\n",
    "y_pred = svm.predict(X)"
   ]
  },
  {
   "cell_type": "code",
   "execution_count": 6,
   "metadata": {},
   "outputs": [
    {
     "name": "stdout",
     "output_type": "stream",
     "text": [
      "Accuracy : 1.000\n",
      "Precision : 1.000\n",
      "Recall : 1.000\n",
      "F1 : 1.000\n",
      "confusion matrix \n",
      " [[250   0]\n",
      " [  0 250]]\n",
      "\n"
     ]
    }
   ],
   "source": [
    "print(\"Accuracy : {:.3f}\\nPrecision : {:.3f}\\nRecall : {:.3f}\\nF1 : {:.3f}\\nconfusion matrix \\n {}\\n\"\n",
    "          .format(*evaluate(y, y_pred)))"
   ]
  },
  {
   "cell_type": "markdown",
   "metadata": {},
   "source": [
    "# 【問題5】決定領域の可視化"
   ]
  },
  {
   "cell_type": "markdown",
   "metadata": {},
   "source": [
    "決定領域を可視化してください。"
   ]
  },
  {
   "cell_type": "code",
   "execution_count": 7,
   "metadata": {},
   "outputs": [],
   "source": [
    "def decision_region(X, y, model, step=0.01, title=\"decision regiion\",\n",
    "                    xlabel=\"x\", ylabel=\"ylabel\", target_names=[\"versicolor\", \"virginica\"]):\n",
    "    \"\"\"\n",
    "    2値分類を2次元の特徴量で学習したモデルの決定領域を描く。\n",
    "    背景の色が学習したモデルによる推定値から描画される。\n",
    "    散布図の点は訓練データまたは検証データである。\n",
    "\n",
    "    Parameters\n",
    "    ----------------\n",
    "    X : ndarray, shape(n_samples, 2)\n",
    "        特徴量\n",
    "    y : ndarray, shape(n_samples,)\n",
    "        ラベル\n",
    "    model : object\n",
    "        学習したモデルのインスンタスを入れる\n",
    "    step : float, (default : 0.1)\n",
    "        推定値を計算する間隔を設定する\n",
    "    title : str\n",
    "        グラフのタイトルの文章を与える\n",
    "    xlabel, ylabel : str\n",
    "        軸ラベルの文章を与える\n",
    "    target_names= : list of str\n",
    "        凡例の一覧を与える\n",
    "    \"\"\"\n",
    "    # setting\n",
    "    scatter_color = [\"red\", \"blue\"]\n",
    "    contourf_color = [\"pink\", \"skyblue\"]\n",
    "    n_class = 2\n",
    "    # predict\n",
    "    mesh_f0, mesh_f1 = np.meshgrid(\n",
    "        np.arange(np.min(X[:, 0])-0.5, np.max(X[:, 0])+0.5, step),\n",
    "        np.arange(np.min(X[:, 1])-0.5, np.max(X[:, 1])+0.5, step)\n",
    "    )\n",
    "    mesh = np.c_[np.ravel(mesh_f0), np.ravel(mesh_f1)]\n",
    "    y_pred = model.predict(mesh).reshape(mesh_f0.shape)\n",
    "    # plot\n",
    "    plt.title(title)\n",
    "    plt.xlabel(xlabel)\n",
    "    plt.ylabel(ylabel)\n",
    "    plt.contourf(mesh_f0, mesh_f1, y_pred, n_class-1, cmap=ListedColormap(contourf_color))\n",
    "    plt.contour(mesh_f0, mesh_f1, y_pred, n_class-1, colors=\"y\", linewidths=3, alpha=0.5)\n",
    "    for i, target in enumerate(set(y)):\n",
    "        plt.scatter(X[y==target][:, 0], X[y==target][:, 1], s=80, color=scatter_color[i], label=target_names[i], marker=\"o\")\n",
    "    patches = [mpatches.Patch(color=scatter_color[i], label=target_names[i]) for i in range(n_class)]\n",
    "    plt.scatter(model.X_sv[:, 0], model.X_sv[:, 1], s=80, color=\"yellow\", label=\"support vector\", marker=\"o\")\n",
    "    plt.legend(handles=patches)\n",
    "    plt.legend()\n",
    "    plt.show()"
   ]
  },
  {
   "cell_type": "code",
   "execution_count": 8,
   "metadata": {},
   "outputs": [
    {
     "data": {
      "image/png": "[encoded data removed]",
      "text/plain": [
       "<Figure size 432x288 with 1 Axes>"
      ]
     },
     "metadata": {
      "needs_background": "light"
     },
     "output_type": "display_data"
    }
   ],
   "source": [
    "decision_region(X, y, svm, title=\"decision region\", xlabel=\"x\", ylabel=\"y\")"
   ]
  }
 ],
 "metadata": {
  "kernelspec": {
   "display_name": "Python 3",
   "language": "python",
   "name": "python3"
  },
  "language_info": {
   "codemirror_mode": {
    "name": "ipython",
    "version": 3
   },
   "file_extension": ".py",
   "mimetype": "text/x-python",
   "name": "python",
   "nbconvert_exporter": "python",
   "pygments_lexer": "ipython3",
   "version": "3.7.4"
  }
 },
 "nbformat": 4,
 "nbformat_minor": 4
}
