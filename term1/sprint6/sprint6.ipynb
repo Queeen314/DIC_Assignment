{
 "cells": [
  {
   "cell_type": "markdown",
   "metadata": {},
   "source": [
    "# 【問題1】不純度を求める関数"
   ]
  },
  {
   "cell_type": "markdown",
   "metadata": {},
   "source": [
    "ノード の ジニ不純度 を計算する関数を作成してください。  \n",
    "ノード$t$に対するジニ不純度$I(t)$は以下の数式で求まります。  \n",
    "クラスが混じり合っているほどジニ不純度は高くなります。\n",
    "$$\n",
    "I(t) = 1-\\sum_{i=1}^{K}P^2(C_i|t) = 1-\\sum_{i=1}^{K}(\\frac{N_{t,i}}{N_{t,all}})^{2}\n",
    "$$\n",
    "$t$: ノードのインデックス  \n",
    "$i$: クラスのインデックス  \n",
    "$K$: クラスの数  \n",
    "$C_i$: i番目のクラス  \n",
    "$P(C_i|t)$:　t番目のノードにおける$C_i$の割り合い  \n",
    "$N_{t,i}$: t番目のノードのi番目のクラスに属するサンプル数  \n",
    "$N_{t,all}$t番目のノードのサンプルの総数"
   ]
  },
  {
   "cell_type": "code",
   "execution_count": 1,
   "metadata": {},
   "outputs": [],
   "source": [
    "import numpy as np\n",
    "from sklearn import metrics "
   ]
  },
  {
   "cell_type": "code",
   "execution_count": 2,
   "metadata": {},
   "outputs": [],
   "source": [
    "class ScratchDecisionTreeClassifierDepth1():\n",
    "    \"\"\"\n",
    "    深さ1の決定木分類器のスクラッチ実装\n",
    "\n",
    "    Parameters\n",
    "    ----------\n",
    "    verbose : bool\n",
    "      学習過程を出力する場合はTrue\n",
    "    \"\"\"\n",
    "    def __init__(self, max_depth=1, verbose=False):\n",
    "        # ハイパーパラメータをattributesとして記録\n",
    "        self.verbose = verbose\n",
    "        self.max_depth = max_depth\n",
    "        self.cur_depth = 0\n",
    "        self.leaf1 = None\n",
    "        self.leaf2 = None\n",
    "\n",
    "    def fit(self, X, y):\n",
    "        \"\"\"\n",
    "        決定木分類器を学習する\n",
    "        Parameters\n",
    "        ----------\n",
    "        X : 次の形のndarray, shape (n_samples, n_features)\n",
    "            訓練データの特徴量\n",
    "        y : 次の形のndarray, shape (n_samples, )\n",
    "            訓練データの正解値\n",
    "        \"\"\"\n",
    "        if y.ndim == 1:\n",
    "            y = np.reshape(y, (-1, 1))\n",
    "        \n",
    "        n_samples, n_features = X.shape\n",
    "        ig = 0\n",
    "        \n",
    "        for f in range(n_features):\n",
    "            X_f = X[:, f]\n",
    "            for s in range(n_samples):\n",
    "                tmp_y1 = y[X_f <= X_f[s]]\n",
    "                tmp_y2 = y[X_f > X_f[s]]\n",
    "                tmp_ig = self.info_gain(tmp_y1, tmp_y2)\n",
    "                if tmp_ig > ig:\n",
    "                    self.feature = f\n",
    "                    self.threshold = X_f[s]\n",
    "                    ig = tmp_ig\n",
    "        \n",
    "        if self.cur_depth + 1 == self.max_depth:\n",
    "            classes, n_classes = np.unique(tmp_y1, return_counts=True)\n",
    "            self.leaf1 = classes[np.argmax(n_classes)]\n",
    "            self.leaf2 = classes[np.argmin(n_classes)]\n",
    "        elif self.gini_impurity(tmp_y1) == 0:\n",
    "            classes, n_classes = np.unique(tmp_y1, return_counts=True)\n",
    "            self.leaf1 = classes[np.argmax(n_classes)]\n",
    "        elif self.gini_impurity(tmp_y2) == 0:\n",
    "            classes, n_classes = np.unique(tmp_y2, return_counts=True)\n",
    "            self.leaf2 = classes[np.argmax(n_classes)]\n",
    "        if self.verbose:\n",
    "            print()\n",
    "    \n",
    "    def predict(self, X):\n",
    "        \"\"\"\n",
    "        決定木分類器を使いラベルを推定する\n",
    "        \"\"\"\n",
    "        y_pred = np.where(X[:, self.feature] <= self.threshold, self.leaf1, self.leaf2)\n",
    "        return y_pred\n",
    "        \n",
    "    def gini_impurity(self, y):\n",
    "        \"\"\"\n",
    "        Gini不純度を計算する\n",
    "        \"\"\"\n",
    "        classes = np.unique(y)\n",
    "        tmp = 0\n",
    "\n",
    "        for i in classes:\n",
    "            tmp += ((y == i).sum() / len(y))**2\n",
    "        gini = 1 - tmp\n",
    "        return gini\n",
    "    \n",
    "    def info_gain(self, y1, y2):\n",
    "        \"\"\"\n",
    "        情報利得を計算する\n",
    "        \"\"\"\n",
    "        left =  len(y1)/(len(y1) + len(y2))*self.gini_impurity(y1)\n",
    "        right = len(y2)/(len(y1) + len(y2))*self.gini_impurity(y2)\n",
    "        ig = self.gini_impurity(np.concatenate([y1, y2])) - left - right\n",
    "        return ig"
   ]
  },
  {
   "cell_type": "markdown",
   "metadata": {},
   "source": [
    "以下のメソッドをScratchDecisionTreeClassifierDepth1に実装した。\n",
    "```python\n",
    "def gini_impurity(self, y):\n",
    "    \"\"\"\n",
    "    Gini不純度を計算する\n",
    "    \"\"\"\n",
    "    classes = np.unique(y)\n",
    "    tmp = 0\n",
    "\n",
    "    for i in classes:\n",
    "        tmp += ((y == i).sum() / len(y))**2\n",
    "    gini = 1 - tmp\n",
    "    return gini\n",
    "```"
   ]
  },
  {
   "cell_type": "code",
   "execution_count": 3,
   "metadata": {
    "scrolled": true
   },
   "outputs": [
    {
     "name": "stdout",
     "output_type": "stream",
     "text": [
      "example = [0 0 0 0 0 0 0 0 0 0 0 0 0 0 0 1 1 1 1 1 1 1 1 1 1 1 1 1 1 1]\n"
     ]
    }
   ],
   "source": [
    "# サンプルデータを準備する\n",
    "# クラス1:サンプル数15, クラス2:サンプル数15 → ジニ不純度0.500\n",
    "example = np.concatenate([np.zeros(15, int), np.ones(15, int)], axis=0)\n",
    "print(\"example = {}\".format(example))"
   ]
  },
  {
   "cell_type": "code",
   "execution_count": 4,
   "metadata": {},
   "outputs": [
    {
     "name": "stdout",
     "output_type": "stream",
     "text": [
      "gini = 0.5\n"
     ]
    }
   ],
   "source": [
    "# gini不純度を計算する\n",
    "tree = ScratchDecisionTreeClassifierDepth1()\n",
    "result = tree.gini_impurity(example)\n",
    "print('gini = {}'.format(result))"
   ]
  },
  {
   "cell_type": "markdown",
   "metadata": {},
   "source": [
    "# 【問題2】情報利得を求める関数"
   ]
  },
  {
   "cell_type": "markdown",
   "metadata": {},
   "source": [
    "次に、ノード間の 情報利得 を計算する関数を作成してください。  \n",
    "問題1で作成したジニ不純度$I(t)$を計算する関数を呼び出して使います。  \n",
    "情報利得$IG$は以下の数式で求まります。うまく分けられている時ほど情報利得は大きくなります。\n",
    "\n",
    "ここで分岐は2つのみであるため、分岐先を「左側のノード・右側のノード」と呼びます。\n",
    "$$\n",
    "IG(p) = I(p)-\\frac{N_{left,all}}{N_{p,all}}I(left)-\\frac{N_{right,all}}{N_{p,all}}I(right)\n",
    "$$\n",
    "$p$: 親ノードを示すインデックス  \n",
    "$left$ : 左側のノードを示すインデックス  \n",
    "$right$: 右側のノードを示すインデックス  "
   ]
  },
  {
   "cell_type": "markdown",
   "metadata": {},
   "source": [
    "以下のメソッドをScratchDecisionTreeClassifierDepth1に実装した。\n",
    "```python\n",
    "def info_gain(self, y1, y2):\n",
    "    \"\"\"\n",
    "    情報利得を計算する\n",
    "    \"\"\"\n",
    "    left =  len(y1)/(len(y1) + len(y2))*self.gini_impurity(y1)\n",
    "    right = len(y2)/(len(y1) + len(y2))*self.gini_impurity(y2)\n",
    "    ig = self.gini_impurity(np.concatenate([y1, y2])) - left - right\n",
    "    return ig\n",
    "```"
   ]
  },
  {
   "cell_type": "code",
   "execution_count": 5,
   "metadata": {},
   "outputs": [
    {
     "name": "stdout",
     "output_type": "stream",
     "text": [
      "n_rchild = [0 0 0 0 0 0 0 0 0 0 1 1 1 1 1 1 1 1 1 1 1 1 1 1 1 1 1 1 1 1 1 1 1 1 1 1 1\n",
      " 1 1 1]\n",
      "n_lchild = [0 0 0 0 0 0 0 0 0 0 0 0 0 0 0 0 0 0 0 0 1 1 1 1 1]\n"
     ]
    }
   ],
   "source": [
    "# データを準備する\n",
    "\"\"\"\n",
    "左ノードクラス1:サンプル数10, 左ノードクラス2:サンプル数30,\n",
    "右ノードクラス1:サンプル数20, 右ノードクラス2:サンプル数5 → 情報利得0.143\n",
    "\"\"\"\n",
    "n_rchild = np.concatenate([np.zeros(10, int), np.ones(30, int)])\n",
    "n_lchild = np.concatenate([np.zeros(20, int), np.ones(5, int)])\n",
    "\n",
    "print(\"n_rchild = {}\".format(n_rchild))\n",
    "print(\"n_lchild = {}\".format(n_lchild))"
   ]
  },
  {
   "cell_type": "code",
   "execution_count": 6,
   "metadata": {},
   "outputs": [
    {
     "name": "stdout",
     "output_type": "stream",
     "text": [
      "ig = 0.14319526627218937\n"
     ]
    }
   ],
   "source": [
    "ig = tree.info_gain(n_rchild, n_lchild)\n",
    "print('ig = {}'.format(ig))"
   ]
  },
  {
   "cell_type": "markdown",
   "metadata": {},
   "source": [
    "# 【問題3】学習"
   ]
  },
  {
   "cell_type": "markdown",
   "metadata": {},
   "source": [
    "空間の分割を行い、決定木のグラフを生成するコードを作成してください。今は深さ1の決定木なので、分割を1回だけ行います。  \n",
    "ここでグラフを生成するとは、1回の分割の際の条件としてどの特徴量がいくつ以上の時とするかを求めるということです。\n",
    "訓練データに対して全ての組み合わせの分割を行い、その中でノード間の情報利得が最大となる分割をそのノードの分割基準として記録します。\n",
    "クラスが混ざらない不純度が0のノード、または指定された深さのノードが 葉ノード となります。葉ノードにはクラスを記録しておき、これを推定時に分類するクラスとします。クラスが混ざらない場合はそのままのクラスを記録し、混ざっている場合は多数決により決めます。\n",
    "\n",
    "《組み合わせの取り方》  \n",
    "全ての組み合わせの取り方は、最も単純には各特徴量の値自体をしきい値にして分割を行う方法があります。  \n",
    "片側の端は今回のスクラッチはこの方法で行なってください。  \n",
    "他には中間の値をしきい値にする方法もあり、scikit-learnではこの方法が用いられています。\n",
    "\n",
    "《補足》  \n",
    "問題2の情報利得を計算する関数はこの問題3で利用する上では、親ノードの不純度 $I(p)$は固定されるため、  \n",
    "左右のノードの不純度の合計を計算するだけでも同じ結果が得られることになります。  \n",
    "しかし、ここでは親ノードを考慮した情報利得を計算する実装を行なってください。"
   ]
  },
  {
   "cell_type": "markdown",
   "metadata": {},
   "source": [
    "以下のメソッドをScratchDecisionTreeClassifierDepth1に実装した。\n",
    "```python\n",
    "def fit(self, X, y):\n",
    "    \"\"\"\n",
    "    決定木分類器を学習する\n",
    "    Parameters\n",
    "    ----------\n",
    "    X : 次の形のndarray, shape (n_samples, n_features)\n",
    "        訓練データの特徴量\n",
    "    y : 次の形のndarray, shape (n_samples, )\n",
    "        訓練データの正解値\n",
    "    \"\"\"\n",
    "    if y.ndim == 1:\n",
    "        y = np.reshape(y, (-1, 1))\n",
    "\n",
    "    n_samples, n_features = X.shape\n",
    "    ig = 0\n",
    "\n",
    "    for f in range(n_features):\n",
    "        X_f = X[:, f]\n",
    "        for s in range(n_samples):\n",
    "            tmp_y1 = y[X_f <= X_f[s]]\n",
    "            tmp_y2 = y[X_f > X_f[s]]\n",
    "            tmp_ig = self.info_gain(tmp_y1, tmp_y2)\n",
    "            if tmp_ig > ig:\n",
    "                self.feature = f\n",
    "                self.threshold = X_f[s]\n",
    "                ig = tmp_ig\n",
    "\n",
    "    if self.cur_depth + 1 == self.max_depth:\n",
    "        classes, n_classes = np.unique(tmp_y1, return_counts=True)\n",
    "        self.leaf1 = classes[np.argmax(n_classes)]\n",
    "        self.leaf2 = classes[np.argmin(n_classes)]\n",
    "    elif self.gini_impurity(tmp_y1) == 0:\n",
    "        classes, n_classes = np.unique(tmp_y1, return_counts=True)\n",
    "        self.leaf1 = classes[np.argmax(n_classes)]\n",
    "    elif self.gini_impurity(tmp_y2) == 0:\n",
    "        classes, n_classes = np.unique(tmp_y2, return_counts=True)\n",
    "        self.leaf2 = classes[np.argmax(n_classes)]\n",
    "    if self.verbose:\n",
    "        print()\n",
    "```"
   ]
  },
  {
   "cell_type": "markdown",
   "metadata": {},
   "source": [
    "# 【問題4】推定"
   ]
  },
  {
   "cell_type": "markdown",
   "metadata": {},
   "source": [
    "推定する仕組みを実装してください。  \n",
    "ScratchDecesionTreeClassifierDepth1クラスの雛形に含まれるpredictメソッドに書き加えてください。  \n",
    "入力されたデータの値を学習した条件で判定していき、どの葉ノードに到達するかを見ます。  \n",
    "葉ノードにはクラスが記録されているので、これが推定値となります。"
   ]
  },
  {
   "cell_type": "markdown",
   "metadata": {},
   "source": [
    "以下のメソッドをScratchDecisionTreeClassifierDepth1に実装した。\n",
    "```python\n",
    "def predict(self, X):\n",
    "    \"\"\"\n",
    "    決定木分類器を使いラベルを推定する\n",
    "    \"\"\"\n",
    "    y_pred = np.where(X[:, self.feature] <= self.threshold, self.leaf1, self.leaf2)\n",
    "    return y_pred\n",
    "```"
   ]
  },
  {
   "cell_type": "markdown",
   "metadata": {},
   "source": [
    "# 【問題5】学習と推定"
   ]
  },
  {
   "cell_type": "markdown",
   "metadata": {},
   "source": [
    "機械学習スクラッチ入門のSprintで用意したシンプルデータセット2の2値分類に対してスクラッチ実装の学習と推定を行なってください。  \n",
    "scikit-learnによる実装と比べ、正しく動いているかを確認してください。  \n",
    "AccuracyやPrecision、Recallなどの指標値はscikit-learnを使用してください。"
   ]
  },
  {
   "cell_type": "code",
   "execution_count": 7,
   "metadata": {},
   "outputs": [],
   "source": [
    "def evaluate(y_true, y_pred):\n",
    "    \"\"\"\n",
    "    2値分類の評価指標を計算する\n",
    "    \"\"\"\n",
    "    acc = metrics.accuracy_score(y_true, y_pred)\n",
    "    precision = metrics.precision_score(y_true, y_pred)\n",
    "    recall = metrics.recall_score(y_true, y_pred)\n",
    "    f1 = metrics.f1_score(y_true, y_pred)\n",
    "    confusion = metrics.confusion_matrix(y_true, y_pred)\n",
    "    return acc, precision, recall, f1, confusion"
   ]
  },
  {
   "cell_type": "code",
   "execution_count": 8,
   "metadata": {},
   "outputs": [],
   "source": [
    "# データセットを準備\n",
    "X = np.array([\n",
    "[-0.44699 , -2.8073  ],[-1.4621  , -2.4586  ],\n",
    "[ 0.10645 ,  1.9242  ],[-3.5944  , -4.0112  ],\n",
    "[-0.9888  ,  4.5718  ],[-3.1625  , -3.9606  ],\n",
    "[ 0.56421 ,  0.72888 ],[-0.60216 ,  8.4636  ],\n",
    "[-0.61251 , -0.75345 ],[-0.73535 , -2.2718  ],\n",
    "[-0.80647 , -2.2135  ],[ 0.86291 ,  2.3946  ],\n",
    "[-3.1108  ,  0.15394 ],[-2.9362  ,  2.5462  ],\n",
    "[-0.57242 , -2.9915  ],[ 1.4771  ,  3.4896  ],\n",
    "[ 0.58619 ,  0.37158 ],[ 0.6017  ,  4.3439  ],\n",
    "[-2.1086  ,  8.3428  ],[-4.1013  , -4.353   ],\n",
    "[-1.9948  , -1.3927  ],[ 0.35084 , -0.031994],\n",
    "[ 0.96765 ,  7.8929  ],[-1.281   , 15.6824  ],\n",
    "[ 0.96765 , 10.083   ],[ 1.3763  ,  1.3347  ],\n",
    "[-2.234   , -2.5323  ],[-2.9452  , -1.8219  ],\n",
    "[ 0.14654 , -0.28733 ],[ 0.5461  ,  5.8245  ],\n",
    "[-0.65259 ,  9.3444  ],[ 0.59912 ,  5.3524  ],\n",
    "[ 0.50214 , -0.31818 ],[-3.0603  , -3.6461  ],\n",
    "[-6.6797  ,  0.67661 ],[-2.353   , -0.72261 ],\n",
    "[ 1.1319  ,  2.4023  ],[-0.12243 ,  9.0162  ],\n",
    "[-2.5677  , 13.1779  ],[ 0.057313,  5.4681  ],\n",
    "])\n",
    "\n",
    "y = np.array([\n",
    "0, 0, 0, 0, 0, 0, 0, 0, 0, 0, 0, 0, 0, 0, 0, 0, 0, 0, 0, 0,\n",
    "1, 1, 1, 1, 1, 1, 1, 1, 1, 1, 1, 1, 1, 1, 1, 1, 1, 1, 1, 1,\n",
    "])"
   ]
  },
  {
   "cell_type": "code",
   "execution_count": 9,
   "metadata": {},
   "outputs": [
    {
     "name": "stdout",
     "output_type": "stream",
     "text": [
      "y_pred = [0 0 0 0 0 0 0 1 0 0 0 0 0 0 0 0 0 0 1 0 0 0 1 1 1 0 0 0 0 1 1 1 0 0 0 0 0\n",
      " 1 1 1]\n",
      "Accuracy : 0.675\n",
      "Precision : 0.818\n",
      "Recall : 0.450\n",
      "F1 : 0.581\n",
      "confusion matrix \n",
      " [[18  2]\n",
      " [11  9]]\n",
      "\n"
     ]
    }
   ],
   "source": [
    "tree.fit(X, y)\n",
    "y_pred = tree.predict(X)\n",
    "print('y_pred = {}'.format(y_pred))\n",
    "print(\"Accuracy : {:.3f}\\nPrecision : {:.3f}\\nRecall : {:.3f}\\nF1 : {:.3f}\\nconfusion matrix \\n {}\\n\"\n",
    "          .format(*evaluate(y, y_pred)))"
   ]
  },
  {
   "cell_type": "markdown",
   "metadata": {},
   "source": [
    "# 【問題6】決定領域の可視化"
   ]
  },
  {
   "cell_type": "markdown",
   "metadata": {},
   "source": [
    "決定領域を可視化してください。"
   ]
  },
  {
   "cell_type": "code",
   "execution_count": 10,
   "metadata": {},
   "outputs": [],
   "source": [
    "import matplotlib.pyplot as plt\n",
    "from matplotlib.colors import ListedColormap\n",
    "import matplotlib.patches as mpatches\n",
    "\n",
    "def decision_region(X, y, model, step=0.01, title=\"decision regiion\",\n",
    "                    xlabel=\"x\", ylabel=\"ylabel\", target_names=[\"class1\", \"class2\"]):\n",
    "    \"\"\"\n",
    "    2値分類を2次元の特徴量で学習したモデルの決定領域を描く。\n",
    "    背景の色が学習したモデルによる推定値から描画される。\n",
    "    散布図の点は訓練データまたは検証データである。\n",
    "\n",
    "    Parameters\n",
    "    ----------------\n",
    "    X : ndarray, shape(n_samples, 2)\n",
    "        特徴量\n",
    "    y : ndarray, shape(n_samples,)\n",
    "        ラベル\n",
    "    model : object\n",
    "        学習したモデルのインスンタスを入れる\n",
    "    step : float, (default : 0.1)\n",
    "        推定値を計算する間隔を設定する\n",
    "    title : str\n",
    "        グラフのタイトルの文章を与える\n",
    "    xlabel, ylabel : str\n",
    "        軸ラベルの文章を与える\n",
    "    target_names= : list of str\n",
    "        凡例の一覧を与える\n",
    "    \"\"\"\n",
    "    # setting\n",
    "    scatter_color = [\"red\", \"blue\"]\n",
    "    contourf_color = [\"pink\", \"skyblue\"]\n",
    "    n_class = 2\n",
    "    # predict\n",
    "    mesh_f0, mesh_f1 = np.meshgrid(\n",
    "        np.arange(np.min(X[:, 0])-0.5, np.max(X[:, 0])+0.5, step),\n",
    "        np.arange(np.min(X[:, 1])-0.5, np.max(X[:, 1])+0.5, step)\n",
    "    )\n",
    "    mesh = np.c_[np.ravel(mesh_f0), np.ravel(mesh_f1)]\n",
    "    y_pred = model.predict(mesh).reshape(mesh_f0.shape)\n",
    "    # plot\n",
    "    plt.title(title)\n",
    "    plt.xlabel(xlabel)\n",
    "    plt.ylabel(ylabel)\n",
    "    plt.contourf(mesh_f0, mesh_f1, y_pred, n_class-1, cmap=ListedColormap(contourf_color))\n",
    "    plt.contour(mesh_f0, mesh_f1, y_pred, n_class-1, colors=\"y\", linewidths=3, alpha=0.5)\n",
    "    for i, target in enumerate(set(y)):\n",
    "        plt.scatter(X[y==target][:, 0], X[y==target][:, 1], s=80, color=scatter_color[i], label=target_names[i], marker=\"o\")\n",
    "    patches = [mpatches.Patch(color=scatter_color[i], label=target_names[i]) for i in range(n_class)]\n",
    "    plt.legend(handles=patches)\n",
    "    plt.legend()\n",
    "    plt.show()"
   ]
  },
  {
   "cell_type": "code",
   "execution_count": 11,
   "metadata": {},
   "outputs": [
    {
     "data": {
      "image/png": "[encoded data removed]",
      "text/plain": [
       "<Figure size 432x288 with 1 Axes>"
      ]
     },
     "metadata": {
      "needs_background": "light"
     },
     "output_type": "display_data"
    }
   ],
   "source": [
    "decision_region(X, y, tree)"
   ]
  }
 ],
 "metadata": {
  "kernelspec": {
   "display_name": "Python 3",
   "language": "python",
   "name": "python3"
  },
  "language_info": {
   "codemirror_mode": {
    "name": "ipython",
    "version": 3
   },
   "file_extension": ".py",
   "mimetype": "text/x-python",
   "name": "python",
   "nbconvert_exporter": "python",
   "pygments_lexer": "ipython3",
   "version": "3.7.4"
  }
 },
 "nbformat": 4,
 "nbformat_minor": 4
}
