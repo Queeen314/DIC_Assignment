{
 "cells": [
  {
   "cell_type": "markdown",
   "metadata": {},
   "source": [
    "# 【問題1】train_test_splitのスクラッチ"
   ]
  },
  {
   "cell_type": "markdown",
   "metadata": {},
   "source": [
    "スクラッチの練習として、scikit-learnのtrain_test_splitを自作してみます。  \n",
    "以下の雛形をベースとして関数を完成させてください。  \n",
    "sklearn.model_selection.train_test_split — scikit-learn 0.21.3 documentation  \n",
    "なお、作成した関数がscikit-learnのtrain_test_splitと同じ動作をしているか必ず確認をするようにしましょう。"
   ]
  },
  {
   "cell_type": "code",
   "execution_count": 1,
   "metadata": {},
   "outputs": [],
   "source": [
    "import numpy as np\n",
    "import pandas as pd\n",
    "from sklearn import datasets\n",
    "from sklearn.model_selection import train_test_split\n",
    "from sklearn.utils import check_random_state"
   ]
  },
  {
   "cell_type": "code",
   "execution_count": 2,
   "metadata": {},
   "outputs": [],
   "source": [
    "df = pd.read_csv('application_train.csv')\n",
    "df_test = pd.read_csv('application_test.csv')\n",
    "X = df_test"
   ]
  },
  {
   "cell_type": "code",
   "execution_count": 3,
   "metadata": {},
   "outputs": [
    {
     "name": "stdout",
     "output_type": "stream",
     "text": [
      "(100, 4)\n",
      "(100,)\n"
     ]
    }
   ],
   "source": [
    "iris = datasets.load_iris()\n",
    "X = iris.data[50:, :]\n",
    "y = iris.target[50:]\n",
    "print(X.shape)\n",
    "print(y.shape)"
   ]
  },
  {
   "cell_type": "code",
   "execution_count": 4,
   "metadata": {},
   "outputs": [],
   "source": [
    "def scratch_train_test_split(X, y, train_size=0.8, random_state=0):\n",
    "    \"\"\"\n",
    "    検証データを分割する。\n",
    "\n",
    "    Parameters\n",
    "    ----------\n",
    "    X : 次の形のndarray, shape (n_samples, n_features)\n",
    "      訓練データ\n",
    "    y : 次の形のndarray, shape (n_samples, )\n",
    "      正解値\n",
    "    train_size : float (0<train_size<1)\n",
    "      何割をtrainとするか指定\n",
    "\n",
    "    Returns\n",
    "    ----------\n",
    "    X_train : 次の形のndarray, shape (n_samples, n_features)\n",
    "      訓練データ\n",
    "    X_test : 次の形のndarray, shape (n_samples, n_features)\n",
    "      検証データ\n",
    "    y_train : 次の形のndarray, shape (n_samples, )\n",
    "      訓練データの正解値\n",
    "    y_test : 次の形のndarray, shape (n_samples, )\n",
    "      検証データの正解値\n",
    "    \"\"\"\n",
    "    num_list = len(X)\n",
    "    rgen = check_random_state(random_state)\n",
    "    permutation = rgen.permutation(num_list)\n",
    "    \n",
    "    n_train = int(num_list * train_size)\n",
    "    ind_train = permutation[:n_train]\n",
    "    ind_test = permutation[n_train:]\n",
    "    \n",
    "    X_train = X[ind_train, :]\n",
    "    y_train = y[ind_train]\n",
    "    \n",
    "    X_test = X[ind_test, :]\n",
    "    y_test = y[ind_test]\n",
    "    \n",
    "    return X_train, X_test, y_train, y_test"
   ]
  },
  {
   "cell_type": "code",
   "execution_count": 5,
   "metadata": {},
   "outputs": [
    {
     "name": "stdout",
     "output_type": "stream",
     "text": [
      "[[6.8 2.8 4.8 1.4]\n",
      " [6.3 3.4 5.6 2.4]\n",
      " [6.9 3.1 4.9 1.5]\n",
      " [7.6 3.  6.6 2.1]\n",
      " [7.2 3.2 6.  1.8]]\n",
      "[[6.6 3.  4.4 1.4]\n",
      " [6.3 2.3 4.4 1.3]\n",
      " [7.9 3.8 6.4 2. ]\n",
      " [5.7 2.9 4.2 1.3]\n",
      " [5.5 2.5 4.  1.3]]\n",
      "[1 2 1 2 2]\n",
      "[1 1 2 1 1]\n"
     ]
    }
   ],
   "source": [
    "# スクラッチで実装したscratch_train_test_splitによりデータ分割\n",
    "X_train, X_test, y_train, y_test = scratch_train_test_split(X, y, train_size=0.8, random_state=0)\n",
    "print(X_train[:5])\n",
    "print(X_test[:5])\n",
    "print(y_train[:5])\n",
    "print(y_test[:5])"
   ]
  },
  {
   "cell_type": "code",
   "execution_count": 6,
   "metadata": {},
   "outputs": [
    {
     "name": "stdout",
     "output_type": "stream",
     "text": [
      "[[5.  2.3 3.3 1. ]\n",
      " [6.8 3.  5.5 2.1]\n",
      " [5.5 2.3 4.  1.3]\n",
      " [5.6 2.8 4.9 2. ]\n",
      " [5.7 3.  4.2 1.2]]\n",
      "[[6.8 2.8 4.8 1.4]\n",
      " [6.3 3.4 5.6 2.4]\n",
      " [6.9 3.1 4.9 1.5]\n",
      " [7.6 3.  6.6 2.1]\n",
      " [7.2 3.2 6.  1.8]]\n",
      "[1 2 1 2 1]\n",
      "[1 2 1 2 2]\n"
     ]
    }
   ],
   "source": [
    "# scikit-learnのクラスを用いてデータ分割\n",
    "X_train, X_test, y_train, y_test = train_test_split(X, y, train_size=0.8, random_state=0)\n",
    "print(X_train[:5])\n",
    "print(X_test[:5])\n",
    "print(y_train[:5])\n",
    "print(y_test[:5])"
   ]
  },
  {
   "cell_type": "markdown",
   "metadata": {},
   "source": [
    "# 【問題2】 分類問題を解くコードの作成"
   ]
  },
  {
   "cell_type": "markdown",
   "metadata": {},
   "source": [
    "上記3種類の手法で3種類のデータセットを学習・推定するコードを作成してください。"
   ]
  },
  {
   "cell_type": "code",
   "execution_count": 7,
   "metadata": {},
   "outputs": [],
   "source": [
    "from sklearn.datasets import load_iris"
   ]
  },
  {
   "cell_type": "code",
   "execution_count": 8,
   "metadata": {},
   "outputs": [],
   "source": [
    "# データセット1を準備\n",
    "data = load_iris()\n",
    "X1 = data.data[data.target > 0]\n",
    "y1 = data.target[data.target > 0]"
   ]
  },
  {
   "cell_type": "code",
   "execution_count": 9,
   "metadata": {},
   "outputs": [],
   "source": [
    "# データセット2を準備\n",
    "np.random.seed(seed=0)\n",
    "n_samples = 500\n",
    "f0 = [-1, 2]\n",
    "f1 = [2, -1]\n",
    "cov = [[1.0,0.8], [0.8, 1.0]]\n",
    "f0 = np.random.multivariate_normal(f0, cov, int(n_samples/2))\n",
    "f1 = np.random.multivariate_normal(f1, cov, int(n_samples/2))\n",
    "X2 = np.concatenate((f0, f1))\n",
    "y2 = np.concatenate((np.ones((int(n_samples/2))), np.ones((int(n_samples/2))) *(-1))).astype(np.int)\n",
    "random_index = np.random.permutation(np.arange(n_samples))\n",
    "X2 = X2[random_index]\n",
    "y2 = y2[random_index]"
   ]
  },
  {
   "cell_type": "code",
   "execution_count": 10,
   "metadata": {},
   "outputs": [],
   "source": [
    "# データセット3を準備\n",
    "X3 = np.array([[-0.44699 , -2.8073  ],[-1.4621  , -2.4586  ],\n",
    "       [ 0.10645 ,  1.9242  ],[-3.5944  , -4.0112  ],\n",
    "       [-0.9888  ,  4.5718  ],[-3.1625  , -3.9606  ],\n",
    "       [ 0.56421 ,  0.72888 ],[-0.60216 ,  8.4636  ],\n",
    "       [-0.61251 , -0.75345 ],[-0.73535 , -2.2718  ],\n",
    "       [-0.80647 , -2.2135  ],[ 0.86291 ,  2.3946  ],\n",
    "       [-3.1108  ,  0.15394 ],[-2.9362  ,  2.5462  ],\n",
    "       [-0.57242 , -2.9915  ],[ 1.4771  ,  3.4896  ],\n",
    "       [ 0.58619 ,  0.37158 ],[ 0.6017  ,  4.3439  ],\n",
    "       [-2.1086  ,  8.3428  ],[-4.1013  , -4.353   ],\n",
    "       [-1.9948  , -1.3927  ],[ 0.35084 , -0.031994],\n",
    "       [ 0.96765 ,  7.8929  ],[-1.281   , 15.6824  ],\n",
    "       [ 0.96765 , 10.083   ],[ 1.3763  ,  1.3347  ],\n",
    "       [-2.234   , -2.5323  ],[-2.9452  , -1.8219  ],\n",
    "       [ 0.14654 , -0.28733 ],[ 0.5461  ,  5.8245  ],\n",
    "       [-0.65259 ,  9.3444  ],[ 0.59912 ,  5.3524  ],\n",
    "       [ 0.50214 , -0.31818 ],[-3.0603  , -3.6461  ],\n",
    "       [-6.6797  ,  0.67661 ],[-2.353   , -0.72261 ],\n",
    "       [ 1.1319  ,  2.4023  ],[-0.12243 ,  9.0162  ],\n",
    "       [-2.5677  , 13.1779  ],[ 0.057313,  5.4681  ]])\n",
    "y3 = np.array([0, 0, 0, 0, 0, 0, 0, 0, 0, 0, 0, 0, 0, 0, 0, 0, 0, 0, 0, 0, 1, 1,\n",
    "       1, 1, 1, 1, 1, 1, 1, 1, 1, 1, 1, 1, 1, 1, 1, 1, 1, 1])"
   ]
  },
  {
   "cell_type": "code",
   "execution_count": 11,
   "metadata": {},
   "outputs": [],
   "source": [
    "from sklearn.linear_model import SGDClassifier\n",
    "from sklearn.svm import SVC\n",
    "from sklearn.tree import DecisionTreeClassifier\n",
    "from sklearn.metrics import accuracy_score"
   ]
  },
  {
   "cell_type": "code",
   "execution_count": 12,
   "metadata": {},
   "outputs": [],
   "source": [
    "# データセット1, 2, 3を訓練データ、テストデータに分割\n",
    "X_train1, X_test1, y_train1, y_test1 = scratch_train_test_split(X1, y1, train_size=0.8)\n",
    "X_train2, X_test2, y_train2, y_test2 = scratch_train_test_split(X2, y2, train_size=0.8)\n",
    "X_train3, X_test3, y_train3, y_test3 = scratch_train_test_split(X3, y3, train_size=0.8)"
   ]
  },
  {
   "cell_type": "markdown",
   "metadata": {},
   "source": [
    "- ロジスティック回帰"
   ]
  },
  {
   "cell_type": "code",
   "execution_count": 13,
   "metadata": {},
   "outputs": [
    {
     "name": "stdout",
     "output_type": "stream",
     "text": [
      "1.0\n"
     ]
    }
   ],
   "source": [
    "# データセット1\n",
    "lr = SGDClassifier(loss=\"log\", random_state=42)\n",
    "lr.fit(X_train1, y_train1)\n",
    "pred11 = lr.predict(X_test1)\n",
    "print(accuracy_score(y_test1, pred11))"
   ]
  },
  {
   "cell_type": "code",
   "execution_count": 14,
   "metadata": {},
   "outputs": [
    {
     "name": "stdout",
     "output_type": "stream",
     "text": [
      "1.0\n"
     ]
    }
   ],
   "source": [
    "# データセット2\n",
    "lr = SGDClassifier(loss=\"log\", random_state=42)\n",
    "lr.fit(X_train2, y_train2)\n",
    "pred12 = lr.predict(X_test2)\n",
    "print(accuracy_score(y_test2, pred12))"
   ]
  },
  {
   "cell_type": "code",
   "execution_count": 15,
   "metadata": {},
   "outputs": [
    {
     "name": "stdout",
     "output_type": "stream",
     "text": [
      "0.875\n"
     ]
    }
   ],
   "source": [
    "# データセット3\n",
    "lr = SGDClassifier(loss=\"log\", random_state=42)\n",
    "lr.fit(X_train3, y_train3)\n",
    "pred13 = lr.predict(X_test3)\n",
    "print(accuracy_score(y_test3, pred13))"
   ]
  },
  {
   "cell_type": "markdown",
   "metadata": {},
   "source": [
    "- SVM"
   ]
  },
  {
   "cell_type": "code",
   "execution_count": 16,
   "metadata": {},
   "outputs": [
    {
     "name": "stdout",
     "output_type": "stream",
     "text": [
      "1.0\n"
     ]
    },
    {
     "name": "stderr",
     "output_type": "stream",
     "text": [
      "/opt/anaconda3/lib/python3.7/site-packages/sklearn/svm/base.py:193: FutureWarning: The default value of gamma will change from 'auto' to 'scale' in version 0.22 to account better for unscaled features. Set gamma explicitly to 'auto' or 'scale' to avoid this warning.\n",
      "  \"avoid this warning.\", FutureWarning)\n"
     ]
    }
   ],
   "source": [
    "# データセット1\n",
    "svc = SVC(random_state=42)\n",
    "svc.fit(X_train1, y_train1)\n",
    "pred21 = svc.predict(X_test1)\n",
    "print(accuracy_score(y_test1, pred21))"
   ]
  },
  {
   "cell_type": "code",
   "execution_count": 17,
   "metadata": {},
   "outputs": [
    {
     "name": "stdout",
     "output_type": "stream",
     "text": [
      "1.0\n"
     ]
    },
    {
     "name": "stderr",
     "output_type": "stream",
     "text": [
      "/opt/anaconda3/lib/python3.7/site-packages/sklearn/svm/base.py:193: FutureWarning: The default value of gamma will change from 'auto' to 'scale' in version 0.22 to account better for unscaled features. Set gamma explicitly to 'auto' or 'scale' to avoid this warning.\n",
      "  \"avoid this warning.\", FutureWarning)\n"
     ]
    }
   ],
   "source": [
    "# データセット2\n",
    "svc = SVC(random_state=42)\n",
    "svc.fit(X_train2, y_train2)\n",
    "pred22 = svc.predict(X_test2)\n",
    "print(accuracy_score(y_test2, pred22))"
   ]
  },
  {
   "cell_type": "code",
   "execution_count": 18,
   "metadata": {},
   "outputs": [
    {
     "name": "stdout",
     "output_type": "stream",
     "text": [
      "0.75\n"
     ]
    },
    {
     "name": "stderr",
     "output_type": "stream",
     "text": [
      "/opt/anaconda3/lib/python3.7/site-packages/sklearn/svm/base.py:193: FutureWarning: The default value of gamma will change from 'auto' to 'scale' in version 0.22 to account better for unscaled features. Set gamma explicitly to 'auto' or 'scale' to avoid this warning.\n",
      "  \"avoid this warning.\", FutureWarning)\n"
     ]
    }
   ],
   "source": [
    "# データセット3\n",
    "svc = SVC(random_state=42)\n",
    "svc.fit(X_train3, y_train3)\n",
    "pred23 = svc.predict(X_test3)\n",
    "print(accuracy_score(y_test3, pred23))"
   ]
  },
  {
   "cell_type": "markdown",
   "metadata": {},
   "source": [
    "- 決定木"
   ]
  },
  {
   "cell_type": "code",
   "execution_count": 19,
   "metadata": {},
   "outputs": [
    {
     "name": "stdout",
     "output_type": "stream",
     "text": [
      "0.9\n"
     ]
    }
   ],
   "source": [
    "# データセット2\n",
    "tree = DecisionTreeClassifier(random_state=42)\n",
    "tree.fit(X_train1, y_train1)\n",
    "pred31 = tree.predict(X_test1)\n",
    "print(accuracy_score(y_test1, pred31))"
   ]
  },
  {
   "cell_type": "code",
   "execution_count": 20,
   "metadata": {},
   "outputs": [
    {
     "name": "stdout",
     "output_type": "stream",
     "text": [
      "1.0\n"
     ]
    }
   ],
   "source": [
    "# データセット2\n",
    "tree = DecisionTreeClassifier(random_state=42)\n",
    "tree.fit(X_train2, y_train2)\n",
    "pred32 = tree.predict(X_test2)\n",
    "print(accuracy_score(y_test2, pred32))"
   ]
  },
  {
   "cell_type": "code",
   "execution_count": 21,
   "metadata": {},
   "outputs": [
    {
     "name": "stdout",
     "output_type": "stream",
     "text": [
      "1.0\n"
     ]
    }
   ],
   "source": [
    "# データセット3\n",
    "tree = DecisionTreeClassifier(random_state=42)\n",
    "tree.fit(X_train3, y_train3)\n",
    "pred33 = tree.predict(X_test3)\n",
    "print(accuracy_score(y_test3, pred33))"
   ]
  },
  {
   "cell_type": "markdown",
   "metadata": {},
   "source": [
    "# 【問題3】 回帰問題を解くコードの作成"
   ]
  },
  {
   "cell_type": "code",
   "execution_count": 22,
   "metadata": {},
   "outputs": [],
   "source": [
    "df = pd.read_csv('train.csv')"
   ]
  },
  {
   "cell_type": "code",
   "execution_count": 23,
   "metadata": {},
   "outputs": [],
   "source": [
    "X4 = df.drop('SalePrice', axis=1)\n",
    "X4 = X4[['GrLivArea', 'YearBuilt']].values\n",
    "y4 = df['SalePrice'].values"
   ]
  },
  {
   "cell_type": "code",
   "execution_count": 24,
   "metadata": {},
   "outputs": [],
   "source": [
    "X_train4, X_test4, y_train4, y_test4 = scratch_train_test_split(X4, y4, train_size=0.8)"
   ]
  },
  {
   "cell_type": "code",
   "execution_count": 25,
   "metadata": {},
   "outputs": [],
   "source": [
    "from sklearn.linear_model import SGDRegressor"
   ]
  },
  {
   "cell_type": "code",
   "execution_count": 26,
   "metadata": {},
   "outputs": [
    {
     "name": "stdout",
     "output_type": "stream",
     "text": [
      "[-5.11080879e+14 -1.24759199e+15 -1.56306537e+15  1.84504628e+14\n",
      " -1.69449599e+15 -1.52025464e+15 -3.87094201e+14 -1.45413452e+15\n",
      " -7.94556774e+14 -1.30884465e+15 -6.47378967e+14 -1.60847008e+15\n",
      " -1.56181911e+15 -1.20838498e+15 -6.59251630e+14 -1.55809714e+15\n",
      " -1.56380641e+15 -1.03905908e+14 -2.40978619e+14 -8.94964659e+14\n",
      " -4.91830744e+14 -1.52931501e+15 -9.73379394e+14 -5.19906132e+14\n",
      " -1.34540660e+15 -1.68713672e+15 -1.19737020e+15 -8.77449907e+14\n",
      " -1.00605074e+15 -7.93124382e+14 -1.35386099e+15 -7.65083283e+14\n",
      " -1.61469475e+14 -1.61630168e+15 -1.40702942e+15 -5.99127674e+14\n",
      " -2.42408905e+14 -1.53707944e+15 -9.22618797e+14 -9.06804437e+14\n",
      "  3.01586870e+14 -1.03353694e+15 -6.65854478e+14 -4.30645967e+14\n",
      " -1.31435098e+15 -7.88425558e+14 -1.39434785e+15 -1.38932854e+15\n",
      " -1.39385942e+15 -9.10879783e+14 -1.24509878e+15 -1.65926356e+15\n",
      " -9.41093607e+14  7.01907085e+14 -5.93182595e+14 -1.39500421e+15\n",
      " -6.78855840e+14 -1.47688761e+15 -1.48160323e+15 -7.52216974e+14\n",
      " -1.62810717e+15 -6.65449320e+14  4.61184858e+13 -1.45949041e+15\n",
      " -1.59454224e+15 -1.49286991e+15 -7.95381077e+14 -1.07452831e+15\n",
      " -1.21077602e+15 -1.41300809e+15 -8.80548401e+14 -1.03515336e+15\n",
      " -5.51163282e+14 -1.35608409e+15 -8.30563832e+14 -1.69200348e+15\n",
      " -1.08539124e+15 -3.39786173e+14 -1.71352711e+15  3.81447982e+14\n",
      " -1.50388468e+15 -1.28412036e+15 -8.22967338e+14 -1.49320719e+15\n",
      " -9.90118821e+14 -1.56431163e+15 -6.63495616e+14 -1.59929145e+15\n",
      " -1.63743765e+15  7.31144760e+14 -1.27706338e+15 -1.29727357e+15\n",
      " -1.16520338e+15 -7.51425557e+14 -5.47458103e+14 -1.37006231e+15\n",
      " -1.54686405e+15 -1.02664789e+15 -1.39936646e+15 -1.07062091e+15\n",
      " -1.39532470e+15 -6.28567578e+14 -1.59445827e+15 -1.07159776e+15\n",
      " -5.81293137e+14 -1.00952010e+15 -1.34965059e+15 -1.65926356e+15\n",
      " -1.12185314e+15 -2.21070715e+14 -1.57791967e+15 -1.24078692e+15\n",
      " -1.60382163e+15 -7.84653204e+14 -1.30062538e+15 -8.54730409e+14\n",
      " -1.58418454e+15 -7.17118891e+14 -6.11607725e+14 -6.06470856e+14\n",
      " -7.40293227e+14 -1.24639542e+15 -9.11401796e+14 -8.98939241e+14\n",
      " -1.07729093e+15 -1.34500215e+15 -1.55543599e+15 -1.78197110e+15\n",
      " -6.55344925e+14 -9.38500333e+14 -8.27312789e+14 -1.37393543e+15\n",
      " -7.35981363e+14 -9.04682795e+14  3.98865063e+13 -1.00429926e+15\n",
      " -1.28081964e+15 -9.77201428e+14 -1.51983339e+15 -1.59743921e+15\n",
      " -4.32465320e+14 -1.65847812e+14 -8.82098350e+14 -8.09174559e+14\n",
      " -3.56038578e+14 -7.14121160e+14 -9.98219832e+14 -1.05699677e+15\n",
      " -8.00349305e+14 -7.22171790e+14  3.07750553e+13 -5.89157631e+14\n",
      " -1.17030596e+15 -1.28945876e+15 -8.60878420e+14 -1.47761185e+15\n",
      " -6.38183546e+14 -1.40084853e+15 -1.27507609e+15 -1.16139673e+15\n",
      " -9.95744817e+14 -1.61753044e+15 -1.89509872e+14 -1.52971946e+15\n",
      " -8.46882710e+14 -9.48655109e+14 -4.56682981e+14 -1.16425941e+15\n",
      " -1.26470229e+15 -1.04527455e+15 -2.41886891e+14 -1.07284402e+15\n",
      " -1.42806462e+15 -1.36258478e+15 -1.25793150e+15 -7.80476393e+14\n",
      " -1.54322605e+15 -1.29240610e+15 -1.51065476e+15 -1.52976985e+15\n",
      " -1.56311645e+15 -4.71659414e+13 -3.06844724e+14 -1.40933650e+15\n",
      "  1.22511640e+14 -1.35396245e+15 -8.39084690e+14 -1.62376242e+15\n",
      " -1.19297437e+15 -1.21648528e+15 -1.17524060e+15 -1.08230884e+15\n",
      " -1.34474954e+15 -1.43358845e+15 -8.82838684e+14 -7.79230138e+14\n",
      " -1.24932597e+15 -1.40802307e+15 -7.72679075e+14 -8.68388838e+14\n",
      " -1.05576731e+15 -1.12331841e+15 -1.02417217e+15 -1.48904717e+15\n",
      " -1.40734921e+15 -1.48758189e+15 -1.10017767e+15 -8.32129170e+14\n",
      " -1.39417921e+15 -1.22447893e+14 -1.55417294e+15 -1.03473211e+15\n",
      " -1.40163995e+15 -9.06518239e+14 -6.13038713e+14 -5.39525732e+14\n",
      "  5.07692057e+14 -1.65488452e+15 -1.02164608e+15 -1.38589346e+15\n",
      " -1.57505629e+15 -1.43965109e+15 -1.32265422e+15 -1.21675469e+15\n",
      " -1.04721146e+15 -1.47564135e+15 -1.46622691e+15 -1.44180702e+15\n",
      " -6.77744638e+14 -7.88425558e+14 -1.43891075e+15 -9.06180958e+14\n",
      " -2.52211010e+14 -6.21594563e+14 -9.22769942e+14 -1.02166287e+15\n",
      " -6.74240985e+14 -8.18538619e+14 -7.44469336e+14 -1.36484147e+15\n",
      " -3.95363151e+14 -1.11070401e+15 -1.05199425e+15 -8.49089023e+14\n",
      " -8.07052214e+14 -8.99663483e+14 -1.07710550e+15 -1.03325004e+15\n",
      " -8.02100780e+14 -3.88441220e+14 -9.92998994e+14 -1.72789228e+15\n",
      " -1.01349468e+15 -9.42945845e+14 -1.29198556e+15 -5.42506669e+14\n",
      "  3.12095721e+14  1.23269470e+14 -1.83110656e+14 -1.18718114e+15\n",
      " -9.71088410e+14 -1.66584891e+15 -9.17919973e+14 -7.22322935e+14\n",
      " -1.22419863e+15 -1.65363826e+15 -1.04674053e+15 -1.02961203e+15\n",
      " -1.53307127e+15 -1.04252943e+15 -1.57178916e+15 -7.82935316e+14\n",
      " -7.71163416e+14 -1.59910602e+15 -6.19388249e+14 -8.34554506e+14\n",
      " -1.28750505e+15 -1.51681887e+15 -1.32021209e+15 -7.68469379e+14\n",
      " -1.04562862e+15 -6.06841023e+14 -1.50762345e+15 -9.21473305e+14\n",
      " -1.57293465e+15 -8.51513656e+14 -9.83315850e+14 -1.41292870e+14\n",
      " -1.36997834e+15 -5.75179417e+14 -9.49143535e+14 -6.62704199e+14]\n"
     ]
    }
   ],
   "source": [
    "lr = SGDRegressor(random_state=42)\n",
    "lr.fit(X_train4, y_train4)\n",
    "pred4 = lr.predict(X_test4)\n",
    "print(pred4)"
   ]
  }
 ],
 "metadata": {
  "kernelspec": {
   "display_name": "Python 3",
   "language": "python",
   "name": "python3"
  },
  "language_info": {
   "codemirror_mode": {
    "name": "ipython",
    "version": 3
   },
   "file_extension": ".py",
   "mimetype": "text/x-python",
   "name": "python",
   "nbconvert_exporter": "python",
   "pygments_lexer": "ipython3",
   "version": "3.7.4"
  }
 },
 "nbformat": 4,
 "nbformat_minor": 4
}
