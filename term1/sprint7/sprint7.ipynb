{
 "cells": [
  {
   "cell_type": "markdown",
   "metadata": {},
   "source": [
    "# 【問題1】中心点の初期値を決める"
   ]
  },
  {
   "cell_type": "markdown",
   "metadata": {},
   "source": [
    "入力されたデータから$K$個の中心点$\\mu_1$から$\\mu_K$の初期値を決めるコードを作成してください。$K$は指定したクラスタ数です。  \n",
    "最もシンプルな初期値の決定方法は、データ点$X_n$の中からランダムに$K$個選ぶことです。今回はこれを実装してください。  \n",
    "K-meansの学習結果は中心点$\\mu$の初期値に影響を受けます。そのため、学習時には複数個の初期値で計算を行います。"
   ]
  },
  {
   "cell_type": "code",
   "execution_count": 1,
   "metadata": {},
   "outputs": [],
   "source": [
    "import numpy as np\n",
    "import pandas as pd\n",
    "import matplotlib.pyplot as plt\n",
    "%matplotlib inline"
   ]
  },
  {
   "cell_type": "code",
   "execution_count": 2,
   "metadata": {},
   "outputs": [],
   "source": [
    "from sklearn.datasets import make_blobs\n",
    "X, _ = make_blobs(n_samples=100, n_features=2, centers=4, cluster_std=0.5, shuffle=True, random_state=0)"
   ]
  },
  {
   "cell_type": "code",
   "execution_count": 3,
   "metadata": {},
   "outputs": [],
   "source": [
    "class ScratchKMeans():\n",
    "    \"\"\"\n",
    "    K-meansのスクラッチ実装\n",
    "\n",
    "    Parameters\n",
    "    ----------\n",
    "    n_clusters : int\n",
    "      クラスタ数\n",
    "    n_init : int\n",
    "      中心点の初期値を何回変えて計算するか\n",
    "    max_iter : int\n",
    "      1回の計算で最大何イテレーションするか\n",
    "    tol : float\n",
    "      イテレーションを終了する基準となる中心点と重心の許容誤差\n",
    "    verbose : bool\n",
    "      学習過程を出力する場合はTrue\n",
    "    \"\"\"\n",
    "    def __init__(self, n_clusters, n_init, max_iter, tol, verbose=False):\n",
    "        # ハイパーパラメータを属性として記録\n",
    "        self.n_clusters = n_clusters\n",
    "        self.n_init = n_init\n",
    "        self.max_iter = max_iter\n",
    "        self.tol = tol\n",
    "        self.verbose = verbose\n",
    "        self.sse = np.inf\n",
    "        self.myu = None\n",
    "        self.r = None\n",
    "        \n",
    "    def fit_many_times(self, X):\n",
    "        \"\"\"\n",
    "        n_init回だけ初期値を発生させて、一番良いものを保持する。\n",
    "        parameters\n",
    "        X (2d-ndarray, (n_samples, n_features)): 訓練データの特徴量\n",
    "        \"\"\"\n",
    "        for initial in range(self.n_init):\n",
    "            # Loopごとに乱数を変える\n",
    "            np.random.seed(initial)\n",
    "            \n",
    "            # クラスタリング\n",
    "            sse, myu, r = self.fit(X)\n",
    "            \n",
    "            # sseが前回より良かったら、myuを保持（最初だったら無条件でmyuを保持）\n",
    "            if sse < self.sse or initial == 0:\n",
    "                self.sse = sse\n",
    "                self.myu = myu\n",
    "                self.r = r\n",
    "\n",
    "            # 学習過程を表示\n",
    "            if self.verbose:\n",
    "                print(\"{}回目:\\nsse = {} \\nmyu:\\n{}\".format(initial, sse, myu))\n",
    "    \n",
    "    def fit(self, X):\n",
    "        \"\"\"\n",
    "        K-meansによるクラスタリングを計算\n",
    "        Parameters\n",
    "        ----------\n",
    "        X : 次の形のndarray, shape (n_samples, n_features)\n",
    "            訓練データの特徴量\n",
    "        \"\"\"\n",
    "        # 中心点の初期値を生成\n",
    "        myu = self._initial_centers(X)\n",
    "        \n",
    "        for i in range(self.max_iter):\n",
    "            # クラスタ割り当て行列を計算\n",
    "            r = self._assign_cluster(X, myu)\n",
    "\n",
    "            # 次の中心点を求める\n",
    "            new_myu = self._move_centers(X, r)\n",
    "\n",
    "            # 中心点（myu）と重心（次の中心点new_myu）の差の合計を計算\n",
    "            delta_myu = np.linalg.norm(new_myu - myu)\n",
    "            #print(\"iteration: {} \\t delta_myu: {}\".format(iteration, delta_myu))\n",
    "\n",
    "            # max_iterまで繰り返す、もしくは、中心点の移動がtol未満の場合、終了\n",
    "            if delta_myu < self.tol:\n",
    "                break\n",
    "                \n",
    "            # 中心点を更新する\n",
    "            myu = new_myu\n",
    "\n",
    "        # SSEを計算\n",
    "        sse = self._calc_sse(X, new_myu, r)\n",
    "        return sse, new_myu, r        \n",
    "    \n",
    "    \n",
    "    def _initial_centers(self, X):\n",
    "        \"\"\"\n",
    "        中心点の初期値を設定\n",
    "        parameters\n",
    "        X (float 2d-ndarray, (n_samples, n_features)): 訓練データの特徴量\n",
    "        returns\n",
    "            myu (float 2d-ndarray, (n_cluster, n_features)): 初期の中心点\n",
    "        \"\"\"\n",
    "        # Xの中からk個ランダムに選ぶ\n",
    "        random_idx = np.random.choice(X.shape[0], size=self.n_clusters, replace=False)\n",
    "        myu = X[random_idx, :]\n",
    "        return myu\n",
    "    \n",
    "    def _calc_sse(self, X, myu, r):\n",
    "        \"\"\"\n",
    "        SSEを求める関数\n",
    "        parameters\n",
    "        X (float 2d-ndarray, (n_samples, n_features)): 訓練データの特徴量\n",
    "        myu (float 2d-ndarray, (n_cluster, n_features)): 中心点\n",
    "        r (bool 2d-ndarray, (n_samples, n_clusters)): one-hotクラスタ分類表\n",
    "        returns\n",
    "            sse (float): 残差平方和\n",
    "        \"\"\"\n",
    "        sse = 0\n",
    "        # 各中心点ごとに見ていく\n",
    "        for k in range(self.n_clusters):\n",
    "            # クラスタ割り当て行列rと中心点μの\n",
    "            r_k = r[:, k]\n",
    "            \n",
    "            # k番目のクラスタの中心点を取得\n",
    "            m_k = myu[k, :].reshape(1, -1)  # reshapeは、軸がないとブロードキャストできないから軸を追加\n",
    "            \n",
    "            # k番目のクラスタにおけるsseを計算して合計する\n",
    "            sse_k = np.sum((X[r_k] - m_k)**2)\n",
    "            \n",
    "            sse += sse_k\n",
    "        return sse\n",
    "    \n",
    "    def _assign_cluster(self, X, myu):\n",
    "        \"\"\"\n",
    "        クラスタを割り当てる関数\n",
    "        parameters\n",
    "            X (2d-ndarray, (n_samples, n_features)): 訓練データの特徴量\n",
    "            myu (2d-ndarray, (n_cluster, n_features)): 中心点\n",
    "        returns\n",
    "            r (bool 2d-ndarray, (n_samples, n_clusters)): one-hotクラスタ分類表\n",
    "        \"\"\"\n",
    "        # ユークリッド距離を格納する行列d\n",
    "        d = np.zeros((X.shape[0], self.n_clusters))\n",
    "\n",
    "        # クラスタごとに回してデータと中心点との距離を計算していく\n",
    "        for k in range(self.n_clusters):\n",
    "            # 中心点のベクトルm_kを取得\n",
    "            m_k = myu[k, :].reshape(1, -1)  # 1d-array（軸がない）場合、ブロードキャストできないので２軸目追加\n",
    "            #ブロードキャスト使わない場合：m_k = np.tile(myu[k, :], (X.shape[0], 1))\n",
    "            \n",
    "            # X - m_kの距離を計算\n",
    "            d_k = np.linalg.norm(X - m_k , ord=2, axis=1)\n",
    "            \n",
    "            # 行列dのk列目に代入\n",
    "            d[:, k] = d_k\n",
    "\n",
    "        # データごとに、どのクラスタ中心点との距離が最小なのか判定する\n",
    "        min_vec = np.min(d, axis=1).reshape(-1, 1)\n",
    "\n",
    "        # 距離の最小値でできた行列（Xと同じ形状）を作る\n",
    "        #ブロードキャストしない場合：min_matrix = np.tile(min_vec, (1, self.n_clusters))\n",
    "\n",
    "        # 距離が最小ならばTrue、それ以外はFalseの行列をrとする\n",
    "        # ブロードキャストしない場合：r = d == min_matrix\n",
    "        r = d == min_vec\n",
    "        return r\n",
    "    \n",
    "    def _move_centers(self, X, r):\n",
    "        \"\"\"\n",
    "        中心点を更新する関数\n",
    "        parameters\n",
    "            X (float 2d-ndarray, (n_samples, n_features)): データ\n",
    "            r (bool 2d-ndarray, (n_samples, n_clusters)): クラスタ分類表\n",
    "        returns\n",
    "            new_myu (float 2d-ndarray, (n_clusters, n_features)): 新しい中心点（クラスタの重心）\n",
    "        \"\"\"\n",
    "        # myuと同じ形状のゼロ行列を定義（これに入れていく）\n",
    "        new_myu = np.zeros((self.n_clusters, X.shape[1]))\n",
    "        \n",
    "        # クラスタごとに中心点を求める\n",
    "        for k in range(self.n_clusters):\n",
    "            # k番目の r で、そのクラスタに属しているデータを選択\n",
    "            # その平均を行方向に計算する\n",
    "            new_myu[k, :] = np.mean(X[r[:, k]], axis=0)\n",
    "        return new_myu\n",
    "    \n",
    "    def predict(self, X):\n",
    "        \"\"\"\n",
    "        入力されたデータがどのクラスタに属するかを計算\n",
    "        \"\"\"\n",
    "        r = self._assign_cluster(X, self.myu)\n",
    "        label = np.argmax(r, axis=1)  # Trueのインデックスを選ぶ\n",
    "        return label"
   ]
  },
  {
   "cell_type": "code",
   "execution_count": 4,
   "metadata": {},
   "outputs": [],
   "source": [
    "def choose_K_points(X, K):\n",
    "    return X[np.random.choice(X.shape[0], K, replace=False), :]"
   ]
  },
  {
   "cell_type": "markdown",
   "metadata": {},
   "source": [
    "以下のメソッドをScratchKMeansに実装した。  \n",
    "```python\n",
    "def _initial_centers(self, X):\n",
    "    \"\"\"\n",
    "    中心点の初期値を設定\n",
    "    parameters\n",
    "    X (float 2d-ndarray, (n_samples, n_features)): 訓練データの特徴量\n",
    "    returns\n",
    "        myu (float 2d-ndarray, (n_cluster, n_features)): 初期の中心点\n",
    "    \"\"\"\n",
    "    # Xの中からk個ランダムに選ぶ\n",
    "    random_idx = np.random.choice(X.shape[0], size=self.n_clusters, replace=False)\n",
    "    myu = X[random_idx, :]\n",
    "    return myu\n",
    "```"
   ]
  },
  {
   "cell_type": "markdown",
   "metadata": {},
   "source": [
    "# 【問題2】SSEを求める関数の作成"
   ]
  },
  {
   "cell_type": "markdown",
   "metadata": {},
   "source": [
    "クラスタ内誤差平方和（SSE, Sum of Squared Errors）を計算する関数を作成してください。  \n",
    "K-meansはこのSSEを最小化する$r_{nk}$と$\\mu_k$を求めることが目的となります。  \n",
    "複数個の初期値で計算したクラスタリング結果から、どれを最終的に採用するかを決める際にこのSSEを求める関数を使用します。\n",
    "$$\n",
    "SSE = \\sum_{n=1}^N \\sum_{k=1}^K r_{nk} \\|X_n - \\mu_k\\|^2\n",
    "$$\n",
    "$n$: データ点のインデックス  \n",
    "$k$: クラスタのインデックス  \n",
    "$X_n$: $n$番目のデータ点  \n",
    "$\\mu_k$: $k$番目の中心点  \n",
    "$r_{nk}$: データ点$X_n$がクラスタ$k$に属していたら1, そうでなければ0"
   ]
  },
  {
   "cell_type": "markdown",
   "metadata": {},
   "source": [
    "以下のメソッドをScratchKMeansに実装した。\n",
    "```python\n",
    "def _calc_sse(self, X, myu, r):\n",
    "    \"\"\"\n",
    "    SSEを求める関数\n",
    "    parameters\n",
    "    X (float 2d-ndarray, (n_samples, n_features)): 訓練データの特徴量\n",
    "    myu (float 2d-ndarray, (n_cluster, n_features)): 中心点\n",
    "    r (bool 2d-ndarray, (n_samples, n_clusters)): one-hotクラスタ分類表\n",
    "    returns\n",
    "        sse (float): 残差平方和\n",
    "    \"\"\"\n",
    "    sse = 0\n",
    "    # 各中心点ごとに見ていく\n",
    "    for k in range(self.n_clusters):\n",
    "        # クラスタ割り当て行列rと中心点μの\n",
    "        r_k = r[:, k]\n",
    "\n",
    "        # k番目のクラスタの中心点を取得\n",
    "        m_k = myu[k, :].reshape(1, -1)  # reshapeは、軸がないとブロードキャストできないから軸を追加\n",
    "\n",
    "        # k番目のクラスタにおけるsseを計算して合計する\n",
    "        sse_k = np.sum((X[r_k] - m_k)**2)\n",
    "\n",
    "        sse += sse_k\n",
    "    return sse\n",
    "```"
   ]
  },
  {
   "cell_type": "markdown",
   "metadata": {},
   "source": [
    "# 【問題3】クラスタへの割り当て"
   ]
  },
  {
   "cell_type": "markdown",
   "metadata": {},
   "source": [
    "全てのデータ点$X_n$を最も近い中心点$\\mu_k$に割り当てるコードを作成してください。  \n",
    "K-menasにおける **近い** とは点と点のユークリッド距離が小さくなることです。  \n",
    "ユークリッド距離とはピタゴラスの定理（三平方の定理）で求められるものですが、  \n",
    "ベクトル$p,q$に対しては以下の数式で表現できます。\n",
    "$$\n",
    "\\|q-p\\| = \\sqrt{(q-p)\\cdot(q-p)}\n",
    "$$\n",
    "NumPyにはこの関数がnp.linalg.normとして用意されているため使用してください。  \n",
    "numpy.linalg.norm — NumPy v1.17 Manual  \n",
    "中心点$\\mu_k$を固定した上でSSEを最小化していることになりますが、SSE自体を求める必要はありません。"
   ]
  },
  {
   "cell_type": "markdown",
   "metadata": {},
   "source": [
    "以下のメソッドをScratchKMeansに実装した。\n",
    "```python\n",
    "def _assign_cluster(self, X, myu):\n",
    "    \"\"\"クラスタを割り当てる関数\n",
    "    :parameters\n",
    "        X (2d-ndarray, (n_samples, n_features)): 訓練データの特徴量\n",
    "        myu (2d-ndarray, (n_cluster, n_features)): 中心点\n",
    "    :returns\n",
    "        r (bool 2d-ndarray, (n_samples, n_clusters)): one-hotクラスタ分類表\n",
    "    \"\"\"\n",
    "    # ユークリッド距離を格納する行列d\n",
    "    d = np.zeros((X.shape[0], self.n_clusters))\n",
    "\n",
    "    # クラスタごとに回してデータと中心点との距離を計算していく\n",
    "    for k in range(self.n_clusters):\n",
    "        # 中心点のベクトルm_kを取得\n",
    "        m_k = myu[k, :].reshape(1, -1)  # 1d-array（軸がない）場合、ブロードキャストできないので追加\n",
    "        #ブロードキャスト使わない場合：m_k = np.tile(myu[k, :], (X.shape[0], 1))\n",
    "\n",
    "        # X - m_kの距離を計算\n",
    "        d_k = np.linalg.norm(X - m_k , ord=2, axis=1)\n",
    "\n",
    "        # 行列dのk列目に代入\n",
    "        d[:, k] = d_k\n",
    "\n",
    "    # データごとに、どのクラスタ中心点との距離が最小なのか判定する\n",
    "    min_vec = np.min(d, axis=1).reshape(-1, 1)\n",
    "\n",
    "    # 距離の最小値でできた行列（Xと同じ形状）を作る\n",
    "    #ブロードキャストしない場合：min_matrix = np.tile(min_vec, (1, self.n_clusters))\n",
    "\n",
    "    # 距離が最小ならばTrue、それ以外はFalseの行列をrとする\n",
    "    # ブロードキャストしない場合：r = d == min_matrix\n",
    "    r = d == min_vec\n",
    "    return r\n",
    "```"
   ]
  },
  {
   "cell_type": "markdown",
   "metadata": {},
   "source": [
    "# 【問題4】中心点の移動"
   ]
  },
  {
   "cell_type": "markdown",
   "metadata": {},
   "source": [
    "中心点$\\mu_k$を$k$番目のクラスタに割り当てられる全てのデータ点$X_n$の平均値（重心）に移動するコードを作成してください。  \n",
    "クラスタの割り当て$r_{nk}$を固定した上でSSEを最小化していることになりますが、SSE自体を求める必要はありません。"
   ]
  },
  {
   "cell_type": "markdown",
   "metadata": {},
   "source": [
    "以下のメソッドをScratchKMeansに実装した。\n",
    "```python\n",
    "def _move_centers(self, X, r):\n",
    "    \"\"\"中心点を更新する関数\n",
    "    :parameters\n",
    "        X (float 2d-ndarray, (n_samples, n_features)): データ\n",
    "        r (bool 2d-ndarray, (n_samples, n_clusters)): クラスタ分類表\n",
    "    :returns\n",
    "        new_myu (float 2d-ndarray, (n_clusters, n_features)): 新しい中心点（クラスタの重心）\n",
    "    \"\"\"\n",
    "    # myuと同じ形状のゼロ行列を定義（これに入れていく）\n",
    "    new_myu = np.zeros((self.n_clusters, X.shape[1]))\n",
    "\n",
    "    # クラスタごとに中心点を求める\n",
    "    for k in range(self.n_clusters):\n",
    "        # k番目の r で、そのクラスタに属しているデータを選択\n",
    "        # その平均を行方向に計算する\n",
    "        new_myu[k, :] = np.mean(X[r[:, k]], axis=0)\n",
    "    return new_myu\n",
    "```"
   ]
  },
  {
   "cell_type": "markdown",
   "metadata": {},
   "source": [
    "# 【問題5】繰り返し"
   ]
  },
  {
   "cell_type": "markdown",
   "metadata": {},
   "source": [
    "クラスタへの割り当てと中心点の移動を繰り返すことで学習を行うコードを作成してください。  \n",
    "次のどれかの条件を満たしたらこれを止めます。  \n",
    "- 繰り返しが指定した回数に到達する。（雛形では引数max_iter）  \n",
    "- 中心点$\\mu_k$と重心の差の合計が指定した許容値以下になる。（雛形では引数tol）"
   ]
  },
  {
   "cell_type": "markdown",
   "metadata": {},
   "source": [
    "以下のメソッドをScratchKMeansに実装した。\n",
    "```python\n",
    "def fit(self, X):\n",
    "    \"\"\"\n",
    "    K-meansによるクラスタリングを計算\n",
    "    Parameters\n",
    "    ----------\n",
    "    X : 次の形のndarray, shape (n_samples, n_features)\n",
    "        訓練データの特徴量\n",
    "    \"\"\"\n",
    "    # 中心点の初期値を生成\n",
    "    myu = self._initial_centers(X)\n",
    "\n",
    "    for i in range(self.max_iter):\n",
    "        # クラスタ割り当て行列を計算\n",
    "        r = self._assign_cluster(X, myu)\n",
    "\n",
    "        # 次の中心点を求める\n",
    "        new_myu = self._move_centers(X, r)\n",
    "\n",
    "        # 中心点（myu）と重心（次の中心点new_myu）の差の合計を計算\n",
    "        delta_myu = np.linalg.norm(new_myu - myu)\n",
    "        #print(\"iteration: {} \\t delta_myu: {}\".format(iteration, delta_myu))\n",
    "\n",
    "        # max_iterまで繰り返す、もしくは、中心点の移動がtol未満の場合、終了\n",
    "        if delta_myu < self.tol:\n",
    "            break\n",
    "\n",
    "        # 中心点を更新する\n",
    "        myu = new_myu\n",
    "\n",
    "    # SSEを計算\n",
    "    sse = self._calc_sse(X, new_myu, r)\n",
    "    return sse, new_myu, r\n",
    "```"
   ]
  },
  {
   "cell_type": "markdown",
   "metadata": {},
   "source": [
    "# 【問題6】異なる初期値で計算"
   ]
  },
  {
   "cell_type": "markdown",
   "metadata": {},
   "source": [
    "問題5の繰り返しを、指定した回数初期値を変更して計算するコードを作成してください。  \n",
    "回数は雛形では引数n_initで指定します。  \n",
    "複数計算した中でSSEが最小になったものが最終的な学習結果となるため、その時の中心点 𝜇𝑘 を保持しておきます。"
   ]
  },
  {
   "cell_type": "markdown",
   "metadata": {},
   "source": [
    "以下のメソッドをScratchKMeansに実装した。\n",
    "```python\n",
    "def fit_many_times(self, X):\n",
    "    \"\"\"\n",
    "    n_init回だけ初期値を発生させて、一番良いものを保持する。\n",
    "    parameters\n",
    "    X (2d-ndarray, (n_samples, n_features)): 訓練データの特徴量\n",
    "    \"\"\"\n",
    "    for initial in range(self.n_init):\n",
    "        # Loopごとに乱数を変える\n",
    "        np.random.seed(initial)\n",
    "\n",
    "        # クラスタリング\n",
    "        sse, myu, r = self.fit(X)\n",
    "\n",
    "        # sseが前回より良かったら、myuを保持（最初だったら無条件でmyuを保持）\n",
    "        if sse < self.sse or initial == 0:\n",
    "            self.sse = sse\n",
    "            self.myu = myu\n",
    "            self.r = r\n",
    "\n",
    "        # 学習過程を表示\n",
    "        if self.verbose:\n",
    "            print(\"{}回目:\\nsse = {} \\nmyu:\\n{}\".format(initial, sse, myu))\n",
    "```"
   ]
  },
  {
   "cell_type": "markdown",
   "metadata": {},
   "source": [
    "# 【問題7】推定"
   ]
  },
  {
   "cell_type": "markdown",
   "metadata": {},
   "source": [
    "新たなデータに対してどのクラスタに所属するかの推定の際は、学習時の1つ目のフェーズと同じことを行います。  \n",
    "- データ点 𝑋𝑛 と学習で決まった中心点 𝜇𝑘 に対し、 𝑆𝑆𝐸 を最小化する 𝑟𝑛𝑘 を選ぶ。  \n",
    "具体的には次のことです。  \n",
    "- データ点 𝑋𝑛 を最も近い 𝜇𝑘 に割り当てる。"
   ]
  },
  {
   "cell_type": "markdown",
   "metadata": {},
   "source": [
    "以下のメソッドをScratchKMeansに実装した。\n",
    "```python\n",
    "def predict(self, X):\n",
    "    \"\"\"\n",
    "    入力されたデータがどのクラスタに属するかを計算\n",
    "    \"\"\"\n",
    "    r = self._assign_cluster(X, self.myu)\n",
    "    label = np.argmax(r, axis=1)  # Trueのインデックスを選ぶ\n",
    "    return label\n",
    "```"
   ]
  },
  {
   "cell_type": "markdown",
   "metadata": {},
   "source": [
    "# 【問題8】エルボー法の実装"
   ]
  },
  {
   "cell_type": "markdown",
   "metadata": {},
   "source": [
    "K-meansにおいて中心点の個数 𝑘 は人為的に決める必要がありますが、その判断方法としてエルボー法があります。  \n",
    "エルボー法により中心点の個数 𝑘 を検討するためのコードを作成してください。  \n",
    "SSEを縦軸、クラスタ数 𝑘 を横軸にした折れ線グラフを表示します。  \n",
    "このためにK-meansのインスタンスからはSSEを取得できるようにしてください。"
   ]
  },
  {
   "cell_type": "code",
   "execution_count": 5,
   "metadata": {},
   "outputs": [
    {
     "data": {
      "image/png": "[encoded data removed]",
      "text/plain": [
       "<Figure size 360x432 with 1 Axes>"
      ]
     },
     "metadata": {
      "needs_background": "light"
     },
     "output_type": "display_data"
    }
   ],
   "source": [
    "def draw_elbow(k_min, k_max):\n",
    "    x = np.arange(k_min, k_max+1)\n",
    "    y = []\n",
    "    for k in range(k_min, k_max+1):\n",
    "        elbow_kmeans = ScratchKMeans(n_clusters=k, n_init=10, max_iter=100, tol=1e-5, verbose=False)\n",
    "        elbow_kmeans.fit_many_times(X)\n",
    "        y.append(elbow_kmeans.sse)    \n",
    "    # 描画\n",
    "    fig, ax = plt.subplots(figsize=(5, 6))\n",
    "    ax.plot(x, y, marker=\"o\")\n",
    "    ax.set_xlabel(\"number of clusters\", fontsize=20)\n",
    "    ax.set_ylabel(\"SSE\", fontsize=20)\n",
    "    plt.show()\n",
    "    \n",
    "draw_elbow(2, 10)"
   ]
  },
  {
   "cell_type": "markdown",
   "metadata": {},
   "source": [
    "# 【問題10】クラスタ数kの選択"
   ]
  },
  {
   "cell_type": "markdown",
   "metadata": {},
   "source": [
    "最適だと思われるクラスタ数 𝑘 を選択してください。  \n",
    "エルボー法やシルエット図を活用する他、人間が後々どう利用したいのかも選択に関わってきます。  \n",
    "選択した上で、なぜそれを選んだか説明してください。"
   ]
  },
  {
   "cell_type": "code",
   "execution_count": 6,
   "metadata": {},
   "outputs": [
    {
     "data": {
      "text/html": [
       "<div>\n",
       "<style scoped>\n",
       "    .dataframe tbody tr th:only-of-type {\n",
       "        vertical-align: middle;\n",
       "    }\n",
       "\n",
       "    .dataframe tbody tr th {\n",
       "        vertical-align: top;\n",
       "    }\n",
       "\n",
       "    .dataframe thead th {\n",
       "        text-align: right;\n",
       "    }\n",
       "</style>\n",
       "<table border=\"1\" class=\"dataframe\">\n",
       "  <thead>\n",
       "    <tr style=\"text-align: right;\">\n",
       "      <th></th>\n",
       "      <th>Channel</th>\n",
       "      <th>Region</th>\n",
       "      <th>Fresh</th>\n",
       "      <th>Milk</th>\n",
       "      <th>Grocery</th>\n",
       "      <th>Frozen</th>\n",
       "      <th>Detergents_Paper</th>\n",
       "      <th>Delicassen</th>\n",
       "    </tr>\n",
       "  </thead>\n",
       "  <tbody>\n",
       "    <tr>\n",
       "      <td>0</td>\n",
       "      <td>2</td>\n",
       "      <td>3</td>\n",
       "      <td>12669</td>\n",
       "      <td>9656</td>\n",
       "      <td>7561</td>\n",
       "      <td>214</td>\n",
       "      <td>2674</td>\n",
       "      <td>1338</td>\n",
       "    </tr>\n",
       "    <tr>\n",
       "      <td>1</td>\n",
       "      <td>2</td>\n",
       "      <td>3</td>\n",
       "      <td>7057</td>\n",
       "      <td>9810</td>\n",
       "      <td>9568</td>\n",
       "      <td>1762</td>\n",
       "      <td>3293</td>\n",
       "      <td>1776</td>\n",
       "    </tr>\n",
       "    <tr>\n",
       "      <td>2</td>\n",
       "      <td>2</td>\n",
       "      <td>3</td>\n",
       "      <td>6353</td>\n",
       "      <td>8808</td>\n",
       "      <td>7684</td>\n",
       "      <td>2405</td>\n",
       "      <td>3516</td>\n",
       "      <td>7844</td>\n",
       "    </tr>\n",
       "    <tr>\n",
       "      <td>3</td>\n",
       "      <td>1</td>\n",
       "      <td>3</td>\n",
       "      <td>13265</td>\n",
       "      <td>1196</td>\n",
       "      <td>4221</td>\n",
       "      <td>6404</td>\n",
       "      <td>507</td>\n",
       "      <td>1788</td>\n",
       "    </tr>\n",
       "    <tr>\n",
       "      <td>4</td>\n",
       "      <td>2</td>\n",
       "      <td>3</td>\n",
       "      <td>22615</td>\n",
       "      <td>5410</td>\n",
       "      <td>7198</td>\n",
       "      <td>3915</td>\n",
       "      <td>1777</td>\n",
       "      <td>5185</td>\n",
       "    </tr>\n",
       "  </tbody>\n",
       "</table>\n",
       "</div>"
      ],
      "text/plain": [
       "   Channel  Region  Fresh  Milk  Grocery  Frozen  Detergents_Paper  Delicassen\n",
       "0        2       3  12669  9656     7561     214              2674        1338\n",
       "1        2       3   7057  9810     9568    1762              3293        1776\n",
       "2        2       3   6353  8808     7684    2405              3516        7844\n",
       "3        1       3  13265  1196     4221    6404               507        1788\n",
       "4        2       3  22615  5410     7198    3915              1777        5185"
      ]
     },
     "execution_count": 6,
     "metadata": {},
     "output_type": "execute_result"
    }
   ],
   "source": [
    "# データを読み込み\n",
    "data = pd.read_csv('Wholesale customers data.csv')\n",
    "data.head()"
   ]
  },
  {
   "cell_type": "code",
   "execution_count": 7,
   "metadata": {},
   "outputs": [],
   "source": [
    "from sklearn.decomposition import PCA\n",
    "pca = PCA(n_components = 2)\n",
    "pca = pca.fit(data)\n",
    "data_pca = pca.transform(data)"
   ]
  },
  {
   "cell_type": "code",
   "execution_count": 8,
   "metadata": {},
   "outputs": [
    {
     "data": {
      "image/png": "[encoded data removed]",
      "text/plain": [
       "<Figure size 360x432 with 1 Axes>"
      ]
     },
     "metadata": {
      "needs_background": "light"
     },
     "output_type": "display_data"
    }
   ],
   "source": [
    "def draw_elbow2(X, k_min, k_max):\n",
    "    x = np.arange(k_min, k_max+1)    \n",
    "    y = []\n",
    "    for k in range(k_min, k_max+1):\n",
    "        elbow_kmeans = ScratchKMeans(n_clusters=k, n_init=10, max_iter=100, tol=1e-5, verbose=False)\n",
    "        elbow_kmeans.fit_many_times(X)\n",
    "        y.append(elbow_kmeans.sse)\n",
    "    # 描画\n",
    "    fig, ax = plt.subplots(figsize=(5, 6))\n",
    "    ax.plot(x, y, marker=\"o\")\n",
    "    ax.set_xlabel(\"number of clusters\", fontsize=20)\n",
    "    ax.set_ylabel(\"SSE\", fontsize=20)\n",
    "    plt.show()\n",
    "\n",
    "draw_elbow2(data_pca, 2, 30)"
   ]
  },
  {
   "cell_type": "markdown",
   "metadata": {},
   "source": [
    "クラスタ数が10を越えたあたりからSSEの値が急減しているため、クラスタ数を10とする。"
   ]
  },
  {
   "cell_type": "markdown",
   "metadata": {},
   "source": [
    "# 【問題11】既知のグループとの比較"
   ]
  },
  {
   "cell_type": "markdown",
   "metadata": {},
   "source": [
    "RegionとChannelはK-meansに使用しなかったが、これれらは既知のグループです。  \n",
    "クラスタとこれら既知のグループがどう違うかを確認し、説明してください。  \n",
    "まずはそれぞれを可視化してください。"
   ]
  },
  {
   "cell_type": "code",
   "execution_count": 9,
   "metadata": {},
   "outputs": [],
   "source": [
    "km = ScratchKMeans(n_clusters=10, n_init=10, max_iter=100, tol=1e-5, verbose=False)\n",
    "X = data_pca\n",
    "km.fit_many_times(X)\n",
    "y = km.predict(X)"
   ]
  },
  {
   "cell_type": "code",
   "execution_count": 10,
   "metadata": {},
   "outputs": [
    {
     "data": {
      "image/png": "[encoded data removed]",
      "text/plain": [
       "<Figure size 1080x360 with 3 Axes>"
      ]
     },
     "metadata": {
      "needs_background": "light"
     },
     "output_type": "display_data"
    }
   ],
   "source": [
    "cluster = km.predict(X)\n",
    "region = data[\"Region\"].values\n",
    "channel = data[\"Channel\"].values\n",
    "\n",
    "fig, ax = plt.subplots(1, 3, figsize=(15, 5))\n",
    "ax[0].set_title(\"Clustering\", fontsize=15)\n",
    "for k in np.unique(cluster):\n",
    "    ax[0].scatter(X[cluster == k, 0], X[cluster == k, 1], label=k)\n",
    "    ax[0].legend()\n",
    "    \n",
    "ax[1].set_title(\"Region\", fontsize=15)\n",
    "for r in np.unique(region):\n",
    "    ax[1].scatter(X[region == r, 0], X[region == r, 1], alpha=0.5, label=r)\n",
    "    ax[1].legend()\n",
    "\n",
    "ax[2].set_title(\"Channel\", fontsize=15)\n",
    "for c in np.unique(channel):\n",
    "    ax[2].scatter(X[channel == c, 0], X[channel == c, 1], alpha=0.5, label=c)\n",
    "    ax[2].legend()\n",
    "\n",
    "plt.tight_layout()\n",
    "plt.show()"
   ]
  },
  {
   "cell_type": "markdown",
   "metadata": {},
   "source": [
    "Clusteringはクラスタが重なっておらず、データを分類できるいる。  \n",
    "それに対して、Region, Channelはクラスタが重なる部分が大きく、データ分類ができていない。"
   ]
  },
  {
   "cell_type": "markdown",
   "metadata": {},
   "source": [
    "# 【問題12】卸売業者にとって有益な情報"
   ]
  },
  {
   "cell_type": "markdown",
   "metadata": {},
   "source": [
    "卸売業者にとって有益な情報を探し出し文章にまとめてください。  \n",
    "《ヒント》  \n",
    "前処理を行う前のデータを使い、各クラスタの要約統計量を見るなどしてみましょう。  \n",
    "また、PCAで次元削減したデータに対してK-meansを使用しましたが、6個の特徴量をそのまま使ったり、  \n",
    "一部の特徴量のみを使ったりということも試してみてください。  \n",
    "既知のグループとの比較結果も参考にしてください。  \n",
    "条件ごとにデータを見る際にはPandasのgroupbyが便利です。"
   ]
  },
  {
   "cell_type": "code",
   "execution_count": 11,
   "metadata": {},
   "outputs": [],
   "source": [
    "data['Cluster'] = cluster"
   ]
  },
  {
   "cell_type": "code",
   "execution_count": 12,
   "metadata": {},
   "outputs": [
    {
     "data": {
      "text/html": [
       "<div>\n",
       "<style scoped>\n",
       "    .dataframe tbody tr th:only-of-type {\n",
       "        vertical-align: middle;\n",
       "    }\n",
       "\n",
       "    .dataframe tbody tr th {\n",
       "        vertical-align: top;\n",
       "    }\n",
       "\n",
       "    .dataframe thead th {\n",
       "        text-align: right;\n",
       "    }\n",
       "</style>\n",
       "<table border=\"1\" class=\"dataframe\">\n",
       "  <thead>\n",
       "    <tr style=\"text-align: right;\">\n",
       "      <th></th>\n",
       "      <th>Fresh</th>\n",
       "      <th>Milk</th>\n",
       "      <th>Grocery</th>\n",
       "      <th>Frozen</th>\n",
       "      <th>Detergents_Paper</th>\n",
       "      <th>Delicassen</th>\n",
       "    </tr>\n",
       "    <tr>\n",
       "      <th>Region</th>\n",
       "      <th></th>\n",
       "      <th></th>\n",
       "      <th></th>\n",
       "      <th></th>\n",
       "      <th></th>\n",
       "      <th></th>\n",
       "    </tr>\n",
       "  </thead>\n",
       "  <tbody>\n",
       "    <tr>\n",
       "      <td>1</td>\n",
       "      <td>854833</td>\n",
       "      <td>422454</td>\n",
       "      <td>570037</td>\n",
       "      <td>231026</td>\n",
       "      <td>204136</td>\n",
       "      <td>104327</td>\n",
       "    </tr>\n",
       "    <tr>\n",
       "      <td>2</td>\n",
       "      <td>464721</td>\n",
       "      <td>239144</td>\n",
       "      <td>433274</td>\n",
       "      <td>190132</td>\n",
       "      <td>173311</td>\n",
       "      <td>54506</td>\n",
       "    </tr>\n",
       "    <tr>\n",
       "      <td>3</td>\n",
       "      <td>3960577</td>\n",
       "      <td>1888759</td>\n",
       "      <td>2495251</td>\n",
       "      <td>930492</td>\n",
       "      <td>890410</td>\n",
       "      <td>512110</td>\n",
       "    </tr>\n",
       "  </tbody>\n",
       "</table>\n",
       "</div>"
      ],
      "text/plain": [
       "          Fresh     Milk  Grocery  Frozen  Detergents_Paper  Delicassen\n",
       "Region                                                                 \n",
       "1        854833   422454   570037  231026            204136      104327\n",
       "2        464721   239144   433274  190132            173311       54506\n",
       "3       3960577  1888759  2495251  930492            890410      512110"
      ]
     },
     "execution_count": 12,
     "metadata": {},
     "output_type": "execute_result"
    }
   ],
   "source": [
    "data.drop([\"Channel\", \"Cluster\"],axis=1).groupby(\"Region\").sum()"
   ]
  },
  {
   "cell_type": "code",
   "execution_count": 13,
   "metadata": {},
   "outputs": [
    {
     "data": {
      "text/html": [
       "<div>\n",
       "<style scoped>\n",
       "    .dataframe tbody tr th:only-of-type {\n",
       "        vertical-align: middle;\n",
       "    }\n",
       "\n",
       "    .dataframe tbody tr th {\n",
       "        vertical-align: top;\n",
       "    }\n",
       "\n",
       "    .dataframe thead th {\n",
       "        text-align: right;\n",
       "    }\n",
       "</style>\n",
       "<table border=\"1\" class=\"dataframe\">\n",
       "  <thead>\n",
       "    <tr style=\"text-align: right;\">\n",
       "      <th></th>\n",
       "      <th>Fresh</th>\n",
       "      <th>Milk</th>\n",
       "      <th>Grocery</th>\n",
       "      <th>Frozen</th>\n",
       "      <th>Detergents_Paper</th>\n",
       "      <th>Delicassen</th>\n",
       "    </tr>\n",
       "    <tr>\n",
       "      <th>Channel</th>\n",
       "      <th></th>\n",
       "      <th></th>\n",
       "      <th></th>\n",
       "      <th></th>\n",
       "      <th></th>\n",
       "      <th></th>\n",
       "    </tr>\n",
       "  </thead>\n",
       "  <tbody>\n",
       "    <tr>\n",
       "      <td>1</td>\n",
       "      <td>4015717</td>\n",
       "      <td>1028614</td>\n",
       "      <td>1180717</td>\n",
       "      <td>1116979</td>\n",
       "      <td>235587</td>\n",
       "      <td>421955</td>\n",
       "    </tr>\n",
       "    <tr>\n",
       "      <td>2</td>\n",
       "      <td>1264414</td>\n",
       "      <td>1521743</td>\n",
       "      <td>2317845</td>\n",
       "      <td>234671</td>\n",
       "      <td>1032270</td>\n",
       "      <td>248988</td>\n",
       "    </tr>\n",
       "  </tbody>\n",
       "</table>\n",
       "</div>"
      ],
      "text/plain": [
       "           Fresh     Milk  Grocery   Frozen  Detergents_Paper  Delicassen\n",
       "Channel                                                                  \n",
       "1        4015717  1028614  1180717  1116979            235587      421955\n",
       "2        1264414  1521743  2317845   234671           1032270      248988"
      ]
     },
     "execution_count": 13,
     "metadata": {},
     "output_type": "execute_result"
    }
   ],
   "source": [
    "data.drop([\"Region\", \"Cluster\"],axis=1).groupby(\"Channel\").sum()"
   ]
  },
  {
   "cell_type": "code",
   "execution_count": 14,
   "metadata": {},
   "outputs": [
    {
     "data": {
      "text/html": [
       "<div>\n",
       "<style scoped>\n",
       "    .dataframe tbody tr th:only-of-type {\n",
       "        vertical-align: middle;\n",
       "    }\n",
       "\n",
       "    .dataframe tbody tr th {\n",
       "        vertical-align: top;\n",
       "    }\n",
       "\n",
       "    .dataframe thead th {\n",
       "        text-align: right;\n",
       "    }\n",
       "</style>\n",
       "<table border=\"1\" class=\"dataframe\">\n",
       "  <thead>\n",
       "    <tr style=\"text-align: right;\">\n",
       "      <th></th>\n",
       "      <th>Fresh</th>\n",
       "      <th>Milk</th>\n",
       "      <th>Grocery</th>\n",
       "      <th>Frozen</th>\n",
       "      <th>Detergents_Paper</th>\n",
       "      <th>Delicassen</th>\n",
       "    </tr>\n",
       "    <tr>\n",
       "      <th>Cluster</th>\n",
       "      <th></th>\n",
       "      <th></th>\n",
       "      <th></th>\n",
       "      <th></th>\n",
       "      <th></th>\n",
       "      <th></th>\n",
       "    </tr>\n",
       "  </thead>\n",
       "  <tbody>\n",
       "    <tr>\n",
       "      <td>0</td>\n",
       "      <td>128015</td>\n",
       "      <td>217303</td>\n",
       "      <td>307361</td>\n",
       "      <td>13180</td>\n",
       "      <td>149871</td>\n",
       "      <td>13544</td>\n",
       "    </tr>\n",
       "    <tr>\n",
       "      <td>1</td>\n",
       "      <td>149716</td>\n",
       "      <td>439903</td>\n",
       "      <td>720044</td>\n",
       "      <td>64352</td>\n",
       "      <td>298183</td>\n",
       "      <td>56863</td>\n",
       "    </tr>\n",
       "    <tr>\n",
       "      <td>2</td>\n",
       "      <td>876471</td>\n",
       "      <td>77116</td>\n",
       "      <td>90718</td>\n",
       "      <td>148598</td>\n",
       "      <td>15655</td>\n",
       "      <td>46631</td>\n",
       "    </tr>\n",
       "    <tr>\n",
       "      <td>3</td>\n",
       "      <td>1166587</td>\n",
       "      <td>178031</td>\n",
       "      <td>244924</td>\n",
       "      <td>256450</td>\n",
       "      <td>58257</td>\n",
       "      <td>82625</td>\n",
       "    </tr>\n",
       "    <tr>\n",
       "      <td>4</td>\n",
       "      <td>1064238</td>\n",
       "      <td>230115</td>\n",
       "      <td>296276</td>\n",
       "      <td>187112</td>\n",
       "      <td>60555</td>\n",
       "      <td>96075</td>\n",
       "    </tr>\n",
       "    <tr>\n",
       "      <td>5</td>\n",
       "      <td>144907</td>\n",
       "      <td>316947</td>\n",
       "      <td>456320</td>\n",
       "      <td>31732</td>\n",
       "      <td>213919</td>\n",
       "      <td>49929</td>\n",
       "    </tr>\n",
       "    <tr>\n",
       "      <td>6</td>\n",
       "      <td>219984</td>\n",
       "      <td>239294</td>\n",
       "      <td>278709</td>\n",
       "      <td>178366</td>\n",
       "      <td>74446</td>\n",
       "      <td>71636</td>\n",
       "    </tr>\n",
       "    <tr>\n",
       "      <td>7</td>\n",
       "      <td>320702</td>\n",
       "      <td>543930</td>\n",
       "      <td>744625</td>\n",
       "      <td>95229</td>\n",
       "      <td>322397</td>\n",
       "      <td>103528</td>\n",
       "    </tr>\n",
       "    <tr>\n",
       "      <td>8</td>\n",
       "      <td>294186</td>\n",
       "      <td>81461</td>\n",
       "      <td>58029</td>\n",
       "      <td>78509</td>\n",
       "      <td>6716</td>\n",
       "      <td>59817</td>\n",
       "    </tr>\n",
       "    <tr>\n",
       "      <td>9</td>\n",
       "      <td>915325</td>\n",
       "      <td>226257</td>\n",
       "      <td>301556</td>\n",
       "      <td>298122</td>\n",
       "      <td>67858</td>\n",
       "      <td>90295</td>\n",
       "    </tr>\n",
       "  </tbody>\n",
       "</table>\n",
       "</div>"
      ],
      "text/plain": [
       "           Fresh    Milk  Grocery  Frozen  Detergents_Paper  Delicassen\n",
       "Cluster                                                                \n",
       "0         128015  217303   307361   13180            149871       13544\n",
       "1         149716  439903   720044   64352            298183       56863\n",
       "2         876471   77116    90718  148598             15655       46631\n",
       "3        1166587  178031   244924  256450             58257       82625\n",
       "4        1064238  230115   296276  187112             60555       96075\n",
       "5         144907  316947   456320   31732            213919       49929\n",
       "6         219984  239294   278709  178366             74446       71636\n",
       "7         320702  543930   744625   95229            322397      103528\n",
       "8         294186   81461    58029   78509              6716       59817\n",
       "9         915325  226257   301556  298122             67858       90295"
      ]
     },
     "execution_count": 14,
     "metadata": {},
     "output_type": "execute_result"
    }
   ],
   "source": [
    "data.drop([\"Region\", \"Channel\"],axis=1).groupby(\"Cluster\").sum()"
   ]
  },
  {
   "cell_type": "markdown",
   "metadata": {},
   "source": [
    "Cluster 3, 4の顧客はFreshの購入が多い。  \n",
    "Cluster 1, 7の顧客はMilkの購入が多い。"
   ]
  }
 ],
 "metadata": {
  "kernelspec": {
   "display_name": "Python 3",
   "language": "python",
   "name": "python3"
  },
  "language_info": {
   "codemirror_mode": {
    "name": "ipython",
    "version": 3
   },
   "file_extension": ".py",
   "mimetype": "text/x-python",
   "name": "python",
   "nbconvert_exporter": "python",
   "pygments_lexer": "ipython3",
   "version": "3.7.4"
  }
 },
 "nbformat": 4,
 "nbformat_minor": 4
}
